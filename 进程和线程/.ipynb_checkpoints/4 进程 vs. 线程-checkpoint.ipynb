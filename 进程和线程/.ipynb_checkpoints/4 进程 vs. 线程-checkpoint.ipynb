{
 "cells": [
  {
   "cell_type": "markdown",
   "id": "2bc65379",
   "metadata": {},
   "source": [
    "多任务会设计成master-worker模式，master负责分配任务，worker负责执行任务。\n",
    "\n",
    "如果是多进程实现，主进程是master，其他进程是worker。\n",
    "如果是多线程实现，主线程是master，其他线程是worker。\n",
    "\n",
    "进程：\n",
    "优点是稳定性高，一个进程奔溃了，不会影响其他进程。（主要主进程挂了，进程会全挂）\n",
    "缺点是创建代价大，创建过多，系统甚至很难调度。\n",
    "\n",
    "多线程会比多进程稍微快一点，但是有限。但是任何一个线程奔溃都会导致该进程奔溃。"
   ]
  },
  {
   "cell_type": "markdown",
   "id": "78e97541",
   "metadata": {},
   "source": [
    "#### 线程、进程切换\n",
    "\n",
    "无论是多进程还是多线程，如果数量太多，效率肯定上不去，因为数量太多导致切换损耗提高，会消耗太多的资源。"
   ]
  },
  {
   "cell_type": "markdown",
   "id": "a8dad0b3",
   "metadata": {},
   "source": [
    "#### 计算密集型 VS IO密集型\n",
    "\n",
    "是否采用多任务第二个考虑的是任务的类型，可以把任务分为计算密集型和IO密集型\n",
    "\n",
    "计算密集型任务的特点是进行大量的计算，消耗CPU资源，比如计算圆周率、对视频进行高清解码等。但是如果任务过多，会造成CPU执行任务的效率低，所以多任务的数量应该等于CPU的核心数。\n",
    "\n",
    "IO密集型，涉及到网络和磁盘IO的任务，这类任务CPU消耗少，任务主要时间是在等IO操作，CPU和内存的操作时间远高于IO。这样，在一定程度内，任务越多，CPU效率越高，但也有一个限度。常见的大部分任务都是IO密集型任务，比如Web应用。\n",
    "\n",
    "IO任务，最好用开发效率最高的语言（代码量最少）的语言，脚本语言是首选，C语言最差。"
   ]
  },
  {
   "cell_type": "markdown",
   "id": "50ffd98c",
   "metadata": {},
   "source": [
    "#### 异步IO\n",
    "\n",
    "  考虑CPU和IO之间巨大的速度差异，一个任务在执行的过程中大部分时间都在等待IO操作，单进程单线程模型会导致别的任务无法并行执行。\n",
    "  \n",
    "  但是操作系统对IO操作已经做了巨大的改进，最大的特点就是支持异步IO，可以用单进程和单线程执行多任务。\n",
    "  \n",
    "  这种全新的模型称为事件驱动模型，Nginx就是支持异步IO的Web服务器，它在单核CPU上采用单进程模型就可以高效地支持多任务。在多核CPU上，可以运行多个进程（数量与CPU核心数相同），充分利用多核CPU。由于系统总的进程数量十分有限，因此操作系统调度非常高效。用异步IO编程模型来实现多任务是一个主要的趋势。\n",
    "  \n",
    "  对应到Python语言，单线程的异步编程模型称为协程，有了协程的支持，就可以基于事件驱动编写高效的多任务程序。我们会在后面讨论如何编写协程。"
   ]
  },
  {
   "cell_type": "code",
   "execution_count": null,
   "id": "ff392d4d",
   "metadata": {},
   "outputs": [],
   "source": []
  }
 ],
 "metadata": {
  "kernelspec": {
   "display_name": "Python 3",
   "language": "python",
   "name": "python3"
  },
  "language_info": {
   "codemirror_mode": {
    "name": "ipython",
    "version": 3
   },
   "file_extension": ".py",
   "mimetype": "text/x-python",
   "name": "python",
   "nbconvert_exporter": "python",
   "pygments_lexer": "ipython3",
   "version": "3.8.8"
  }
 },
 "nbformat": 4,
 "nbformat_minor": 5
}
