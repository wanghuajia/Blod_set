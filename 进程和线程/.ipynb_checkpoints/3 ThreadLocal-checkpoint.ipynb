{
 "cells": [
  {
   "cell_type": "code",
   "execution_count": null,
   "id": "36c7968b",
   "metadata": {},
   "outputs": [],
   "source": []
  },
  {
   "cell_type": "code",
   "execution_count": 1,
   "id": "dd8df251",
   "metadata": {},
   "outputs": [
    {
     "name": "stdout",
     "output_type": "stream",
     "text": [
      "Hello, alice is in thread-a\n",
      "Hello, bovb is in thread-b\n"
     ]
    }
   ],
   "source": [
    "import threading\n",
    "\n",
    "local_school = threading.local()\n",
    "\n",
    "def process_student():\n",
    "    std = local_school.student\n",
    "    print( \"Hello, %s is in %s\"%(std, threading.current_thread().name) )\n",
    "    \n",
    "def thread_process(name):\n",
    "    local_school.student = name\n",
    "    process_student()\n",
    "    \n",
    "t1 = threading.Thread(target=thread_process, args=(\"alice\",), name=\"thread-a\")\n",
    "t2 = threading.Thread(target=thread_process, args=(\"bovb\",), name=\"thread-b\")\n",
    "t1.start()\n",
    "t2.start()\n",
    "t1.join()\n",
    "t2.join()"
   ]
  },
  {
   "cell_type": "markdown",
   "id": "87e66568",
   "metadata": {},
   "source": [
    "全局变量local_school就是一个Threadlocal对象，每个Thread对它都可以读写student属性，但互相不影响。\n",
    "\n",
    "可以理解全局变量local是一个dict，不但可以用local.student，还可以绑定其他变量，如local_school.teacher等等。\n",
    "\n",
    "#### 小结\n",
    "\n",
    "一个Threadlocal变量虽然是全局变量，但每个线程只能读取自己的副本，互不干扰，解决了参数在一个线程中各个函数之间互相传递的问题。"
   ]
  },
  {
   "cell_type": "code",
   "execution_count": null,
   "id": "9c88a42b",
   "metadata": {},
   "outputs": [],
   "source": []
  }
 ],
 "metadata": {
  "kernelspec": {
   "display_name": "Python 3",
   "language": "python",
   "name": "python3"
  },
  "language_info": {
   "codemirror_mode": {
    "name": "ipython",
    "version": 3
   },
   "file_extension": ".py",
   "mimetype": "text/x-python",
   "name": "python",
   "nbconvert_exporter": "python",
   "pygments_lexer": "ipython3",
   "version": "3.8.8"
  }
 },
 "nbformat": 4,
 "nbformat_minor": 5
}
