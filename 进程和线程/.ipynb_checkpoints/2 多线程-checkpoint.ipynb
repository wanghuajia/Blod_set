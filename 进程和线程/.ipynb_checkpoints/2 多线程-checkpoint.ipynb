{
 "cells": [
  {
   "cell_type": "markdown",
   "id": "a012bc04",
   "metadata": {},
   "source": [
    "由于线程是操作系统直接支持的执行单元。\n",
    "\n",
    "python的标准库只提供两个模块：_thread和threading，_thread是低级模块，threading是高级模块，对_threading进行了封装。"
   ]
  },
  {
   "cell_type": "code",
   "execution_count": 5,
   "id": "c7320ccd",
   "metadata": {},
   "outputs": [
    {
     "name": "stdout",
     "output_type": "stream",
     "text": [
      "thread MainThread is running\n",
      "thread loopthread is running\n",
      "thread loopthread is running\n",
      "thread loopthread is running\n",
      "thread loopthread is running\n",
      "thread loopthread is running\n",
      "thread loopthread is running\n",
      "thread loopthread is end\n",
      "thread MainThread is end\n"
     ]
    }
   ],
   "source": [
    "import time, threading\n",
    "import os\n",
    "\n",
    "def loop():\n",
    "    print('thread %s is running'%(threading.current_thread().name))\n",
    "    n = 0\n",
    "    while n<5:\n",
    "        print('thread %s is running' % (threading.current_thread().name))\n",
    "        n+=1\n",
    "        time.sleep(1)\n",
    "    print('thread %s is end' %(threading.current_thread().name))\n",
    "\n",
    "print('thread %s is running'%(threading.current_thread().name))\n",
    "t = threading.Thread(target = loop, name=\"loopthread\")\n",
    "t.start()\n",
    "t.join()\n",
    "print('thread %s is end' %(threading.current_thread().name))"
   ]
  },
  {
   "cell_type": "code",
   "execution_count": 5,
   "id": "4572bc42",
   "metadata": {},
   "outputs": [
    {
     "name": "stdout",
     "output_type": "stream",
     "text": [
      "0\n"
     ]
    }
   ],
   "source": [
    "import time, threading\n",
    "\n",
    "balance = 0\n",
    "lock = threading.Lock()\n",
    "\n",
    "def change_it(n):\n",
    "    global balance\n",
    "    balance = balance + n\n",
    "    balance = balance - n\n",
    "\n",
    "def run_thread(n):\n",
    "    for i in range(2000000):\n",
    "        lock.acquire()\n",
    "        try:\n",
    "            change_it(n)\n",
    "        finally:\n",
    "            lock.release()\n",
    "\n",
    "t1 = threading.Thread(target=run_thread, args=(5, ), name=\"thread1\")\n",
    "t2 = threading.Thread(target=run_thread, args=(8, ), name=\"thread2\")\n",
    "t1.start()\n",
    "t2.start()\n",
    "t1.join()\n",
    "t2.join()\n",
    "print(balance)"
   ]
  },
  {
   "cell_type": "markdown",
   "id": "46b00511",
   "metadata": {},
   "source": [
    "#### 小结\n",
    "\n",
    "多线程编程，模型复杂，容易起冲突，必须用锁来隔离，但是要小心死锁\n",
    "\n",
    "另外python解释器设计时有GIL全局锁，导致多线程无法利用多核，多核的并发在python中就是个美梦了"
   ]
  },
  {
   "cell_type": "code",
   "execution_count": null,
   "id": "6180b881",
   "metadata": {},
   "outputs": [],
   "source": []
  }
 ],
 "metadata": {
  "kernelspec": {
   "display_name": "Python 3",
   "language": "python",
   "name": "python3"
  },
  "language_info": {
   "codemirror_mode": {
    "name": "ipython",
    "version": 3
   },
   "file_extension": ".py",
   "mimetype": "text/x-python",
   "name": "python",
   "nbconvert_exporter": "python",
   "pygments_lexer": "ipython3",
   "version": "3.8.8"
  }
 },
 "nbformat": 4,
 "nbformat_minor": 5
}
