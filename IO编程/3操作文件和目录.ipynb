{
 "cells": [
  {
   "cell_type": "markdown",
   "id": "e66999f4",
   "metadata": {},
   "source": [
    "python内置的os模块可以直接调用操作系统提供的接口函数"
   ]
  },
  {
   "cell_type": "code",
   "execution_count": 1,
   "id": "617d0174",
   "metadata": {},
   "outputs": [
    {
     "name": "stdout",
     "output_type": "stream",
     "text": [
      "nt\n"
     ]
    }
   ],
   "source": [
    "import os\n",
    "\n",
    "print(os.name)"
   ]
  },
  {
   "cell_type": "code",
   "execution_count": 2,
   "id": "bb5a392d",
   "metadata": {},
   "outputs": [
    {
     "ename": "AttributeError",
     "evalue": "module 'os' has no attribute 'uname'",
     "output_type": "error",
     "traceback": [
      "\u001b[1;31m---------------------------------------------------------------------------\u001b[0m",
      "\u001b[1;31mAttributeError\u001b[0m                            Traceback (most recent call last)",
      "\u001b[1;32m<ipython-input-2-dc3d352b2d7d>\u001b[0m in \u001b[0;36m<module>\u001b[1;34m\u001b[0m\n\u001b[1;32m----> 1\u001b[1;33m \u001b[0mos\u001b[0m\u001b[1;33m.\u001b[0m\u001b[0muname\u001b[0m\u001b[1;33m(\u001b[0m\u001b[1;33m)\u001b[0m\u001b[1;33m\u001b[0m\u001b[1;33m\u001b[0m\u001b[0m\n\u001b[0m",
      "\u001b[1;31mAttributeError\u001b[0m: module 'os' has no attribute 'uname'"
     ]
    }
   ],
   "source": [
    "os.uname()"
   ]
  },
  {
   "cell_type": "markdown",
   "id": "32e25a75",
   "metadata": {},
   "source": [
    "#### BytesIO\n",
    "\n",
    "StringIO操作的是str，如果是操作二进制数据，只能使用BytesIO。类似操作"
   ]
  },
  {
   "cell_type": "code",
   "execution_count": 3,
   "id": "cba064b6",
   "metadata": {},
   "outputs": [
    {
     "data": {
      "text/plain": [
       "environ{'ALLUSERSPROFILE': 'C:\\\\ProgramData',\n",
       "        'APPDATA': 'C:\\\\Users\\\\Administrator\\\\AppData\\\\Roaming',\n",
       "        'APPLICATION_INSIGHTS_NO_DIAGNOSTIC_CHANNEL': 'true',\n",
       "        'CHROME_CRASHPAD_PIPE_NAME': '\\\\\\\\.\\\\pipe\\\\crashpad_1524_NBAUPRJIOQEXSFAP',\n",
       "        'COMMONPROGRAMFILES': 'C:\\\\Program Files\\\\Common Files',\n",
       "        'COMMONPROGRAMFILES(X86)': 'C:\\\\Program Files (x86)\\\\Common Files',\n",
       "        'COMMONPROGRAMW6432': 'C:\\\\Program Files\\\\Common Files',\n",
       "        'COMPUTERNAME': 'Pc-202104161325',\n",
       "        'COMSPEC': 'C:\\\\Windows\\\\system32\\\\cmd.exe',\n",
       "        'CONDA_DEFAULT_ENV': 'yolov5',\n",
       "        'CONDA_EXE': 'D:\\\\Anaconda3\\\\Scripts\\\\conda.exe',\n",
       "        'CONDA_PREFIX': 'D:\\\\Anaconda3\\\\envs\\\\yolov5',\n",
       "        'CONDA_PREFIX_1': 'D:\\\\Anaconda3',\n",
       "        'CONDA_PROMPT_MODIFIER': '(yolov5) ',\n",
       "        'CONDA_PYTHON_EXE': 'D:\\\\Anaconda3\\\\python.exe',\n",
       "        'CONDA_SHLVL': '2',\n",
       "        'DRIVERDATA': 'C:\\\\Windows\\\\System32\\\\Drivers\\\\DriverData',\n",
       "        'ELECTRON_RUN_AS_NODE': '1',\n",
       "        'HOMEDRIVE': 'C:',\n",
       "        'HOMEPATH': '\\\\Users\\\\Administrator',\n",
       "        'LOCALAPPDATA': 'C:\\\\Users\\\\Administrator\\\\AppData\\\\Local',\n",
       "        'LOGONSERVER': '\\\\\\\\Pc-202104161325',\n",
       "        'NUMBER_OF_PROCESSORS': '8',\n",
       "        'ORIGINAL_XDG_CURRENT_DESKTOP': 'undefined',\n",
       "        'OS': 'Windows_NT',\n",
       "        'PATH': 'D:\\\\Anaconda3\\\\envs\\\\yolov5;D:\\\\Anaconda3\\\\envs\\\\yolov5\\\\Library\\\\mingw-w64\\\\bin;D:\\\\Anaconda3\\\\envs\\\\yolov5\\\\Library\\\\usr\\\\bin;D:\\\\Anaconda3\\\\envs\\\\yolov5\\\\Library\\\\bin;D:\\\\Anaconda3\\\\envs\\\\yolov5\\\\Scripts;D:\\\\Anaconda3\\\\envs\\\\yolov5\\\\bin;D:\\\\Anaconda3\\\\condabin;D:\\\\Anaconda3;D:\\\\Anaconda3\\\\Library\\\\mingw-w64\\\\bin;D:\\\\Anaconda3\\\\Library\\\\usr\\\\bin;D:\\\\Anaconda3\\\\Library\\\\bin;D:\\\\Anaconda3\\\\Scripts;C:\\\\Windows\\\\system32;C:\\\\Windows;C:\\\\Windows\\\\System32\\\\Wbem;C:\\\\Windows\\\\System32\\\\WindowsPowerShell\\\\v1.0;C:\\\\Windows\\\\System32\\\\OpenSSH;D:\\\\Git\\\\cmd;D:\\\\TortoiseGit\\\\bin;D:\\\\Xshell7;F:\\\\CTproject\\\\software\\\\ITK-SNAP 3.8\\\\bin;C:\\\\Users\\\\Administrator\\\\AppData\\\\Local\\\\Microsoft\\\\WindowsApps;.;D:\\\\Microsoft VS Code\\\\bin',\n",
       "        'PATHEXT': '.COM;.EXE;.BAT;.CMD;.VBS;.VBE;.JS;.JSE;.WSF;.WSH;.MSC',\n",
       "        'PROCESSOR_ARCHITECTURE': 'AMD64',\n",
       "        'PROCESSOR_IDENTIFIER': 'Intel64 Family 6 Model 165 Stepping 3, GenuineIntel',\n",
       "        'PROCESSOR_LEVEL': '6',\n",
       "        'PROCESSOR_REVISION': 'a503',\n",
       "        'PROGRAMDATA': 'C:\\\\ProgramData',\n",
       "        'PROGRAMFILES': 'C:\\\\Program Files',\n",
       "        'PROGRAMFILES(X86)': 'C:\\\\Program Files (x86)',\n",
       "        'PROGRAMW6432': 'C:\\\\Program Files',\n",
       "        'PROMPT': '(yolov5) $P$G',\n",
       "        'PSMODULEPATH': 'C:\\\\Program Files\\\\WindowsPowerShell\\\\Modules;C:\\\\Windows\\\\system32\\\\WindowsPowerShell\\\\v1.0\\\\Modules',\n",
       "        'PUBLIC': 'C:\\\\Users\\\\Public',\n",
       "        'PYTHONIOENCODING': 'utf-8',\n",
       "        'PYTHONPATH': 'c:\\\\Users\\\\Administrator\\\\.vscode\\\\extensions\\\\ms-toolsai.jupyter-2021.10.1101450599\\\\pythonFiles;c:\\\\Users\\\\Administrator\\\\.vscode\\\\extensions\\\\ms-toolsai.jupyter-2021.10.1101450599\\\\pythonFiles\\\\lib\\\\python',\n",
       "        'PYTHONUNBUFFERED': '1',\n",
       "        'SESSIONNAME': 'Console',\n",
       "        'SYSTEMDRIVE': 'C:',\n",
       "        'SYSTEMROOT': 'C:\\\\Windows',\n",
       "        'TEMP': 'C:\\\\Users\\\\ADMINI~1\\\\AppData\\\\Local\\\\Temp',\n",
       "        'TMP': 'C:\\\\Users\\\\ADMINI~1\\\\AppData\\\\Local\\\\Temp',\n",
       "        'USERDOMAIN': 'Pc-202104161325',\n",
       "        'USERDOMAIN_ROAMINGPROFILE': 'Pc-202104161325',\n",
       "        'USERNAME': 'Administrator',\n",
       "        'USERPROFILE': 'C:\\\\Users\\\\Administrator',\n",
       "        'VSCODE_AMD_ENTRYPOINT': 'vs/workbench/services/extensions/node/extensionHostProcess',\n",
       "        'VSCODE_CODE_CACHE_PATH': 'C:\\\\Users\\\\Administrator\\\\AppData\\\\Roaming\\\\Code\\\\CachedData\\\\3a6960b964327f0e3882ce18fcebd07ed191b316',\n",
       "        'VSCODE_CWD': 'D:\\\\Microsoft VS Code',\n",
       "        'VSCODE_HANDLES_UNCAUGHT_ERRORS': 'true',\n",
       "        'VSCODE_IPC_HOOK': '\\\\\\\\.\\\\pipe\\\\9e7283c68e6159fd1e9872b65f264be5-1.62.2-main-sock',\n",
       "        'VSCODE_IPC_HOOK_EXTHOST': '\\\\\\\\.\\\\pipe\\\\vscode-ipc-4eaa6fad-8b73-47e8-9054-4e56adad7814-sock',\n",
       "        'VSCODE_LOG_NATIVE': 'false',\n",
       "        'VSCODE_LOG_STACK': 'false',\n",
       "        'VSCODE_NLS_CONFIG': '{\"locale\":\"zh-cn\",\"availableLanguages\":{\"*\":\"zh-cn\"},\"_languagePackId\":\"6d1f187483a1f5610e666c4a6e996ddc.zh-cn\",\"_translationsConfigFile\":\"C:\\\\\\\\Users\\\\\\\\Administrator\\\\\\\\AppData\\\\\\\\Roaming\\\\\\\\Code\\\\\\\\clp\\\\\\\\6d1f187483a1f5610e666c4a6e996ddc.zh-cn\\\\\\\\tcf.json\",\"_cacheRoot\":\"C:\\\\\\\\Users\\\\\\\\Administrator\\\\\\\\AppData\\\\\\\\Roaming\\\\\\\\Code\\\\\\\\clp\\\\\\\\6d1f187483a1f5610e666c4a6e996ddc.zh-cn\",\"_resolvedLanguagePackCoreLocation\":\"C:\\\\\\\\Users\\\\\\\\Administrator\\\\\\\\AppData\\\\\\\\Roaming\\\\\\\\Code\\\\\\\\clp\\\\\\\\6d1f187483a1f5610e666c4a6e996ddc.zh-cn\\\\\\\\3a6960b964327f0e3882ce18fcebd07ed191b316\",\"_corruptedFile\":\"C:\\\\\\\\Users\\\\\\\\Administrator\\\\\\\\AppData\\\\\\\\Roaming\\\\\\\\Code\\\\\\\\clp\\\\\\\\6d1f187483a1f5610e666c4a6e996ddc.zh-cn\\\\\\\\corrupted.info\",\"_languagePackSupport\":true}',\n",
       "        'VSCODE_PID': '1524',\n",
       "        'VSCODE_PIPE_LOGGING': 'true',\n",
       "        'VSCODE_VERBOSE_LOGGING': 'true',\n",
       "        'WINDIR': 'C:\\\\Windows',\n",
       "        'JPY_INTERRUPT_EVENT': '460',\n",
       "        'IPY_INTERRUPT_EVENT': '460',\n",
       "        'JPY_PARENT_PID': '472',\n",
       "        'TERM': 'xterm-color',\n",
       "        'CLICOLOR': '1',\n",
       "        'PAGER': 'cat',\n",
       "        'GIT_PAGER': 'cat',\n",
       "        'MPLBACKEND': 'module://ipykernel.pylab.backend_inline'}"
      ]
     },
     "execution_count": 3,
     "metadata": {},
     "output_type": "execute_result"
    }
   ],
   "source": [
    "os.environ"
   ]
  },
  {
   "cell_type": "code",
   "execution_count": 5,
   "id": "85318bcd",
   "metadata": {},
   "outputs": [
    {
     "data": {
      "text/plain": [
       "'D:\\\\Anaconda3\\\\envs\\\\yolov5;D:\\\\Anaconda3\\\\envs\\\\yolov5\\\\Library\\\\mingw-w64\\\\bin;D:\\\\Anaconda3\\\\envs\\\\yolov5\\\\Library\\\\usr\\\\bin;D:\\\\Anaconda3\\\\envs\\\\yolov5\\\\Library\\\\bin;D:\\\\Anaconda3\\\\envs\\\\yolov5\\\\Scripts;D:\\\\Anaconda3\\\\envs\\\\yolov5\\\\bin;D:\\\\Anaconda3\\\\condabin;D:\\\\Anaconda3;D:\\\\Anaconda3\\\\Library\\\\mingw-w64\\\\bin;D:\\\\Anaconda3\\\\Library\\\\usr\\\\bin;D:\\\\Anaconda3\\\\Library\\\\bin;D:\\\\Anaconda3\\\\Scripts;C:\\\\Windows\\\\system32;C:\\\\Windows;C:\\\\Windows\\\\System32\\\\Wbem;C:\\\\Windows\\\\System32\\\\WindowsPowerShell\\\\v1.0;C:\\\\Windows\\\\System32\\\\OpenSSH;D:\\\\Git\\\\cmd;D:\\\\TortoiseGit\\\\bin;D:\\\\Xshell7;F:\\\\CTproject\\\\software\\\\ITK-SNAP 3.8\\\\bin;C:\\\\Users\\\\Administrator\\\\AppData\\\\Local\\\\Microsoft\\\\WindowsApps;.;D:\\\\Microsoft VS Code\\\\bin'"
      ]
     },
     "execution_count": 5,
     "metadata": {},
     "output_type": "execute_result"
    }
   ],
   "source": [
    "os.environ['PATH']"
   ]
  },
  {
   "cell_type": "code",
   "execution_count": 6,
   "id": "06fa65b4",
   "metadata": {},
   "outputs": [
    {
     "data": {
      "text/plain": [
       "'e:\\\\code\\\\personal\\\\Blod_set\\\\IO编程'"
      ]
     },
     "execution_count": 6,
     "metadata": {},
     "output_type": "execute_result"
    }
   ],
   "source": [
    "os.path.abspath('.')"
   ]
  },
  {
   "cell_type": "code",
   "execution_count": 8,
   "id": "151d0651",
   "metadata": {},
   "outputs": [
    {
     "data": {
      "text/plain": [
       "('E:\\\\code\\\\personal\\\\Blod_set\\\\IO编程', 'test.txt')"
      ]
     },
     "execution_count": 8,
     "metadata": {},
     "output_type": "execute_result"
    }
   ],
   "source": [
    "os.path.split(r'E:\\code\\personal\\Blod_set\\IO编程\\test.txt')"
   ]
  },
  {
   "cell_type": "code",
   "execution_count": 9,
   "id": "600779cf",
   "metadata": {},
   "outputs": [
    {
     "data": {
      "text/plain": [
       "('E:\\\\code\\\\personal\\\\Blod_set\\\\IO编程\\\\test', '.txt')"
      ]
     },
     "execution_count": 9,
     "metadata": {},
     "output_type": "execute_result"
    }
   ],
   "source": [
    "os.path.splitext(r'E:\\code\\personal\\Blod_set\\IO编程\\test.txt')"
   ]
  },
  {
   "cell_type": "code",
   "execution_count": 10,
   "id": "166a1d64",
   "metadata": {},
   "outputs": [
    {
     "data": {
      "text/plain": [
       "['.ipynb_checkpoints']"
      ]
     },
     "execution_count": 10,
     "metadata": {},
     "output_type": "execute_result"
    }
   ],
   "source": [
    "[x for x in os.listdir('.') if os.path.isdir(x)]"
   ]
  },
  {
   "cell_type": "code",
   "execution_count": 11,
   "id": "057c1d71",
   "metadata": {},
   "outputs": [
    {
     "data": {
      "text/plain": [
       "['1文件读写.ipynb', '2StringIO和BytesIO.ipynb', '3操作文件和目录.ipynb']"
      ]
     },
     "execution_count": 11,
     "metadata": {},
     "output_type": "execute_result"
    }
   ],
   "source": [
    "[x for x in os.listdir('.') if os.path.isfile(x) and os.path.splitext(x)[1] =='.ipynb' ]"
   ]
  },
  {
   "cell_type": "code",
   "execution_count": null,
   "id": "880134c3",
   "metadata": {},
   "outputs": [],
   "source": []
  }
 ],
 "metadata": {
  "kernelspec": {
   "display_name": "Python 3",
   "language": "python",
   "name": "python3"
  },
  "language_info": {
   "codemirror_mode": {
    "name": "ipython",
    "version": 3
   },
   "file_extension": ".py",
   "mimetype": "text/x-python",
   "name": "python",
   "nbconvert_exporter": "python",
   "pygments_lexer": "ipython3",
   "version": "3.8.8"
  }
 },
 "nbformat": 4,
 "nbformat_minor": 5
}
