{
 "cells": [
  {
   "cell_type": "markdown",
   "id": "e66999f4",
   "metadata": {},
   "source": [
    "#### StringIO\n",
    "\n",
    "stringIO，就是在内存中读写str。\n",
    "\n",
    "需要先创建一个stringIO，然后像文件那样写入"
   ]
  },
  {
   "cell_type": "code",
   "execution_count": 1,
   "id": "617d0174",
   "metadata": {},
   "outputs": [
    {
     "name": "stdout",
     "output_type": "stream",
     "text": [
      "huajia hao\n"
     ]
    }
   ],
   "source": [
    "from io import StringIO\n",
    "\n",
    "f = StringIO()\n",
    "\n",
    "f.write(\"huajia\")\n",
    "f.write(\" \")\n",
    "f.write(\"hao\")\n",
    "\n",
    "print(f.getvalue())"
   ]
  },
  {
   "cell_type": "code",
   "execution_count": 4,
   "id": "bb5a392d",
   "metadata": {},
   "outputs": [
    {
     "name": "stdout",
     "output_type": "stream",
     "text": [
      "s: Hello!\n",
      "\n",
      "s: Hi!\n",
      "\n",
      "s: huajia\n"
     ]
    }
   ],
   "source": [
    "from io import StringIO\n",
    "\n",
    "f = StringIO(\"Hello!\\nHi!\\nhuajia\")\n",
    "while True:\n",
    "    s = f.readline()\n",
    "    if s=='':\n",
    "        break\n",
    "    print('s:', s)"
   ]
  },
  {
   "cell_type": "markdown",
   "id": "32e25a75",
   "metadata": {},
   "source": [
    "#### BytesIO\n",
    "\n",
    "StringIO操作的是str，如果是操作二进制数据，只能使用BytesIO。类似操作"
   ]
  },
  {
   "cell_type": "code",
   "execution_count": 5,
   "id": "cba064b6",
   "metadata": {},
   "outputs": [
    {
     "name": "stdout",
     "output_type": "stream",
     "text": [
      "b'\\xe4\\xb8\\xad\\xe6\\x96\\x87'\n"
     ]
    }
   ],
   "source": [
    "from io import BytesIO\n",
    "\n",
    "f = BytesIO()\n",
    "f.write('中文'.encode('utf-8'))\n",
    "print(f.getvalue())"
   ]
  },
  {
   "cell_type": "code",
   "execution_count": 6,
   "id": "85318bcd",
   "metadata": {},
   "outputs": [
    {
     "data": {
      "text/plain": [
       "b'\\xe4\\xb8\\xad\\xe6\\x96\\x87'"
      ]
     },
     "execution_count": 6,
     "metadata": {},
     "output_type": "execute_result"
    }
   ],
   "source": [
    "f = BytesIO(b'\\xe4\\xb8\\xad\\xe6\\x96\\x87')\n",
    "f.read()"
   ]
  },
  {
   "cell_type": "markdown",
   "id": "6b6851f2",
   "metadata": {},
   "source": []
  }
 ],
 "metadata": {
  "kernelspec": {
   "display_name": "Python 3",
   "language": "python",
   "name": "python3"
  },
  "language_info": {
   "codemirror_mode": {
    "name": "ipython",
    "version": 3
   },
   "file_extension": ".py",
   "mimetype": "text/x-python",
   "name": "python",
   "nbconvert_exporter": "python",
   "pygments_lexer": "ipython3",
   "version": "3.8.8"
  }
 },
 "nbformat": 4,
 "nbformat_minor": 5
}
