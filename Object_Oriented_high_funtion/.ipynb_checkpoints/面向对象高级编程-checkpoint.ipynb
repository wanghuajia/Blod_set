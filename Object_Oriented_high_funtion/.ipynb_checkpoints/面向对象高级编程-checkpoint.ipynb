{
 "cells": [
  {
   "cell_type": "markdown",
   "id": "2f2e9c94",
   "metadata": {},
   "source": [
    "数据封装、继承和多态是面向对象的基本特性，但是还有很多高级特性需要学习"
   ]
  },
  {
   "cell_type": "markdown",
   "id": "5e303638",
   "metadata": {},
   "source": [
    "## 使用__slots__"
   ]
  },
  {
   "cell_type": "markdown",
   "id": "7e6aa128",
   "metadata": {},
   "source": [
    "我们定义好class，创建对应的实例之后，可以给该实例绑定任何的属性和方法，这是动态语言的灵活性。"
   ]
  },
  {
   "cell_type": "code",
   "execution_count": 3,
   "id": "3d1ebd60",
   "metadata": {},
   "outputs": [],
   "source": [
    "class Student(object):\n",
    "    pass"
   ]
  },
  {
   "cell_type": "code",
   "execution_count": 6,
   "id": "9ab29271",
   "metadata": {},
   "outputs": [
    {
     "name": "stdout",
     "output_type": "stream",
     "text": [
      "25\n"
     ]
    }
   ],
   "source": [
    "def set_age(self, age):\n",
    "    self.age = age\n",
    "\n",
    "from types import MethodType \n",
    "\n",
    "s = Student()\n",
    "s.set_age = MethodType(set_age, s)\n",
    "s.set_age(25)\n",
    "print(s.age)"
   ]
  },
  {
   "cell_type": "code",
   "execution_count": 7,
   "id": "a0bf586c",
   "metadata": {},
   "outputs": [
    {
     "ename": "AttributeError",
     "evalue": "'Student' object has no attribute 'set_age'",
     "output_type": "error",
     "traceback": [
      "\u001b[1;31m---------------------------------------------------------------------------\u001b[0m",
      "\u001b[1;31mAttributeError\u001b[0m                            Traceback (most recent call last)",
      "\u001b[1;32m<ipython-input-7-9b0aac6414fe>\u001b[0m in \u001b[0;36m<module>\u001b[1;34m\u001b[0m\n\u001b[0;32m      1\u001b[0m \u001b[0ms2\u001b[0m \u001b[1;33m=\u001b[0m \u001b[0mStudent\u001b[0m\u001b[1;33m(\u001b[0m\u001b[1;33m)\u001b[0m\u001b[1;33m\u001b[0m\u001b[1;33m\u001b[0m\u001b[0m\n\u001b[1;32m----> 2\u001b[1;33m \u001b[0ms2\u001b[0m\u001b[1;33m.\u001b[0m\u001b[0mset_age\u001b[0m\u001b[1;33m(\u001b[0m\u001b[1;36m10\u001b[0m\u001b[1;33m)\u001b[0m\u001b[1;33m\u001b[0m\u001b[1;33m\u001b[0m\u001b[0m\n\u001b[0m",
      "\u001b[1;31mAttributeError\u001b[0m: 'Student' object has no attribute 'set_age'"
     ]
    }
   ],
   "source": [
    "s2 = Student()\n",
    "s2.set_age(10)"
   ]
  },
  {
   "cell_type": "code",
   "execution_count": 9,
   "id": "d2ba07b8",
   "metadata": {},
   "outputs": [],
   "source": [
    "def set_score(self, score):\n",
    "    self.score = score\n",
    "    \n",
    "Student.set_score = set_score"
   ]
  },
  {
   "cell_type": "code",
   "execution_count": 11,
   "id": "a28ca299",
   "metadata": {},
   "outputs": [
    {
     "data": {
      "text/plain": [
       "100"
      ]
     },
     "execution_count": 11,
     "metadata": {},
     "output_type": "execute_result"
    }
   ],
   "source": [
    "s.set_score(100)\n",
    "s.score"
   ]
  },
  {
   "cell_type": "code",
   "execution_count": 14,
   "id": "75ff0d94",
   "metadata": {},
   "outputs": [
    {
     "data": {
      "text/plain": [
       "99"
      ]
     },
     "execution_count": 14,
     "metadata": {},
     "output_type": "execute_result"
    }
   ],
   "source": [
    "s2.set_score(99)\n",
    "s2.score"
   ]
  },
  {
   "cell_type": "code",
   "execution_count": 19,
   "id": "a40aaa3a",
   "metadata": {},
   "outputs": [],
   "source": [
    "class Student(object):\n",
    "    __slots__ = ('name', 'age') # 用tuple定义允许绑定的属性名称"
   ]
  },
  {
   "cell_type": "code",
   "execution_count": 20,
   "id": "4a3b0c2b",
   "metadata": {},
   "outputs": [],
   "source": [
    "s = Student()\n",
    "s.age = 25\n",
    "s.score = 99"
   ]
  },
  {
   "cell_type": "code",
   "execution_count": 18,
   "id": "d59a6b69",
   "metadata": {},
   "outputs": [],
   "source": [
    "class GraduateStudent(Student):\n",
    "    pass\n",
    "g = GraduateStudent()\n",
    "g.score = 9999"
   ]
  },
  {
   "cell_type": "code",
   "execution_count": null,
   "id": "b2b29f7b",
   "metadata": {},
   "outputs": [],
   "source": []
  }
 ],
 "metadata": {
  "kernelspec": {
   "display_name": "Python 3",
   "language": "python",
   "name": "python3"
  },
  "language_info": {
   "codemirror_mode": {
    "name": "ipython",
    "version": 3
   },
   "file_extension": ".py",
   "mimetype": "text/x-python",
   "name": "python",
   "nbconvert_exporter": "python",
   "pygments_lexer": "ipython3",
   "version": "3.8.8"
  }
 },
 "nbformat": 4,
 "nbformat_minor": 5
}
