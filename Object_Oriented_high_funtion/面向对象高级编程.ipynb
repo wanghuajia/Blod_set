{
 "cells": [
  {
   "cell_type": "markdown",
   "id": "506f2172",
   "metadata": {},
   "source": [
    "数据封装、继承和多态是面向对象的基本特性，但是还有很多高级特性需要学习"
   ]
  },
  {
   "cell_type": "markdown",
   "id": "efcd4daf",
   "metadata": {},
   "source": [
    "## 使用__slots__"
   ]
  },
  {
   "cell_type": "markdown",
   "id": "ef41fd93",
   "metadata": {},
   "source": [
    "我们定义好class，创建对应的实例之后，可以给该实例绑定任何的属性和方法，这是动态语言的灵活性。"
   ]
  },
  {
   "cell_type": "code",
   "execution_count": 3,
   "id": "ac9637d8",
   "metadata": {},
   "outputs": [],
   "source": [
    "class Student(object):\n",
    "    pass"
   ]
  },
  {
   "cell_type": "code",
   "execution_count": 6,
   "id": "2d01af87",
   "metadata": {},
   "outputs": [
    {
     "name": "stdout",
     "output_type": "stream",
     "text": [
      "25\n"
     ]
    }
   ],
   "source": [
    "def set_age(self, age):\n",
    "    self.age = age\n",
    "\n",
    "from types import MethodType \n",
    "\n",
    "s = Student()\n",
    "s.set_age = MethodType(set_age, s)\n",
    "s.set_age(25)\n",
    "print(s.age)"
   ]
  },
  {
   "cell_type": "code",
   "execution_count": 7,
   "id": "b7f4258a",
   "metadata": {},
   "outputs": [
    {
     "ename": "AttributeError",
     "evalue": "'Student' object has no attribute 'set_age'",
     "output_type": "error",
     "traceback": [
      "\u001b[1;31m---------------------------------------------------------------------------\u001b[0m",
      "\u001b[1;31mAttributeError\u001b[0m                            Traceback (most recent call last)",
      "\u001b[1;32m<ipython-input-7-9b0aac6414fe>\u001b[0m in \u001b[0;36m<module>\u001b[1;34m\u001b[0m\n\u001b[0;32m      1\u001b[0m \u001b[0ms2\u001b[0m \u001b[1;33m=\u001b[0m \u001b[0mStudent\u001b[0m\u001b[1;33m(\u001b[0m\u001b[1;33m)\u001b[0m\u001b[1;33m\u001b[0m\u001b[1;33m\u001b[0m\u001b[0m\n\u001b[1;32m----> 2\u001b[1;33m \u001b[0ms2\u001b[0m\u001b[1;33m.\u001b[0m\u001b[0mset_age\u001b[0m\u001b[1;33m(\u001b[0m\u001b[1;36m10\u001b[0m\u001b[1;33m)\u001b[0m\u001b[1;33m\u001b[0m\u001b[1;33m\u001b[0m\u001b[0m\n\u001b[0m",
      "\u001b[1;31mAttributeError\u001b[0m: 'Student' object has no attribute 'set_age'"
     ]
    }
   ],
   "source": [
    "s2 = Student()\n",
    "s2.set_age(10)"
   ]
  },
  {
   "cell_type": "code",
   "execution_count": 9,
   "id": "77b1875c",
   "metadata": {},
   "outputs": [],
   "source": [
    "def set_score(self, score):\n",
    "    self.score = score\n",
    "    \n",
    "Student.set_score = set_score"
   ]
  },
  {
   "cell_type": "code",
   "execution_count": 11,
   "id": "5bc6f510",
   "metadata": {},
   "outputs": [
    {
     "data": {
      "text/plain": [
       "100"
      ]
     },
     "execution_count": 11,
     "metadata": {},
     "output_type": "execute_result"
    }
   ],
   "source": [
    "s.set_score(100)\n",
    "s.score"
   ]
  },
  {
   "cell_type": "code",
   "execution_count": 14,
   "id": "d51b9e52",
   "metadata": {},
   "outputs": [
    {
     "data": {
      "text/plain": [
       "99"
      ]
     },
     "execution_count": 14,
     "metadata": {},
     "output_type": "execute_result"
    }
   ],
   "source": [
    "s2.set_score(99)\n",
    "s2.score"
   ]
  },
  {
   "cell_type": "code",
   "execution_count": 23,
   "id": "621f392f",
   "metadata": {},
   "outputs": [],
   "source": [
    "class Student(object):\n",
    "    __slots__ = ('name', 'age')"
   ]
  },
  {
   "cell_type": "code",
   "execution_count": 24,
   "id": "b2e1b592",
   "metadata": {},
   "outputs": [
    {
     "ename": "AttributeError",
     "evalue": "'Student' object has no attribute 'score'",
     "output_type": "error",
     "traceback": [
      "\u001b[1;31m---------------------------------------------------------------------------\u001b[0m",
      "\u001b[1;31mAttributeError\u001b[0m                            Traceback (most recent call last)",
      "\u001b[1;32m<ipython-input-24-db186a8bf00b>\u001b[0m in \u001b[0;36m<module>\u001b[1;34m\u001b[0m\n\u001b[0;32m      1\u001b[0m \u001b[0ms\u001b[0m \u001b[1;33m=\u001b[0m \u001b[0mStudent\u001b[0m\u001b[1;33m(\u001b[0m\u001b[1;33m)\u001b[0m\u001b[1;33m\u001b[0m\u001b[1;33m\u001b[0m\u001b[0m\n\u001b[0;32m      2\u001b[0m \u001b[0ms\u001b[0m\u001b[1;33m.\u001b[0m\u001b[0mage\u001b[0m \u001b[1;33m=\u001b[0m \u001b[1;36m25\u001b[0m\u001b[1;33m\u001b[0m\u001b[1;33m\u001b[0m\u001b[0m\n\u001b[1;32m----> 3\u001b[1;33m \u001b[0ms\u001b[0m\u001b[1;33m.\u001b[0m\u001b[0mscore\u001b[0m \u001b[1;33m=\u001b[0m \u001b[1;36m99\u001b[0m\u001b[1;33m\u001b[0m\u001b[1;33m\u001b[0m\u001b[0m\n\u001b[0m",
      "\u001b[1;31mAttributeError\u001b[0m: 'Student' object has no attribute 'score'"
     ]
    }
   ],
   "source": [
    "s = Student()\n",
    "s.age = 25\n",
    "s.score = 99"
   ]
  },
  {
   "cell_type": "code",
   "execution_count": 25,
   "id": "50589f88",
   "metadata": {},
   "outputs": [],
   "source": [
    "class GraduateStudent(Student):\n",
    "    pass\n",
    "g = GraduateStudent()\n",
    "g.score = 9999"
   ]
  },
  {
   "cell_type": "markdown",
   "id": "b120d880",
   "metadata": {},
   "source": [
    "## 使用@property"
   ]
  },
  {
   "cell_type": "markdown",
   "id": "afb72c99",
   "metadata": {},
   "source": [
    "绑定属性的时候，如果我们直接把属性暴露出去，虽然写起来简单，但是没办法修改检查参数，导致属性可以随便改。\n",
    "这个时候可以用@property把方法变成属性\n",
    "把一个getter方法变成属性，只需要加上@property就可以了，此时，@property本身会创造另一个装饰器@score.setter，负责把一个setter方法变成属性赋值，具体操作如下"
   ]
  },
  {
   "cell_type": "code",
   "execution_count": 1,
   "id": "f798fa66",
   "metadata": {},
   "outputs": [],
   "source": [
    "class Student(object):\n",
    "\n",
    "    @property\n",
    "    def score(self):\n",
    "        return self._score\n",
    "    \n",
    "    @score.setter\n",
    "    def score(self, value):\n",
    "        if not isinstance(value, int):\n",
    "            raise ValueError('score must be an integer!')\n",
    "        if value < 0 or value > 100:\n",
    "            raise ValueError('score must be between 0~100')\n",
    "        self._score = value"
   ]
  },
  {
   "cell_type": "code",
   "execution_count": 2,
   "id": "5931e1ff",
   "metadata": {},
   "outputs": [
    {
     "ename": "ValueError",
     "evalue": "score must be between 0~100",
     "output_type": "error",
     "traceback": [
      "\u001b[1;31m---------------------------------------------------------------------------\u001b[0m",
      "\u001b[1;31mValueError\u001b[0m                                Traceback (most recent call last)",
      "\u001b[1;32m<ipython-input-2-ba21129f3d2d>\u001b[0m in \u001b[0;36m<module>\u001b[1;34m\u001b[0m\n\u001b[0;32m      1\u001b[0m \u001b[0ms\u001b[0m \u001b[1;33m=\u001b[0m \u001b[0mStudent\u001b[0m\u001b[1;33m(\u001b[0m\u001b[1;33m)\u001b[0m\u001b[1;33m\u001b[0m\u001b[1;33m\u001b[0m\u001b[0m\n\u001b[0;32m      2\u001b[0m \u001b[0ms\u001b[0m\u001b[1;33m.\u001b[0m\u001b[0mscore\u001b[0m \u001b[1;33m=\u001b[0m \u001b[1;36m60\u001b[0m\u001b[1;33m\u001b[0m\u001b[1;33m\u001b[0m\u001b[0m\n\u001b[1;32m----> 3\u001b[1;33m \u001b[0ms\u001b[0m\u001b[1;33m.\u001b[0m\u001b[0mscore\u001b[0m \u001b[1;33m=\u001b[0m \u001b[1;36m999\u001b[0m\u001b[1;33m\u001b[0m\u001b[1;33m\u001b[0m\u001b[0m\n\u001b[0m",
      "\u001b[1;32m<ipython-input-1-35abd9e9dbaa>\u001b[0m in \u001b[0;36mscore\u001b[1;34m(self, value)\u001b[0m\n\u001b[0;32m     10\u001b[0m             \u001b[1;32mraise\u001b[0m \u001b[0mValueError\u001b[0m\u001b[1;33m(\u001b[0m\u001b[1;34m'score must be an integer!'\u001b[0m\u001b[1;33m)\u001b[0m\u001b[1;33m\u001b[0m\u001b[1;33m\u001b[0m\u001b[0m\n\u001b[0;32m     11\u001b[0m         \u001b[1;32mif\u001b[0m \u001b[0mvalue\u001b[0m \u001b[1;33m<\u001b[0m \u001b[1;36m0\u001b[0m \u001b[1;32mor\u001b[0m \u001b[0mvalue\u001b[0m \u001b[1;33m>\u001b[0m \u001b[1;36m100\u001b[0m\u001b[1;33m:\u001b[0m\u001b[1;33m\u001b[0m\u001b[1;33m\u001b[0m\u001b[0m\n\u001b[1;32m---> 12\u001b[1;33m             \u001b[1;32mraise\u001b[0m \u001b[0mValueError\u001b[0m\u001b[1;33m(\u001b[0m\u001b[1;34m'score must be between 0~100'\u001b[0m\u001b[1;33m)\u001b[0m\u001b[1;33m\u001b[0m\u001b[1;33m\u001b[0m\u001b[0m\n\u001b[0m\u001b[0;32m     13\u001b[0m         \u001b[0mself\u001b[0m\u001b[1;33m.\u001b[0m\u001b[0m_score\u001b[0m \u001b[1;33m=\u001b[0m \u001b[0mvalue\u001b[0m\u001b[1;33m\u001b[0m\u001b[1;33m\u001b[0m\u001b[0m\n",
      "\u001b[1;31mValueError\u001b[0m: score must be between 0~100"
     ]
    }
   ],
   "source": [
    "s = Student()\n",
    "s.score = 60\n",
    "s.score = 999"
   ]
  },
  {
   "cell_type": "markdown",
   "id": "531d6519",
   "metadata": {},
   "source": [
    "可以只定义getter方法，不定义setter方法，这样就是一个只读属性\n",
    "另外需要注意属性的方法名和实例变量名不要重名"
   ]
  },
  {
   "cell_type": "code",
   "execution_count": 4,
   "id": "e403fe5f",
   "metadata": {},
   "outputs": [],
   "source": [
    "class Student(object):\n",
    "\n",
    "    # 方法名称和实例变量均为birth:\n",
    "    @property\n",
    "    def birth(self):\n",
    "        return self.birth ## 错误示范"
   ]
  },
  {
   "cell_type": "markdown",
   "id": "4280b9f3",
   "metadata": {},
   "source": [
    "#### 小结\n",
    "@property 广泛应用在类的定义中，可以让调用者写出简短的代码，同时保证对参数进行必要的检查，这样程序运行可以减少出错的可能性。"
   ]
  },
  {
   "cell_type": "markdown",
   "id": "d929885f",
   "metadata": {},
   "source": [
    "## 多重继承"
   ]
  },
  {
   "cell_type": "code",
   "execution_count": 1,
   "id": "1a2f8529",
   "metadata": {},
   "outputs": [],
   "source": [
    "class Animal(object):\n",
    "    pass\n",
    "\n",
    "class Mammal(Animal): # 哺乳类\n",
    "    pass\n",
    "\n",
    "class Bird(Animal):  # 鸟类\n",
    "    pass\n",
    "\n",
    "class Dog(Mammal):\n",
    "    pass\n",
    "\n",
    "class Bat(Mammal):\n",
    "    pass\n",
    "\n",
    "class Parrot(Bird):\n",
    "    pass\n",
    "\n",
    "class Ostrich(Bird):\n",
    "    pass"
   ]
  },
  {
   "cell_type": "markdown",
   "id": "f1f706c9",
   "metadata": {},
   "source": [
    "现在，我们要给动物再加上Runnale和Flyable的功能，只需要先定义好Runnable和Flyable的类："
   ]
  },
  {
   "cell_type": "code",
   "execution_count": 4,
   "id": "47cb3a6e",
   "metadata": {},
   "outputs": [],
   "source": [
    "class Runnable(object):\n",
    "    def run(self):\n",
    "        print(\"Running...\")\n",
    "\n",
    "class Flyable(object):\n",
    "    def fly(self):\n",
    "        print(\"Flying...\")"
   ]
  },
  {
   "cell_type": "markdown",
   "id": "5f245963",
   "metadata": {},
   "source": [
    "对于需要Runnale功能的动物，就多继承Runnale，例如Dog"
   ]
  },
  {
   "cell_type": "code",
   "execution_count": 6,
   "id": "3969f8fa",
   "metadata": {},
   "outputs": [],
   "source": [
    "class Dog(Mammal, Runnable):\n",
    "    pass"
   ]
  },
  {
   "cell_type": "markdown",
   "id": "4f4163dc",
   "metadata": {},
   "source": [
    "对于需要Flyable功能的动物，就多继承一个Flyable，例如Bat"
   ]
  },
  {
   "cell_type": "code",
   "execution_count": 7,
   "id": "374fa9a4",
   "metadata": {},
   "outputs": [],
   "source": [
    "class Bat(Mammal, Flyable):\n",
    "    pass"
   ]
  },
  {
   "cell_type": "markdown",
   "id": "f3dffbac",
   "metadata": {},
   "source": [
    "通过多重继承，一个子类就可以同时获得多个父类的所有功能"
   ]
  },
  {
   "cell_type": "markdown",
   "id": "cfb0f74e",
   "metadata": {},
   "source": [
    "#### Mixln\n",
    "\n",
    "在设计类的继承关系时，通常，主线都是单一继承下来的，例如，Ostrich继承自Bird。但是，如果需要“混入”额外的功能，可以继承Runnable。这种设计通常称之为Mixin。"
   ]
  },
  {
   "cell_type": "markdown",
   "id": "c9c0f8c3",
   "metadata": {},
   "source": [
    "## 定制类\n",
    "\n",
    "形如 \\__xxx\\__ 的变量或者函数名就要注意，这些在python当中有特殊用途的。"
   ]
  },
  {
   "cell_type": "markdown",
   "id": "e52b57d5",
   "metadata": {},
   "source": [
    "#### \\__str\\__"
   ]
  },
  {
   "cell_type": "markdown",
   "id": "1988d8c9",
   "metadata": {},
   "source": [
    "我们先定义一个student类，打印一个实例："
   ]
  },
  {
   "cell_type": "code",
   "execution_count": 9,
   "id": "6d976540",
   "metadata": {},
   "outputs": [],
   "source": [
    "class Student(object):\n",
    "    def __init__(self, name):\n",
    "        self.name = name"
   ]
  },
  {
   "cell_type": "code",
   "execution_count": 10,
   "id": "aef41591",
   "metadata": {},
   "outputs": [
    {
     "name": "stdout",
     "output_type": "stream",
     "text": [
      "<__main__.Student object at 0x0000016BEF513EB0>\n"
     ]
    }
   ],
   "source": [
    "print(Student('Michael'))"
   ]
  },
  {
   "cell_type": "markdown",
   "id": "dc6ccb6d",
   "metadata": {},
   "source": [
    "怎么打印出来的实例，不但好看，而且容易看出实例内部重要的数据。\n",
    "\n",
    "但是细心的朋友会发现直接敲变量不用print，打印出来的实例还是不好看："
   ]
  },
  {
   "cell_type": "code",
   "execution_count": 8,
   "id": "c46edd18",
   "metadata": {},
   "outputs": [
    {
     "name": "stdout",
     "output_type": "stream",
     "text": [
      "Student object (name: Michael)\n"
     ]
    }
   ],
   "source": [
    "class Student(object):\n",
    "    def __init__(self, name):\n",
    "        self.name = name\n",
    "    def __str__(self):\n",
    "        return 'Student object (name: %s)'%self.name\n",
    "    \n",
    "print(Student('Michael'))"
   ]
  },
  {
   "cell_type": "markdown",
   "id": "58a8639b",
   "metadata": {},
   "source": [
    "这样打印出来的实例，不但好看，而且容易看出实例内部重要的数据。\n",
    "\n",
    "但是细心的朋友会发现直接敲变量不用print，打印出来的实例还是不好看："
   ]
  },
  {
   "cell_type": "markdown",
   "id": "fd08d608",
   "metadata": {},
   "source": [
    "这是因为直接显示变量调用的不是 \\__str\\__()，两者的区别是 \\__str\\__() 返回用户看到的字符串，而 \\__repr\\__()返回程序开发者看到的字符串，也就是说，\\__repr\\__()是为调试服务的。解决办法是再定义一个 \\__repr\\__()。但是通常\\__str\\__()和\\__repr\\__() 代码都是一样的，所以，有个偷懒的写法："
   ]
  },
  {
   "cell_type": "code",
   "execution_count": 12,
   "id": "ab62acca",
   "metadata": {},
   "outputs": [],
   "source": [
    "class Student(object):\n",
    "    def __init__(self, name):\n",
    "        self.name = name\n",
    "    def __str__(self):\n",
    "        return 'Student object (name=%s)' % self.name\n",
    "    __repr__ = __str__"
   ]
  },
  {
   "cell_type": "markdown",
   "id": "5fd4e636",
   "metadata": {},
   "source": [
    "#### \\__iter\\__\n",
    "\n",
    "如果一个类想被用于for...in 循环，类似list或tuple那样，就要必须实现一个\\__iter\\__()方法，该方法返回一个迭代对象，然后，Python的for循环就会不调\n",
    "用该迭代对象的\\__next\\__()方法拿到循环的下一个值，直到遇到stopIteration错误时退出循环。\n",
    "\n",
    "我们以斐波那契数列为例，写一个Fib类，可以作用于for循环："
   ]
  },
  {
   "cell_type": "code",
   "execution_count": 15,
   "id": "c08d3681",
   "metadata": {},
   "outputs": [],
   "source": [
    "class Fib(object):\n",
    "    def __init__(self):\n",
    "        self.a, self.b = 0, 1\n",
    "    \n",
    "    def __iter__(self):\n",
    "        return self\n",
    "    \n",
    "    def __next__(self):\n",
    "        self.a, self.b = self.b, self.a + self.b\n",
    "        if self.a > 100000:\n",
    "            raise StopIteration()\n",
    "        return self.a"
   ]
  },
  {
   "cell_type": "markdown",
   "id": "5be5a9dd",
   "metadata": {},
   "source": [
    "现在，试试把Fib实例作用于for循环："
   ]
  },
  {
   "cell_type": "code",
   "execution_count": 16,
   "id": "42d9ac61",
   "metadata": {},
   "outputs": [
    {
     "name": "stdout",
     "output_type": "stream",
     "text": [
      "1\n",
      "1\n",
      "2\n",
      "3\n",
      "5\n",
      "8\n",
      "13\n",
      "21\n",
      "34\n",
      "55\n",
      "89\n",
      "144\n",
      "233\n",
      "377\n",
      "610\n",
      "987\n",
      "1597\n",
      "2584\n",
      "4181\n",
      "6765\n",
      "10946\n",
      "17711\n",
      "28657\n",
      "46368\n",
      "75025\n"
     ]
    }
   ],
   "source": [
    "for n in Fib():\n",
    "    print(n)"
   ]
  },
  {
   "cell_type": "markdown",
   "id": "96c64bf4",
   "metadata": {},
   "source": [
    "#### __iter__\n",
    "\n",
    "如果一个类想被用于for...in循环，类似list或tuple那样，就必须实现一个\\__iter\\__()方法，该方法返回一个迭代对象，然后，Python的for循环就会不断调用该迭代对象的\\__next\\__()"
   ]
  },
  {
   "cell_type": "code",
   "execution_count": null,
   "id": "b1ceccbc",
   "metadata": {},
   "outputs": [],
   "source": []
  }
 ],
 "metadata": {
  "interpreter": {
   "hash": "33b5934b3510f91fe6aa331579ff67d3ba3852c97c6b2f37329e9fcf0d11ff1a"
  },
  "kernelspec": {
   "display_name": "Python 3",
   "language": "python",
   "name": "python3"
  },
  "language_info": {
   "codemirror_mode": {
    "name": "ipython",
    "version": 3
   },
   "file_extension": ".py",
   "mimetype": "text/x-python",
   "name": "python",
   "nbconvert_exporter": "python",
   "pygments_lexer": "ipython3",
   "version": "3.8.8"
  }
 },
 "nbformat": 4,
 "nbformat_minor": 5
}
