{
 "cells": [
  {
   "cell_type": "markdown",
   "id": "50874e13",
   "metadata": {},
   "source": [
    "collections是python内建的一个集合模块，提供了许多有用的集合类"
   ]
  },
  {
   "cell_type": "markdown",
   "id": "2770fba4",
   "metadata": {},
   "source": [
    "#### namedtuple"
   ]
  },
  {
   "cell_type": "code",
   "execution_count": 3,
   "id": "1ffe3e36",
   "metadata": {},
   "outputs": [
    {
     "data": {
      "text/plain": [
       "2"
      ]
     },
     "execution_count": 3,
     "metadata": {},
     "output_type": "execute_result"
    }
   ],
   "source": [
    "from collections import namedtuple\n",
    "\n",
    "Point = namedtuple(\"point\", ('x', 'y'))\n",
    "p = Point(1, 2)\n",
    "p.x\n",
    "p.y"
   ]
  },
  {
   "cell_type": "code",
   "execution_count": 4,
   "id": "3ccd5874",
   "metadata": {},
   "outputs": [
    {
     "data": {
      "text/plain": [
       "True"
      ]
     },
     "execution_count": 4,
     "metadata": {},
     "output_type": "execute_result"
    }
   ],
   "source": [
    "isinstance(p, Point)"
   ]
  },
  {
   "cell_type": "code",
   "execution_count": 6,
   "id": "93174867",
   "metadata": {},
   "outputs": [
    {
     "data": {
      "text/plain": [
       "True"
      ]
     },
     "execution_count": 6,
     "metadata": {},
     "output_type": "execute_result"
    }
   ],
   "source": [
    "isinstance(p, tuple)"
   ]
  },
  {
   "cell_type": "markdown",
   "id": "4b1c1b4e",
   "metadata": {},
   "source": [
    "类似的，如果要用坐标和半径表示一个圆，也可以用namedtuple定义："
   ]
  },
  {
   "cell_type": "code",
   "execution_count": 7,
   "id": "dfaa7a55",
   "metadata": {},
   "outputs": [],
   "source": [
    "circle = namedtuple(\"Circle\", [\"x\", \"y\", \"z\"])"
   ]
  },
  {
   "cell_type": "markdown",
   "id": "09f6f383",
   "metadata": {},
   "source": [
    "#### deque"
   ]
  },
  {
   "cell_type": "code",
   "execution_count": 8,
   "id": "6ff376a0",
   "metadata": {},
   "outputs": [
    {
     "data": {
      "text/plain": [
       "deque(['y', 'a', 'b', 'c', 'x'])"
      ]
     },
     "execution_count": 8,
     "metadata": {},
     "output_type": "execute_result"
    }
   ],
   "source": [
    "from collections import deque\n",
    "\n",
    "q = deque(['a', 'b', 'c'])\n",
    "q.append(\"x\")\n",
    "q.appendleft(\"y\")\n",
    "q"
   ]
  },
  {
   "cell_type": "markdown",
   "id": "6f7d432f",
   "metadata": {},
   "source": [
    "deque除了实现list的append()和pop()外，还支持appendleft()和popleft()，这样就可以非常高效地往头部添加或删除元素。"
   ]
  },
  {
   "cell_type": "markdown",
   "id": "051d761a",
   "metadata": {},
   "source": [
    "#### defaultdict"
   ]
  },
  {
   "cell_type": "code",
   "execution_count": 10,
   "id": "913fb884",
   "metadata": {},
   "outputs": [
    {
     "data": {
      "text/plain": [
       "7"
      ]
     },
     "execution_count": 10,
     "metadata": {},
     "output_type": "execute_result"
    }
   ],
   "source": [
    "from collections import defaultdict\n",
    "\n",
    "dd = defaultdict(lambda: \"None\")\n",
    "dd['key1'] = 7\n",
    "dd[\"key1\"]"
   ]
  },
  {
   "cell_type": "code",
   "execution_count": 11,
   "id": "04dd9ce6",
   "metadata": {},
   "outputs": [
    {
     "data": {
      "text/plain": [
       "'None'"
      ]
     },
     "execution_count": 11,
     "metadata": {},
     "output_type": "execute_result"
    }
   ],
   "source": [
    "dd[\"key2\"]"
   ]
  },
  {
   "cell_type": "markdown",
   "id": "a753ed66",
   "metadata": {},
   "source": [
    "注意默认值是调用函数返回的，而函数在创建defaultdict对象时传入。\n",
    "\n",
    "除了在Key不存在时返回默认值，defaultdict的其他行为跟dict是完全一样的。"
   ]
  },
  {
   "cell_type": "markdown",
   "id": "6a3ce495",
   "metadata": {},
   "source": [
    "#### OrderedDict"
   ]
  },
  {
   "cell_type": "code",
   "execution_count": 13,
   "id": "656b408c",
   "metadata": {},
   "outputs": [
    {
     "data": {
      "text/plain": [
       "{'a': 1, 'c': 3, 'b': 2}"
      ]
     },
     "execution_count": 13,
     "metadata": {},
     "output_type": "execute_result"
    }
   ],
   "source": [
    "d = dict([('a', 1), ('c', 3), ('b', 2)])\n",
    "d"
   ]
  },
  {
   "cell_type": "code",
   "execution_count": 15,
   "id": "6b611f78",
   "metadata": {},
   "outputs": [
    {
     "data": {
      "text/plain": [
       "dict_keys(['a', 'c', 'b'])"
      ]
     },
     "execution_count": 15,
     "metadata": {},
     "output_type": "execute_result"
    }
   ],
   "source": [
    "d.keys()"
   ]
  },
  {
   "cell_type": "code",
   "execution_count": 17,
   "id": "de6f64d9",
   "metadata": {},
   "outputs": [
    {
     "data": {
      "text/plain": [
       "OrderedDict([('a', 1), ('b', 2), ('c', 3)])"
      ]
     },
     "execution_count": 17,
     "metadata": {},
     "output_type": "execute_result"
    }
   ],
   "source": [
    "from collections import OrderedDict\n",
    "od = OrderedDict([('a', 1), ('b', 2), ('c', 3)])\n",
    "od"
   ]
  },
  {
   "cell_type": "code",
   "execution_count": 18,
   "id": "0fd14efb",
   "metadata": {},
   "outputs": [
    {
     "data": {
      "text/plain": [
       "['a', 'c', 'b']"
      ]
     },
     "execution_count": 18,
     "metadata": {},
     "output_type": "execute_result"
    }
   ],
   "source": [
    "d = dict()\n",
    "\n",
    "d['a'] = 2\n",
    "d['c'] = 3\n",
    "d['b'] = 4\n",
    "list(d.keys())"
   ]
  },
  {
   "cell_type": "code",
   "execution_count": 20,
   "id": "af866087",
   "metadata": {},
   "outputs": [
    {
     "data": {
      "text/plain": [
       "['z', 'y', 'x']"
      ]
     },
     "execution_count": 20,
     "metadata": {},
     "output_type": "execute_result"
    }
   ],
   "source": [
    "od = OrderedDict()\n",
    "od['z'] = 1\n",
    "od['y'] = 2\n",
    "od['x'] = 3\n",
    "list(od.keys())"
   ]
  },
  {
   "cell_type": "code",
   "execution_count": 21,
   "id": "547d09a0",
   "metadata": {},
   "outputs": [],
   "source": [
    "from collections import OrderedDict\n",
    "\n",
    "class LastUpdatedOrderedDict(OrderedDict):\n",
    "\n",
    "    def __init__(self, capacity):\n",
    "        super(LastUpdatedOrderedDict, self).__init__()\n",
    "        self._capacity = capacity\n",
    "\n",
    "    def __setitem__(self, key, value):\n",
    "        containsKey = 1 if key in self else 0\n",
    "        if len(self) - containsKey >= self._capacity:\n",
    "            last = self.popitem(last=False)\n",
    "            print('remove:', last)\n",
    "        if containsKey:\n",
    "            del self[key]\n",
    "            print('set:', (key, value))\n",
    "        else:\n",
    "            print('add:', (key, value))\n",
    "        OrderedDict.__setitem__(self, key, value)"
   ]
  },
  {
   "cell_type": "markdown",
   "id": "0d41db31",
   "metadata": {},
   "source": [
    "#### ChainMap\n",
    "\n",
    "ChainMap可以把一组dict串起来并组成一个逻辑上的dict。ChainMap本身也是一个dict，但是查找的时候，会按照顺序在内部的dict依次查找。\n",
    "\n",
    "什么时候使用ChainMap最合适？举个例子：应用程序往往都需要传入参数，参数可以通过命令行传入，可以通过环境变量传入，还可以有默认参数。我们可以用ChainMap实现参数的优先级查找，即先查命令行参数，如果没有传入，再查环境变量，如果没有，就使用默认参数。\n",
    "\n",
    "下面的代码演示了如何查找user和color这两个参数："
   ]
  },
  {
   "cell_type": "code",
   "execution_count": 23,
   "id": "04137fc4",
   "metadata": {},
   "outputs": [
    {
     "name": "stderr",
     "output_type": "stream",
     "text": [
      "usage: ipykernel_launcher.py [-h] [-u USER] [-c COLOR]\n",
      "ipykernel_launcher.py: error: unrecognized arguments: -f C:\\Users\\Fly\\AppData\\Roaming\\jupyter\\runtime\\kernel-a77ac00d-027b-467d-8d89-e1844cac1892.json\n"
     ]
    },
    {
     "ename": "SystemExit",
     "evalue": "2",
     "output_type": "error",
     "traceback": [
      "An exception has occurred, use %tb to see the full traceback.\n",
      "\u001b[1;31mSystemExit\u001b[0m\u001b[1;31m:\u001b[0m 2\n"
     ]
    }
   ],
   "source": [
    "from collections import ChainMap\n",
    "import os, argparse\n",
    "\n",
    "# 构造缺省参数:\n",
    "defaults = {\n",
    "    'color': 'red',\n",
    "    'user': 'guest'\n",
    "}\n",
    "\n",
    "# 构造命令行参数:\n",
    "parser = argparse.ArgumentParser()\n",
    "parser.add_argument('-u', '--user')\n",
    "parser.add_argument('-c', '--color')\n",
    "namespace = parser.parse_args()\n",
    "command_line_args = { k: v for k, v in vars(namespace).items() if v }\n",
    "\n",
    "# 组合成ChainMap:\n",
    "combined = ChainMap(command_line_args, os.environ, defaults)\n",
    "\n",
    "# 打印参数:\n",
    "print('color=%s' % combined['color'])\n",
    "print('user=%s' % combined['user'])"
   ]
  },
  {
   "cell_type": "markdown",
   "id": "81dbdbc6",
   "metadata": {},
   "source": [
    "没有任何参数时，打印出默认参数：\n",
    "\n",
    "$ python3 use_chainmap.py \n",
    "\n",
    "color=red\n",
    "\n",
    "user=guest"
   ]
  },
  {
   "cell_type": "markdown",
   "id": "27fba0f4",
   "metadata": {},
   "source": [
    "当传入命令行参数时，优先使用命令行参数：\n",
    "\n",
    "$ python3 use_chainmap.py -u bob\n",
    "\n",
    "color=red\n",
    "\n",
    "user=bob"
   ]
  },
  {
   "cell_type": "markdown",
   "id": "4009afce",
   "metadata": {},
   "source": [
    "同时传入命令行参数和环境变量，命令行参数的优先级较高：\n",
    "\n",
    "$ user=admin color=green python3 use_chainmap.py -u bob\n",
    "\n",
    "color=green\n",
    "\n",
    "user=bob"
   ]
  },
  {
   "cell_type": "markdown",
   "id": "378a4ddf",
   "metadata": {},
   "source": [
    "#### Counter"
   ]
  },
  {
   "cell_type": "markdown",
   "id": "ec1364c9",
   "metadata": {},
   "source": [
    "Counter是一个简单的计数器，例如，统计字符出现的个数："
   ]
  },
  {
   "cell_type": "code",
   "execution_count": 24,
   "id": "5c6f62c8",
   "metadata": {},
   "outputs": [],
   "source": [
    "from collections import Counter\n",
    "\n",
    "c = Counter()\n",
    "\n",
    "for ch in \"programming\":\n",
    "    c[ch] = c[ch] + 1\n"
   ]
  },
  {
   "cell_type": "code",
   "execution_count": 25,
   "id": "a1043129",
   "metadata": {},
   "outputs": [
    {
     "data": {
      "text/plain": [
       "Counter({'p': 1, 'r': 2, 'o': 1, 'g': 2, 'a': 1, 'm': 2, 'i': 1, 'n': 1})"
      ]
     },
     "execution_count": 25,
     "metadata": {},
     "output_type": "execute_result"
    }
   ],
   "source": [
    "c"
   ]
  },
  {
   "cell_type": "code",
   "execution_count": 27,
   "id": "bdfde77f",
   "metadata": {},
   "outputs": [],
   "source": [
    "c.update(\"hello\")"
   ]
  },
  {
   "cell_type": "code",
   "execution_count": 28,
   "id": "0dd46676",
   "metadata": {},
   "outputs": [
    {
     "data": {
      "text/plain": [
       "Counter({'p': 1,\n",
       "         'r': 2,\n",
       "         'o': 2,\n",
       "         'g': 2,\n",
       "         'a': 1,\n",
       "         'm': 2,\n",
       "         'i': 1,\n",
       "         'n': 1,\n",
       "         'h': 1,\n",
       "         'e': 1,\n",
       "         'l': 2})"
      ]
     },
     "execution_count": 28,
     "metadata": {},
     "output_type": "execute_result"
    }
   ],
   "source": [
    "c"
   ]
  },
  {
   "cell_type": "markdown",
   "id": "e8fd1a1b",
   "metadata": {},
   "source": [
    "Counter实际上也是dict的一个子类，上面的结果可以看出每个字符出现的次数。"
   ]
  },
  {
   "cell_type": "code",
   "execution_count": null,
   "id": "83f3b013",
   "metadata": {},
   "outputs": [],
   "source": []
  }
 ],
 "metadata": {
  "kernelspec": {
   "display_name": "Python 3",
   "language": "python",
   "name": "python3"
  },
  "language_info": {
   "codemirror_mode": {
    "name": "ipython",
    "version": 3
   },
   "file_extension": ".py",
   "mimetype": "text/x-python",
   "name": "python",
   "nbconvert_exporter": "python",
   "pygments_lexer": "ipython3",
   "version": "3.8.8"
  }
 },
 "nbformat": 4,
 "nbformat_minor": 5
}
