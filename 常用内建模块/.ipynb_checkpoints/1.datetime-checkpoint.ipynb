{
 "cells": [
  {
   "cell_type": "markdown",
   "id": "e66999f4",
   "metadata": {},
   "source": [
    "Python之所以自称“batteries included”，就是因为内置了许多非常有用的模块，无需额外安装和配置，即可直接使用。"
   ]
  },
  {
   "cell_type": "code",
   "execution_count": 2,
   "id": "617d0174",
   "metadata": {},
   "outputs": [
    {
     "name": "stdout",
     "output_type": "stream",
     "text": [
      "2021-11-23 22:21:14.472791\n",
      "<class 'datetime.datetime'>\n"
     ]
    }
   ],
   "source": [
    "from datetime import datetime\n",
    "\n",
    "now = datetime.now()\n",
    "print(now)\n",
    "print(type(now))"
   ]
  },
  {
   "cell_type": "code",
   "execution_count": 3,
   "id": "bb5a392d",
   "metadata": {},
   "outputs": [
    {
     "name": "stdout",
     "output_type": "stream",
     "text": [
      "2016-06-07 12:26:00\n"
     ]
    }
   ],
   "source": [
    "dt = datetime(2016,6,7,12,26)\n",
    "print(dt)"
   ]
  },
  {
   "cell_type": "code",
   "execution_count": 4,
   "id": "966b81e6",
   "metadata": {},
   "outputs": [
    {
     "data": {
      "text/plain": [
       "1465273560.0"
      ]
     },
     "execution_count": 4,
     "metadata": {},
     "output_type": "execute_result"
    }
   ],
   "source": [
    "dt.timestamp()"
   ]
  },
  {
   "cell_type": "code",
   "execution_count": 5,
   "id": "9139b8c6",
   "metadata": {},
   "outputs": [
    {
     "name": "stdout",
     "output_type": "stream",
     "text": [
      "2010-01-30 22:26:01\n",
      "2010-01-30 14:26:01\n"
     ]
    }
   ],
   "source": [
    "t = 1264861561.0\n",
    "print(datetime.fromtimestamp(t))\n",
    "print(datetime.utcfromtimestamp(t))"
   ]
  },
  {
   "cell_type": "markdown",
   "id": "8022fb7c",
   "metadata": {},
   "source": [
    "#### str转换为datetime\n"
   ]
  },
  {
   "cell_type": "code",
   "execution_count": 7,
   "id": "5164d7b8",
   "metadata": {},
   "outputs": [
    {
     "name": "stdout",
     "output_type": "stream",
     "text": [
      "2015-06-01 18:19:59\n"
     ]
    }
   ],
   "source": [
    "from datetime import datetime\n",
    "\n",
    "cday = datetime.strptime('2015-6-1 18:19:59', \"%Y-%m-%d %H:%M:%S\")\n",
    "print(cday)"
   ]
  },
  {
   "cell_type": "markdown",
   "id": "9bee6024",
   "metadata": {},
   "source": [
    "#### datetime转换为str"
   ]
  },
  {
   "cell_type": "code",
   "execution_count": 11,
   "id": "0bd05696",
   "metadata": {},
   "outputs": [
    {
     "name": "stdout",
     "output_type": "stream",
     "text": [
      "Tue, Nov 23 22:39\n"
     ]
    }
   ],
   "source": [
    "from datetime import datetime\n",
    "\n",
    "now = datetime.now()\n",
    "print(now.strftime(\"%a, %b %d %H:%M\"))"
   ]
  },
  {
   "cell_type": "markdown",
   "id": "ae38fb72",
   "metadata": {},
   "source": [
    "#### datetime加减"
   ]
  },
  {
   "cell_type": "code",
   "execution_count": 12,
   "id": "f14c6a9f",
   "metadata": {},
   "outputs": [
    {
     "data": {
      "text/plain": [
       "datetime.datetime(2021, 11, 23, 22, 40, 45, 596726)"
      ]
     },
     "execution_count": 12,
     "metadata": {},
     "output_type": "execute_result"
    }
   ],
   "source": [
    "from datetime import datetime, timedelta\n",
    "\n",
    "now = datetime.now()\n",
    "now"
   ]
  },
  {
   "cell_type": "code",
   "execution_count": 13,
   "id": "2bdd735f",
   "metadata": {},
   "outputs": [
    {
     "data": {
      "text/plain": [
       "datetime.datetime(2021, 11, 24, 8, 40, 45, 596726)"
      ]
     },
     "execution_count": 13,
     "metadata": {},
     "output_type": "execute_result"
    }
   ],
   "source": [
    "now + timedelta(hours = 10)"
   ]
  },
  {
   "cell_type": "code",
   "execution_count": 14,
   "id": "44cb3adc",
   "metadata": {},
   "outputs": [
    {
     "data": {
      "text/plain": [
       "datetime.datetime(2021, 11, 26, 8, 40, 45, 596726)"
      ]
     },
     "execution_count": 14,
     "metadata": {},
     "output_type": "execute_result"
    }
   ],
   "source": [
    "now + timedelta(hours = 10, days = 2)"
   ]
  },
  {
   "cell_type": "markdown",
   "id": "0d768b13",
   "metadata": {},
   "source": [
    "#### 本地时间转换为UTC时间\n",
    "\n"
   ]
  },
  {
   "cell_type": "code",
   "execution_count": 17,
   "id": "6b97017f",
   "metadata": {},
   "outputs": [],
   "source": [
    "from datetime import datetime, timedelta, timezone\n",
    "\n",
    "tz_utc_8 = timezone(timedelta(hours = 8))\n",
    "\n",
    "now = datetime.now()"
   ]
  },
  {
   "cell_type": "code",
   "execution_count": 18,
   "id": "0b78dc19",
   "metadata": {},
   "outputs": [
    {
     "data": {
      "text/plain": [
       "datetime.datetime(2021, 11, 23, 22, 45, 16, 452157)"
      ]
     },
     "execution_count": 18,
     "metadata": {},
     "output_type": "execute_result"
    }
   ],
   "source": [
    "now"
   ]
  },
  {
   "cell_type": "code",
   "execution_count": 20,
   "id": "4130e01d",
   "metadata": {},
   "outputs": [],
   "source": [
    "dt = now.replace(tzinfo = tz_utc_8)"
   ]
  },
  {
   "cell_type": "code",
   "execution_count": 21,
   "id": "f8b307e1",
   "metadata": {},
   "outputs": [
    {
     "data": {
      "text/plain": [
       "datetime.datetime(2021, 11, 23, 22, 45, 16, 452157, tzinfo=datetime.timezone(datetime.timedelta(seconds=28800)))"
      ]
     },
     "execution_count": 21,
     "metadata": {},
     "output_type": "execute_result"
    }
   ],
   "source": [
    "dt"
   ]
  },
  {
   "cell_type": "markdown",
   "id": "ad31e346",
   "metadata": {},
   "source": [
    "#### 时区转换"
   ]
  },
  {
   "cell_type": "code",
   "execution_count": 25,
   "id": "56e0e799",
   "metadata": {},
   "outputs": [
    {
     "name": "stdout",
     "output_type": "stream",
     "text": [
      "2021-11-23 14:49:09.539057+00:00\n"
     ]
    }
   ],
   "source": [
    "utc_dt = datetime.utcnow().replace(tzinfo = timezone.utc)\n",
    "print(utc_dt)"
   ]
  },
  {
   "cell_type": "code",
   "execution_count": 27,
   "id": "80b5cfbc",
   "metadata": {},
   "outputs": [
    {
     "name": "stdout",
     "output_type": "stream",
     "text": [
      "2021-11-23 22:49:09.539057+08:00\n"
     ]
    }
   ],
   "source": [
    "bj_dt = utc_dt.astimezone(timezone(timedelta(hours=8)))\n",
    "print(bj_dt)"
   ]
  },
  {
   "cell_type": "code",
   "execution_count": 28,
   "id": "f5e3c830",
   "metadata": {},
   "outputs": [],
   "source": [
    "tokyo_dt = utc_dt.astimezone(timezone(timedelta(hours=9)))"
   ]
  },
  {
   "cell_type": "markdown",
   "id": "20036f4f",
   "metadata": {},
   "source": [
    "#### 小结\n",
    "\n",
    "datetime表示的时间需要时区信息才能确定一个特定的时间，否则视为本地时间。\n",
    "\n",
    "如果要存储datetime，最佳方法是将其转换为timestamp再存储，因为timestamp的值与时区完全无关"
   ]
  },
  {
   "cell_type": "code",
   "execution_count": null,
   "id": "7923d63a",
   "metadata": {},
   "outputs": [],
   "source": []
  }
 ],
 "metadata": {
  "kernelspec": {
   "display_name": "Python 3",
   "language": "python",
   "name": "python3"
  },
  "language_info": {
   "codemirror_mode": {
    "name": "ipython",
    "version": 3
   },
   "file_extension": ".py",
   "mimetype": "text/x-python",
   "name": "python",
   "nbconvert_exporter": "python",
   "pygments_lexer": "ipython3",
   "version": "3.8.8"
  }
 },
 "nbformat": 4,
 "nbformat_minor": 5
}
