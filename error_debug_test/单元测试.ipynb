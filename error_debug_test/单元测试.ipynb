{
 "cells": [
  {
   "cell_type": "markdown",
   "id": "aad6353f",
   "metadata": {},
   "source": [
    "单元测试是用来对一个模块、一个函数或者一个类进行正确性检验的测试工作"
   ]
  },
  {
   "cell_type": "markdown",
   "id": "c8c38839",
   "metadata": {},
   "source": [
    "这种以测试为驱动的开发模式最大的好处是，确保一个程序模块可以符合我们设计的测试用例。在将来修改时，可以保证这个模块行为是正确的"
   ]
  },
  {
   "cell_type": "code",
   "execution_count": 3,
   "id": "21c318e8",
   "metadata": {},
   "outputs": [],
   "source": [
    "class Dict(dict):\n",
    "\n",
    "    def __init__(self, **kw):\n",
    "        super().__init__(**kw)\n",
    "\n",
    "    def __getattr__(self, key):\n",
    "        try:\n",
    "            return self[key]\n",
    "        except KeyError:\n",
    "            raise AttributeError(r\"'Dict' object has no attribute '%s'\" % key)\n",
    "\n",
    "    def __setattr__(self, key, value):\n",
    "        self[key] = value"
   ]
  },
  {
   "cell_type": "code",
   "execution_count": 4,
   "id": "d6715c16",
   "metadata": {},
   "outputs": [],
   "source": [
    "import unittest\n",
    "\n",
    "\n",
    "class TestDict(unittest.TestCase):\n",
    "\n",
    "    def test_init(self):\n",
    "        d = Dict(a=1, b='test')\n",
    "        self.assertEqual(d.a, 1)\n",
    "        self.assertEqual(d.b, 'test')\n",
    "        self.assertTrue(isinstance(d, dict))\n",
    "\n",
    "    def test_key(self):\n",
    "        d = Dict()\n",
    "        d['key'] = 'value'\n",
    "        self.assertEqual(d.key, 'value')\n",
    "\n",
    "    def test_attr(self):\n",
    "        d = Dict()\n",
    "        d.key = 'value'\n",
    "        self.assertTrue('key' in d)\n",
    "        self.assertEqual(d['key'], 'value')\n",
    "\n",
    "    def test_keyerror(self):\n",
    "        d = Dict()\n",
    "        with self.assertRaises(KeyError):\n",
    "            value = d['empty']\n",
    "\n",
    "    def test_attrerror(self):\n",
    "        d = Dict()\n",
    "        with self.assertRaises(AttributeError):\n",
    "            value = d.empty"
   ]
  },
  {
   "cell_type": "markdown",
   "id": "5d4a4cdc",
   "metadata": {},
   "source": [
    "#### 小结\n",
    "\n",
    "单元测试可以有效地测试某个程序模块地行为，是未来重构代码的信心保证\n",
    "\n",
    "单元测试的测试用例要覆盖常用的输入组合、边界条件和异常\n",
    "\n",
    "单元测试代码要非常简单，如果测试代码太复杂，那么测试代码本身就有bug\n",
    "\n",
    "单元测试通过了并不意味着程序就没有bug了，但是不通过程序肯定有bug"
   ]
  },
  {
   "cell_type": "code",
   "execution_count": null,
   "id": "c543bbd5",
   "metadata": {},
   "outputs": [],
   "source": []
  }
 ],
 "metadata": {
  "kernelspec": {
   "display_name": "Python 3",
   "language": "python",
   "name": "python3"
  },
  "language_info": {
   "codemirror_mode": {
    "name": "ipython",
    "version": 3
   },
   "file_extension": ".py",
   "mimetype": "text/x-python",
   "name": "python",
   "nbconvert_exporter": "python",
   "pygments_lexer": "ipython3",
   "version": "3.8.8"
  }
 },
 "nbformat": 4,
 "nbformat_minor": 5
}
