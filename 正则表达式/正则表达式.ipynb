{
 "cells": [
  {
   "cell_type": "markdown",
   "id": "e66999f4",
   "metadata": {},
   "source": [
    "把变量从内存中变成可存储或传输的过程就叫做序列化。"
   ]
  },
  {
   "cell_type": "code",
   "execution_count": 3,
   "id": "617d0174",
   "metadata": {},
   "outputs": [
    {
     "data": {
      "text/plain": [
       "<re.Match object; span=(0, 9), match='010-12345'>"
      ]
     },
     "execution_count": 3,
     "metadata": {},
     "output_type": "execute_result"
    }
   ],
   "source": [
    "import re\n",
    "re.match(r'^\\d{3}\\-\\d{3,8}$', '010-12345')"
   ]
  },
  {
   "cell_type": "code",
   "execution_count": 4,
   "id": "bb5a392d",
   "metadata": {},
   "outputs": [],
   "source": [
    "re.match(r'^\\d{3}\\-\\d{3,8}$', '010 12345')"
   ]
  },
  {
   "cell_type": "markdown",
   "id": "cf0ae7af",
   "metadata": {},
   "source": [
    "#### 切分字符串"
   ]
  },
  {
   "cell_type": "code",
   "execution_count": 5,
   "id": "966b81e6",
   "metadata": {},
   "outputs": [
    {
     "data": {
      "text/plain": [
       "['a', 'b', '', '', '', 'c']"
      ]
     },
     "execution_count": 5,
     "metadata": {},
     "output_type": "execute_result"
    }
   ],
   "source": [
    "s = \"a b    c\"\n",
    "s.split(\" \")"
   ]
  },
  {
   "cell_type": "code",
   "execution_count": 6,
   "id": "9139b8c6",
   "metadata": {},
   "outputs": [
    {
     "data": {
      "text/plain": [
       "['a', 'b', 'c']"
      ]
     },
     "execution_count": 6,
     "metadata": {},
     "output_type": "execute_result"
    }
   ],
   "source": [
    "re.split(r\"\\s+\", s)"
   ]
  },
  {
   "cell_type": "code",
   "execution_count": 7,
   "id": "5164d7b8",
   "metadata": {},
   "outputs": [
    {
     "data": {
      "text/plain": [
       "['a', 'b', 'c', 'd']"
      ]
     },
     "execution_count": 7,
     "metadata": {},
     "output_type": "execute_result"
    }
   ],
   "source": [
    "s = \"a b    c                d\"\n",
    "re.split(r\"\\s+\", s)"
   ]
  },
  {
   "cell_type": "markdown",
   "id": "9bee6024",
   "metadata": {},
   "source": [
    "由于json标准规定json编码是UTF-8，所以我们总是能在python的str与Json的字符串之间转换"
   ]
  },
  {
   "cell_type": "code",
   "execution_count": 8,
   "id": "0bd05696",
   "metadata": {},
   "outputs": [
    {
     "data": {
      "text/plain": [
       "['a', 'b', 'c', 'd']"
      ]
     },
     "execution_count": 8,
     "metadata": {},
     "output_type": "execute_result"
    }
   ],
   "source": [
    "s = \"a, b, c    d\"\n",
    "re.split(r\"[\\s\\,]+\", s)"
   ]
  },
  {
   "cell_type": "code",
   "execution_count": 9,
   "id": "c1ae41c3",
   "metadata": {},
   "outputs": [
    {
     "data": {
      "text/plain": [
       "['a', 'b', 'c', 'd']"
      ]
     },
     "execution_count": 9,
     "metadata": {},
     "output_type": "execute_result"
    }
   ],
   "source": [
    "s = \"a, b  c;d\"\n",
    "re.split(r\"[\\s\\,\\;]+\", s)"
   ]
  },
  {
   "cell_type": "code",
   "execution_count": 10,
   "id": "bbd1998b",
   "metadata": {},
   "outputs": [
    {
     "name": "stdout",
     "output_type": "stream",
     "text": [
      "{\"name\": \"bob\", \"age\": 30, \"score\": 20}\n"
     ]
    }
   ],
   "source": []
  },
  {
   "cell_type": "code",
   "execution_count": 12,
   "id": "6ee94df9",
   "metadata": {},
   "outputs": [
    {
     "name": "stdout",
     "output_type": "stream",
     "text": [
      "{\"name\": \"bob\", \"age\": 30, \"score\": 20}\n"
     ]
    }
   ],
   "source": []
  },
  {
   "cell_type": "code",
   "execution_count": 13,
   "id": "57e49317",
   "metadata": {},
   "outputs": [],
   "source": []
  },
  {
   "cell_type": "code",
   "execution_count": 14,
   "id": "f523b714",
   "metadata": {},
   "outputs": [
    {
     "name": "stdout",
     "output_type": "stream",
     "text": [
      "<__main__.Student object at 0x0000029AF77D0730>\n"
     ]
    }
   ],
   "source": []
  },
  {
   "cell_type": "markdown",
   "id": "d4b8abd0",
   "metadata": {},
   "source": [
    "#### 总结\n",
    "\n",
    "python的序列化模块是pickle，其中最符合标准的是json模块。\n",
    "\n",
    "json的dumps()和loads()已经非常还用了，但是如果要更加符合要求，就需要进行定制化规则。"
   ]
  },
  {
   "cell_type": "code",
   "execution_count": null,
   "id": "31b9e8b0",
   "metadata": {},
   "outputs": [],
   "source": []
  }
 ],
 "metadata": {
  "kernelspec": {
   "display_name": "Python 3",
   "language": "python",
   "name": "python3"
  },
  "language_info": {
   "codemirror_mode": {
    "name": "ipython",
    "version": 3
   },
   "file_extension": ".py",
   "mimetype": "text/x-python",
   "name": "python",
   "nbconvert_exporter": "python",
   "pygments_lexer": "ipython3",
   "version": "3.8.8"
  }
 },
 "nbformat": 4,
 "nbformat_minor": 5
}
