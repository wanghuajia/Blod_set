{
 "cells": [
  {
   "cell_type": "markdown",
   "id": "e66999f4",
   "metadata": {},
   "source": [
    "把变量从内存中变成可存储或传输的过程就叫做序列化。"
   ]
  },
  {
   "cell_type": "code",
   "execution_count": 2,
   "id": "617d0174",
   "metadata": {},
   "outputs": [
    {
     "data": {
      "text/plain": [
       "<re.Match object; span=(0, 9), match='010-12345'>"
      ]
     },
     "execution_count": 2,
     "metadata": {},
     "output_type": "execute_result"
    }
   ],
   "source": [
    "import re\n",
    "re.match(r'^\\d{3}\\-\\d{3,8}$', '010-12345')"
   ]
  },
  {
   "cell_type": "code",
   "execution_count": 4,
   "id": "bb5a392d",
   "metadata": {},
   "outputs": [],
   "source": [
    "re.match(r'^\\d{3}\\-\\d{3,8}$', '010 12345')"
   ]
  },
  {
   "cell_type": "markdown",
   "id": "cf0ae7af",
   "metadata": {},
   "source": [
    "#### 切分字符串"
   ]
  },
  {
   "cell_type": "code",
   "execution_count": 5,
   "id": "966b81e6",
   "metadata": {},
   "outputs": [
    {
     "data": {
      "text/plain": [
       "['a', 'b', '', '', '', 'c']"
      ]
     },
     "execution_count": 5,
     "metadata": {},
     "output_type": "execute_result"
    }
   ],
   "source": [
    "s = \"a b    c\"\n",
    "s.split(\" \")"
   ]
  },
  {
   "cell_type": "code",
   "execution_count": 6,
   "id": "9139b8c6",
   "metadata": {},
   "outputs": [
    {
     "data": {
      "text/plain": [
       "['a', 'b', 'c']"
      ]
     },
     "execution_count": 6,
     "metadata": {},
     "output_type": "execute_result"
    }
   ],
   "source": [
    "re.split(r\"\\s+\", s)"
   ]
  },
  {
   "cell_type": "code",
   "execution_count": 7,
   "id": "5164d7b8",
   "metadata": {},
   "outputs": [
    {
     "data": {
      "text/plain": [
       "['a', 'b', 'c', 'd']"
      ]
     },
     "execution_count": 7,
     "metadata": {},
     "output_type": "execute_result"
    }
   ],
   "source": [
    "s = \"a b    c                d\"\n",
    "re.split(r\"\\s+\", s)"
   ]
  },
  {
   "cell_type": "markdown",
   "id": "9bee6024",
   "metadata": {},
   "source": [
    "由于json标准规定json编码是UTF-8，所以我们总是能在python的str与Json的字符串之间转换"
   ]
  },
  {
   "cell_type": "code",
   "execution_count": 8,
   "id": "0bd05696",
   "metadata": {},
   "outputs": [
    {
     "data": {
      "text/plain": [
       "['a', 'b', 'c', 'd']"
      ]
     },
     "execution_count": 8,
     "metadata": {},
     "output_type": "execute_result"
    }
   ],
   "source": [
    "s = \"a, b, c    d\"\n",
    "re.split(r\"[\\s\\,]+\", s)"
   ]
  },
  {
   "cell_type": "code",
   "execution_count": 9,
   "id": "c1ae41c3",
   "metadata": {},
   "outputs": [
    {
     "data": {
      "text/plain": [
       "['a', 'b', 'c', 'd']"
      ]
     },
     "execution_count": 9,
     "metadata": {},
     "output_type": "execute_result"
    }
   ],
   "source": [
    "s = \"a, b  c;d\"\n",
    "re.split(r\"[\\s\\,\\;]+\", s)"
   ]
  },
  {
   "cell_type": "markdown",
   "id": "8c1a033b",
   "metadata": {},
   "source": [
    "#### 小组\n",
    "\n",
    "除了简单地判断是否匹配之外，正则表达化还有提取字串的强大功能，用()表示的就是要提取的分组(Group)。"
   ]
  },
  {
   "cell_type": "code",
   "execution_count": 4,
   "id": "bbd1998b",
   "metadata": {},
   "outputs": [
    {
     "data": {
      "text/plain": [
       "<re.Match object; span=(0, 9), match='010-12345'>"
      ]
     },
     "execution_count": 4,
     "metadata": {},
     "output_type": "execute_result"
    }
   ],
   "source": [
    "s = r'(\\d{3})-(\\d{3,8})$'\n",
    "m = re.match(s, '010-12345')\n",
    "m"
   ]
  },
  {
   "cell_type": "code",
   "execution_count": 6,
   "id": "6ee94df9",
   "metadata": {},
   "outputs": [
    {
     "data": {
      "text/plain": [
       "'010-12345'"
      ]
     },
     "execution_count": 6,
     "metadata": {},
     "output_type": "execute_result"
    }
   ],
   "source": [
    "m.group(0)"
   ]
  },
  {
   "cell_type": "code",
   "execution_count": 7,
   "id": "57e49317",
   "metadata": {},
   "outputs": [
    {
     "data": {
      "text/plain": [
       "'010'"
      ]
     },
     "execution_count": 7,
     "metadata": {},
     "output_type": "execute_result"
    }
   ],
   "source": [
    "m.group(1)"
   ]
  },
  {
   "cell_type": "code",
   "execution_count": 8,
   "id": "f523b714",
   "metadata": {},
   "outputs": [
    {
     "data": {
      "text/plain": [
       "'12345'"
      ]
     },
     "execution_count": 8,
     "metadata": {},
     "output_type": "execute_result"
    }
   ],
   "source": [
    "m.group(2)"
   ]
  },
  {
   "cell_type": "code",
   "execution_count": 10,
   "id": "31b9e8b0",
   "metadata": {},
   "outputs": [
    {
     "data": {
      "text/plain": [
       "('19', '05', '30')"
      ]
     },
     "execution_count": 10,
     "metadata": {},
     "output_type": "execute_result"
    }
   ],
   "source": [
    "t = '19:05:30'\n",
    "m = re.match(r'^(0[0-9]|1[0-9]|2[0-3]|[0-9])\\:(0[0-9]|1[0-9]|2[0-9]|3[0-9]|4[0-9]|5[0-9]|[0-9])\\:(0[0-9]|1[0-9]|2[0-9]|3[0-9]|4[0-9]|5[0-9]|[0-9])$', t)\n",
    "m.groups()"
   ]
  },
  {
   "cell_type": "markdown",
   "id": "75ef6a42",
   "metadata": {},
   "source": [
    "#### 贪婪匹配"
   ]
  },
  {
   "cell_type": "code",
   "execution_count": 12,
   "id": "a00c52e2",
   "metadata": {},
   "outputs": [
    {
     "data": {
      "text/plain": [
       "('102300', '')"
      ]
     },
     "execution_count": 12,
     "metadata": {},
     "output_type": "execute_result"
    }
   ],
   "source": [
    "s = '102300'\n",
    "re.match(r'^(\\d+)(0*)$', '102300').groups()"
   ]
  },
  {
   "cell_type": "code",
   "execution_count": 13,
   "id": "b897fd43",
   "metadata": {},
   "outputs": [
    {
     "data": {
      "text/plain": [
       "('1023', '00')"
      ]
     },
     "execution_count": 13,
     "metadata": {},
     "output_type": "execute_result"
    }
   ],
   "source": [
    "re.match(r'^(\\d+?)(0*)$', '102300').groups()"
   ]
  },
  {
   "cell_type": "markdown",
   "id": "37cccc24",
   "metadata": {},
   "source": [
    "#### 编译"
   ]
  },
  {
   "cell_type": "code",
   "execution_count": 14,
   "id": "0e3c3f3a",
   "metadata": {},
   "outputs": [],
   "source": [
    "import re\n",
    "\n",
    "re_telephone = re.compile(r'(\\d{3})-(\\d{3,8})$')"
   ]
  },
  {
   "cell_type": "code",
   "execution_count": 16,
   "id": "27d819c0",
   "metadata": {},
   "outputs": [
    {
     "data": {
      "text/plain": [
       "('122', '16545')"
      ]
     },
     "execution_count": 16,
     "metadata": {},
     "output_type": "execute_result"
    }
   ],
   "source": [
    "re_telephone.match('122-16545').groups()"
   ]
  },
  {
   "cell_type": "code",
   "execution_count": null,
   "id": "a2cdb918",
   "metadata": {},
   "outputs": [],
   "source": [
    "re_telephone.match('123-16545').groups()"
   ]
  }
 ],
 "metadata": {
  "kernelspec": {
   "display_name": "Python 3",
   "language": "python",
   "name": "python3"
  },
  "language_info": {
   "codemirror_mode": {
    "name": "ipython",
    "version": 3
   },
   "file_extension": ".py",
   "mimetype": "text/x-python",
   "name": "python",
   "nbconvert_exporter": "python",
   "pygments_lexer": "ipython3",
   "version": "3.8.8"
  }
 },
 "nbformat": 4,
 "nbformat_minor": 5
}
