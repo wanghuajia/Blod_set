{
 "cells": [
  {
   "cell_type": "markdown",
   "id": "a7f7ab1e",
   "metadata": {},
   "source": [
    "Python支持多种图形界面的第三方库，包括：\n",
    "\n",
    "- Tk\n",
    "\n",
    "- wxWidgets\n",
    "\n",
    "- Qt\n",
    "\n",
    "- GTK\n",
    "\n",
    "等等。\n",
    "\n",
    "但是Python自带的库是支持Tk的Tkinter，使用Tkinter，无需安装任何包，就可以直接使用。本章简单介绍如何使用Tkinter进行GUI编程。"
   ]
  },
  {
   "cell_type": "markdown",
   "id": "4889007d",
   "metadata": {},
   "source": [
    "#### Tkinter"
   ]
  },
  {
   "cell_type": "code",
   "execution_count": 2,
   "id": "4635873d",
   "metadata": {},
   "outputs": [],
   "source": [
    "from tkinter import *"
   ]
  },
  {
   "cell_type": "code",
   "execution_count": 3,
   "id": "0e842029",
   "metadata": {},
   "outputs": [],
   "source": [
    "# class Application(Frame):\n",
    "#     def __init__(self, master=None):\n",
    "#         Frame.__init__(self, master)\n",
    "#         self.pack()\n",
    "#         self.createWidgets()\n",
    "    \n",
    "#     def createWidgets(self):\n",
    "#         self.hellolLabel = Label(self, text=\"Hello, world!\")\n",
    "#         self.hellolLabel.pack()\n",
    "#         self.quitButton = Button(self, text=\"quit\", command = self.quit)\n",
    "#         self.quitButton.pack()\n",
    "class Application(Frame):\n",
    "    def __init__(self, master=None):\n",
    "        Frame.__init__(self, master)\n",
    "        self.pack()\n",
    "        self.createWidgets()\n",
    "\n",
    "    def createWidgets(self):\n",
    "        self.helloLabel = Label(self, text='Hello, world!')\n",
    "        self.helloLabel.pack()\n",
    "        self.quitButton = Button(self, text='Quit', command=self.quit)\n",
    "        self.quitButton.pack()"
   ]
  },
  {
   "cell_type": "code",
   "execution_count": 4,
   "id": "ea095b5c",
   "metadata": {},
   "outputs": [],
   "source": [
    "# app = Application()\n",
    "# app.master.title(\"Hello, huajia\")\n",
    "# app.mainloop()\n",
    "app = Application()\n",
    "# 设置窗口标题:\n",
    "app.master.title('Hello World')\n",
    "# 主消息循环:\n",
    "app.mainloop()"
   ]
  },
  {
   "cell_type": "code",
   "execution_count": 1,
   "id": "871f8664",
   "metadata": {},
   "outputs": [],
   "source": [
    "from tkinter import *\n",
    "import tkinter.messagebox as messagerbox\n",
    "\n",
    "class Application(Frame):\n",
    "    def __init__(self, master=None):\n",
    "        Frame.__init__(self, master)\n",
    "        self.pack()\n",
    "        self.createWidgets()\n",
    "    \n",
    "    def createWidgets(self):\n",
    "        self.nameInput = Entry(self)\n",
    "        self.nameInput.pack()\n",
    "        self.alertButton = Button(self, text=\"Hello\", comman=self.hello)\n",
    "        self.alertButton.pack()\n",
    "        \n",
    "    def hello(self):\n",
    "        name = self.nameInput.get() or \"world\"\n",
    "        messagerbox.showinfo(\"Message\", \"Hello, %s\"%name)\n",
    "        \n",
    "app = Application()\n",
    "app.master.title(\"hello, world\")\n",
    "app.mainloop()"
   ]
  },
  {
   "cell_type": "markdown",
   "id": "c75e338f",
   "metadata": {},
   "source": [
    "#### 小结\n",
    "\n",
    "python内置的tkinter可以满足基本的GUI程序的要求，如果是非常复杂的GUI程序，建议用操作系统原生支持的语言和库来编写"
   ]
  },
  {
   "cell_type": "code",
   "execution_count": null,
   "id": "a3d3bb57",
   "metadata": {},
   "outputs": [],
   "source": []
  }
 ],
 "metadata": {
  "kernelspec": {
   "display_name": "Python 3",
   "language": "python",
   "name": "python3"
  },
  "language_info": {
   "codemirror_mode": {
    "name": "ipython",
    "version": 3
   },
   "file_extension": ".py",
   "mimetype": "text/x-python",
   "name": "python",
   "nbconvert_exporter": "python",
   "pygments_lexer": "ipython3",
   "version": "3.8.8"
  }
 },
 "nbformat": 4,
 "nbformat_minor": 5
}
