{
 "cells": [
  {
   "cell_type": "markdown",
   "id": "1f5a190b",
   "metadata": {},
   "source": [
    "字符串编码一直是令人非常头疼的问题，尤其是我们在处理一些不规范的第三方网页的时候。虽然Python提供了Unicode表示的str和bytes两种数据类型，并且可以通过encode()和decode()方法转换，但是，在不知道编码的情况下，对bytes做decode()不好做。\n",
    "\n",
    "对于未知编码的bytes，要把它转换成str，需要先“猜测”编码。猜测的方式是先收集各种编码的特征字符，根据特征字符判断，就能有很大概率“猜对”。\n",
    "\n",
    "当然，我们肯定不能从头自己写这个检测编码的功能，这样做费时费力。chardet这个第三方库正好就派上了用场。用它来检测编码，简单易用。"
   ]
  },
  {
   "cell_type": "markdown",
   "id": "010c0807",
   "metadata": {},
   "source": [
    "#### 安装 chardet"
   ]
  },
  {
   "cell_type": "markdown",
   "id": "15c7e94b",
   "metadata": {},
   "source": [
    "pip install chardet"
   ]
  },
  {
   "cell_type": "markdown",
   "id": "14c6c45f",
   "metadata": {},
   "source": [
    "#### 使用chardet"
   ]
  },
  {
   "cell_type": "code",
   "execution_count": 2,
   "id": "8cc16f0e",
   "metadata": {},
   "outputs": [
    {
     "data": {
      "text/plain": [
       "{'encoding': 'ascii', 'confidence': 1.0, 'language': ''}"
      ]
     },
     "execution_count": 2,
     "metadata": {},
     "output_type": "execute_result"
    }
   ],
   "source": [
    "import chardet\n",
    "\n",
    "chardet.detect(b\"Hello, world!\")"
   ]
  },
  {
   "cell_type": "markdown",
   "id": "9108c030",
   "metadata": {},
   "source": [
    "检测出的编码是ascii，注意到还有个confidence字段，表示检测的概率是1.0（即100%）。"
   ]
  },
  {
   "cell_type": "code",
   "execution_count": 4,
   "id": "b35acd5f",
   "metadata": {},
   "outputs": [
    {
     "data": {
      "text/plain": [
       "{'encoding': 'GB2312', 'confidence': 0.7407407407407407, 'language': 'Chinese'}"
      ]
     },
     "execution_count": 4,
     "metadata": {},
     "output_type": "execute_result"
    }
   ],
   "source": [
    "data = \"离离原上草，一岁一枯荣\".encode(\"gbk\")\n",
    "chardet.detect(data)"
   ]
  },
  {
   "cell_type": "markdown",
   "id": "573df7ba",
   "metadata": {},
   "source": [
    "检测的编码是GB2312，注意到GBK是GB2312的超集，两者是同一种编码，检测正确的概率是74%，language字段指出的语言是'Chinese'。"
   ]
  },
  {
   "cell_type": "code",
   "execution_count": 5,
   "id": "13319ebc",
   "metadata": {},
   "outputs": [
    {
     "data": {
      "text/plain": [
       "{'encoding': 'utf-8', 'confidence': 0.99, 'language': ''}"
      ]
     },
     "execution_count": 5,
     "metadata": {},
     "output_type": "execute_result"
    }
   ],
   "source": [
    "data = \"离离原上草，一岁一枯荣\".encode(\"utf-8\")\n",
    "chardet.detect(data)"
   ]
  },
  {
   "cell_type": "code",
   "execution_count": 7,
   "id": "b4bf63a9",
   "metadata": {},
   "outputs": [
    {
     "data": {
      "text/plain": [
       "{'encoding': 'EUC-JP', 'confidence': 0.99, 'language': 'Japanese'}"
      ]
     },
     "execution_count": 7,
     "metadata": {},
     "output_type": "execute_result"
    }
   ],
   "source": [
    "data = '最新の主要ニュース'.encode('euc-jp')\n",
    "chardet.detect(data)"
   ]
  },
  {
   "cell_type": "markdown",
   "id": "0f6dc08b",
   "metadata": {},
   "source": [
    "#### 小结\n",
    "\n",
    "使用chardet检测编码非常容易，chardet支持检测中文、日本、韩文等多种语言"
   ]
  },
  {
   "cell_type": "code",
   "execution_count": null,
   "id": "824aa297",
   "metadata": {},
   "outputs": [],
   "source": []
  }
 ],
 "metadata": {
  "kernelspec": {
   "display_name": "Python 3",
   "language": "python",
   "name": "python3"
  },
  "language_info": {
   "codemirror_mode": {
    "name": "ipython",
    "version": 3
   },
   "file_extension": ".py",
   "mimetype": "text/x-python",
   "name": "python",
   "nbconvert_exporter": "python",
   "pygments_lexer": "ipython3",
   "version": "3.8.8"
  }
 },
 "nbformat": 4,
 "nbformat_minor": 5
}
