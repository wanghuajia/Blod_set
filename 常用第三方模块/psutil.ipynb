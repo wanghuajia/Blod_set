{
 "cells": [
  {
   "cell_type": "markdown",
   "id": "a914167a",
   "metadata": {},
   "source": [
    "用Python来编写脚本简化日常的运维工作是Python的一个重要用途。在Linux下，有许多系统命令可以让我们时刻监控系统运行的状态，如ps，top，free等等。要获取这些系统信息，Python可以通过subprocess模块调用并获取结果。但这样做显得很麻烦，尤其是要写很多解析代码。\n",
    "\n",
    "在Python中获取系统信息的另一个好办法是使用psutil这个第三方模块。顾名思义，psutil = process and system utilities，它不仅可以通过一两行代码实现系统监控，还可以跨平台使用，支持Linux／UNIX／OSX／Windows等，是系统管理员和运维小伙伴不可或缺的必备模块。"
   ]
  },
  {
   "cell_type": "markdown",
   "id": "0e21af7e",
   "metadata": {},
   "source": [
    "#### 安装psutil\n",
    "\n",
    "pip install psutil"
   ]
  },
  {
   "cell_type": "markdown",
   "id": "a5ef0347",
   "metadata": {},
   "source": [
    "#### 获取CPU信息"
   ]
  },
  {
   "cell_type": "code",
   "execution_count": 1,
   "id": "387e1f0d",
   "metadata": {},
   "outputs": [
    {
     "data": {
      "text/plain": [
       "16"
      ]
     },
     "execution_count": 1,
     "metadata": {},
     "output_type": "execute_result"
    }
   ],
   "source": [
    "import psutil\n",
    "\n",
    "psutil.cpu_count()"
   ]
  },
  {
   "cell_type": "code",
   "execution_count": 3,
   "id": "9b434eed",
   "metadata": {},
   "outputs": [
    {
     "data": {
      "text/plain": [
       "8"
      ]
     },
     "execution_count": 3,
     "metadata": {},
     "output_type": "execute_result"
    }
   ],
   "source": [
    "psutil.cpu_count(logical = False)"
   ]
  },
  {
   "cell_type": "code",
   "execution_count": 5,
   "id": "67e94164",
   "metadata": {},
   "outputs": [
    {
     "data": {
      "text/plain": [
       "scputimes(user=5352.671875, system=3494.59375, idle=220191.390625, interrupt=113.984375, dpc=72.65625)"
      ]
     },
     "execution_count": 5,
     "metadata": {},
     "output_type": "execute_result"
    }
   ],
   "source": [
    "psutil.cpu_times()"
   ]
  },
  {
   "cell_type": "code",
   "execution_count": 8,
   "id": "446d9403",
   "metadata": {},
   "outputs": [
    {
     "name": "stdout",
     "output_type": "stream",
     "text": [
      "[0.0, 0.0, 6.2, 0.0, 0.0, 0.0, 4.6, 0.0, 1.6, 4.6, 1.6, 0.0, 1.6, 0.0, 0.0, 0.0]\n",
      "[0.0, 0.0, 10.8, 0.0, 3.1, 1.5, 0.0, 1.5, 6.2, 3.1, 1.5, 0.0, 0.0, 0.0, 1.5, 0.0]\n",
      "[3.0, 0.0, 9.2, 0.0, 1.5, 3.1, 0.0, 0.0, 3.1, 3.1, 0.0, 0.0, 0.0, 0.0, 3.1, 0.0]\n",
      "[3.1, 0.0, 4.6, 0.0, 3.1, 1.5, 0.0, 1.5, 3.1, 1.5, 1.5, 0.0, 0.0, 0.0, 1.5, 0.0]\n",
      "[6.0, 1.6, 6.2, 0.0, 1.6, 0.0, 0.0, 0.0, 4.7, 0.0, 0.0, 1.5, 1.6, 3.1, 0.0, 0.0]\n",
      "[3.0, 0.0, 3.1, 0.0, 0.0, 0.0, 0.0, 1.5, 0.0, 3.1, 0.0, 0.0, 0.0, 1.6, 1.5, 0.0]\n",
      "[0.0, 0.0, 6.2, 4.6, 3.1, 1.5, 1.5, 4.6, 1.5, 1.5, 0.0, 1.5, 1.5, 1.5, 1.5, 0.0]\n",
      "[3.1, 0.0, 9.4, 0.0, 3.1, 1.6, 0.0, 0.0, 1.6, 1.6, 0.0, 0.0, 1.6, 1.6, 3.1, 0.0]\n",
      "[0.0, 0.0, 7.7, 0.0, 4.6, 1.5, 0.0, 0.0, 0.0, 0.0, 0.0, 0.0, 0.0, 0.0, 0.0, 1.5]\n",
      "[1.5, 0.0, 9.2, 1.5, 3.1, 1.5, 0.0, 0.0, 4.6, 1.5, 0.0, 0.0, 1.5, 0.0, 0.0, 0.0]\n"
     ]
    }
   ],
   "source": [
    "for i in range(10):\n",
    "    print(psutil.cpu_percent(interval=1, percpu=True))"
   ]
  },
  {
   "cell_type": "markdown",
   "id": "ae0066d0",
   "metadata": {},
   "source": [
    "#### 获取内存信息"
   ]
  },
  {
   "cell_type": "code",
   "execution_count": 9,
   "id": "320c20fa",
   "metadata": {},
   "outputs": [
    {
     "data": {
      "text/plain": [
       "svmem(total=14864674816, available=7766425600, percent=47.8, used=7098249216, free=7766425600)"
      ]
     },
     "execution_count": 9,
     "metadata": {},
     "output_type": "execute_result"
    }
   ],
   "source": [
    "psutil.virtual_memory()"
   ]
  },
  {
   "cell_type": "code",
   "execution_count": 10,
   "id": "c2c20153",
   "metadata": {},
   "outputs": [
    {
     "data": {
      "text/plain": [
       "sswap(total=19428077568, used=10048372736, free=9379704832, percent=51.7, sin=0, sout=0)"
      ]
     },
     "execution_count": 10,
     "metadata": {},
     "output_type": "execute_result"
    }
   ],
   "source": [
    "psutil.swap_memory()"
   ]
  },
  {
   "cell_type": "markdown",
   "id": "e902fb76",
   "metadata": {},
   "source": [
    "返回的是字节为单位的整数，可以看到，总内存大小是8589934592 = 8 GB，已用7201386496 = 6.7 GB，使用了66.6%。\n",
    "\n",
    "而交换区大小是1073741824 = 1 GB。"
   ]
  },
  {
   "cell_type": "markdown",
   "id": "11be8b45",
   "metadata": {},
   "source": [
    "#### 获取磁盘信息"
   ]
  },
  {
   "cell_type": "code",
   "execution_count": 12,
   "id": "59cf03c2",
   "metadata": {},
   "outputs": [
    {
     "data": {
      "text/plain": [
       "snetio(bytes_sent=44958105, bytes_recv=1235694782, packets_sent=423532, packets_recv=943989, errin=0, errout=0, dropin=0, dropout=0)"
      ]
     },
     "execution_count": 12,
     "metadata": {},
     "output_type": "execute_result"
    }
   ],
   "source": [
    "psutil.net_io_counters()# 获取网络读写字节／包的个数"
   ]
  },
  {
   "cell_type": "code",
   "execution_count": 13,
   "id": "c6e71267",
   "metadata": {},
   "outputs": [
    {
     "data": {
      "text/plain": [
       "{'以太网': [snicaddr(family=<AddressFamily.AF_LINK: -1>, address='7C-8A-E1-81-80-E1', netmask=None, broadcast=None, ptp=None),\n",
       "  snicaddr(family=<AddressFamily.AF_INET: 2>, address='169.254.180.151', netmask='255.255.0.0', broadcast=None, ptp=None),\n",
       "  snicaddr(family=<AddressFamily.AF_INET6: 23>, address='fe80::8403:30c5:90b8:b497', netmask=None, broadcast=None, ptp=None)],\n",
       " '本地连接* 9': [snicaddr(family=<AddressFamily.AF_LINK: -1>, address='48-51-C5-C1-FC-BF', netmask=None, broadcast=None, ptp=None),\n",
       "  snicaddr(family=<AddressFamily.AF_INET: 2>, address='169.254.167.130', netmask='255.255.0.0', broadcast=None, ptp=None),\n",
       "  snicaddr(family=<AddressFamily.AF_INET6: 23>, address='fe80::cac:3421:380b:a782', netmask=None, broadcast=None, ptp=None)],\n",
       " '本地连接* 10': [snicaddr(family=<AddressFamily.AF_LINK: -1>, address='4A-51-C5-C1-FC-BE', netmask=None, broadcast=None, ptp=None),\n",
       "  snicaddr(family=<AddressFamily.AF_INET: 2>, address='169.254.243.149', netmask='255.255.0.0', broadcast=None, ptp=None),\n",
       "  snicaddr(family=<AddressFamily.AF_INET6: 23>, address='fe80::d8fb:57f:666f:f395', netmask=None, broadcast=None, ptp=None)],\n",
       " 'WLAN': [snicaddr(family=<AddressFamily.AF_LINK: -1>, address='48-51-C5-C1-FC-BE', netmask=None, broadcast=None, ptp=None),\n",
       "  snicaddr(family=<AddressFamily.AF_INET: 2>, address='192.168.1.4', netmask='255.255.255.0', broadcast=None, ptp=None),\n",
       "  snicaddr(family=<AddressFamily.AF_INET6: 23>, address='2409:8a55:23a0:7bd0:e460:4244:2d02:9ba6', netmask=None, broadcast=None, ptp=None),\n",
       "  snicaddr(family=<AddressFamily.AF_INET6: 23>, address='2409:8a55:23a0:7bd0:2caf:3aa7:98c2:1142', netmask=None, broadcast=None, ptp=None),\n",
       "  snicaddr(family=<AddressFamily.AF_INET6: 23>, address='fe80::e460:4244:2d02:9ba6', netmask=None, broadcast=None, ptp=None)],\n",
       " 'Loopback Pseudo-Interface 1': [snicaddr(family=<AddressFamily.AF_INET: 2>, address='127.0.0.1', netmask='255.0.0.0', broadcast=None, ptp=None),\n",
       "  snicaddr(family=<AddressFamily.AF_INET6: 23>, address='::1', netmask=None, broadcast=None, ptp=None)]}"
      ]
     },
     "execution_count": 13,
     "metadata": {},
     "output_type": "execute_result"
    }
   ],
   "source": [
    "psutil.net_if_addrs() # 获取网络接口信息"
   ]
  },
  {
   "cell_type": "code",
   "execution_count": 15,
   "id": "1e3d5976",
   "metadata": {},
   "outputs": [
    {
     "data": {
      "text/plain": [
       "{'以太网': snicstats(isup=False, duplex=<NicDuplex.NIC_DUPLEX_FULL: 2>, speed=0, mtu=1500),\n",
       " 'Loopback Pseudo-Interface 1': snicstats(isup=True, duplex=<NicDuplex.NIC_DUPLEX_FULL: 2>, speed=1073, mtu=1500),\n",
       " 'WLAN': snicstats(isup=True, duplex=<NicDuplex.NIC_DUPLEX_FULL: 2>, speed=144, mtu=1500),\n",
       " '本地连接* 9': snicstats(isup=False, duplex=<NicDuplex.NIC_DUPLEX_FULL: 2>, speed=0, mtu=1500),\n",
       " '本地连接* 10': snicstats(isup=False, duplex=<NicDuplex.NIC_DUPLEX_FULL: 2>, speed=0, mtu=1500)}"
      ]
     },
     "execution_count": 15,
     "metadata": {},
     "output_type": "execute_result"
    }
   ],
   "source": [
    "psutil.net_if_stats()"
   ]
  },
  {
   "cell_type": "code",
   "execution_count": 16,
   "id": "35e069a0",
   "metadata": {},
   "outputs": [
    {
     "data": {
      "text/plain": [
       "[sconn(fd=-1, family=<AddressFamily.AF_INET: 2>, type=<SocketKind.SOCK_STREAM: 1>, laddr=addr(ip='127.0.0.1', port=3877), raddr=(), status='LISTEN', pid=3876),\n",
       " sconn(fd=-1, family=<AddressFamily.AF_INET: 2>, type=<SocketKind.SOCK_STREAM: 1>, laddr=addr(ip='127.0.0.1', port=3900), raddr=addr(ip='127.0.0.1', port=3875), status='ESTABLISHED', pid=16408),\n",
       " sconn(fd=-1, family=<AddressFamily.AF_INET: 2>, type=<SocketKind.SOCK_STREAM: 1>, laddr=addr(ip='192.168.1.4', port=4879), raddr=addr(ip='104.238.180.186', port=443), status='ESTABLISHED', pid=14832),\n",
       " sconn(fd=-1, family=<AddressFamily.AF_INET: 2>, type=<SocketKind.SOCK_STREAM: 1>, laddr=addr(ip='127.0.0.1', port=3878), raddr=addr(ip='127.0.0.1', port=3879), status='ESTABLISHED', pid=3876),\n",
       " sconn(fd=-1, family=<AddressFamily.AF_INET: 2>, type=<SocketKind.SOCK_DGRAM: 2>, laddr=addr(ip='0.0.0.0', port=5353), raddr=(), status='NONE', pid=11828),\n",
       " sconn(fd=-1, family=<AddressFamily.AF_INET: 2>, type=<SocketKind.SOCK_STREAM: 1>, laddr=addr(ip='127.0.0.1', port=1482), raddr=addr(ip='127.0.0.1', port=1483), status='ESTABLISHED', pid=3584),\n",
       " sconn(fd=-1, family=<AddressFamily.AF_INET: 2>, type=<SocketKind.SOCK_DGRAM: 2>, laddr=addr(ip='127.0.0.1', port=49673), raddr=(), status='NONE', pid=4720),\n",
       " sconn(fd=-1, family=<AddressFamily.AF_INET: 2>, type=<SocketKind.SOCK_STREAM: 1>, laddr=addr(ip='127.0.0.1', port=10809), raddr=addr(ip='127.0.0.1', port=4743), status='ESTABLISHED', pid=14832),\n",
       " sconn(fd=-1, family=<AddressFamily.AF_INET: 2>, type=<SocketKind.SOCK_STREAM: 1>, laddr=addr(ip='127.0.0.1', port=10809), raddr=addr(ip='127.0.0.1', port=4857), status='ESTABLISHED', pid=14832),\n",
       " sconn(fd=-1, family=<AddressFamily.AF_INET: 2>, type=<SocketKind.SOCK_DGRAM: 2>, laddr=addr(ip='127.0.0.1', port=49666), raddr=(), status='NONE', pid=4720),\n",
       " sconn(fd=-1, family=<AddressFamily.AF_INET: 2>, type=<SocketKind.SOCK_STREAM: 1>, laddr=addr(ip='127.0.0.1', port=2621), raddr=addr(ip='127.0.0.1', port=2622), status='ESTABLISHED', pid=8616),\n",
       " sconn(fd=-1, family=<AddressFamily.AF_INET6: 23>, type=<SocketKind.SOCK_STREAM: 1>, laddr=addr(ip='::', port=135), raddr=(), status='LISTEN', pid=1520),\n",
       " sconn(fd=-1, family=<AddressFamily.AF_INET: 2>, type=<SocketKind.SOCK_STREAM: 1>, laddr=addr(ip='127.0.0.1', port=3874), raddr=addr(ip='127.0.0.1', port=3901), status='ESTABLISHED', pid=3876),\n",
       " sconn(fd=-1, family=<AddressFamily.AF_INET6: 23>, type=<SocketKind.SOCK_STREAM: 1>, laddr=addr(ip='::', port=3306), raddr=(), status='LISTEN', pid=6320),\n",
       " sconn(fd=-1, family=<AddressFamily.AF_INET: 2>, type=<SocketKind.SOCK_DGRAM: 2>, laddr=addr(ip='0.0.0.0', port=51496), raddr=(), status='NONE', pid=15628),\n",
       " sconn(fd=-1, family=<AddressFamily.AF_INET: 2>, type=<SocketKind.SOCK_STREAM: 1>, laddr=addr(ip='127.0.0.1', port=10086), raddr=(), status='LISTEN', pid=10880),\n",
       " sconn(fd=-1, family=<AddressFamily.AF_INET6: 23>, type=<SocketKind.SOCK_DGRAM: 2>, laddr=addr(ip='::', port=56809), raddr=(), status='NONE', pid=15628),\n",
       " sconn(fd=-1, family=<AddressFamily.AF_INET: 2>, type=<SocketKind.SOCK_STREAM: 1>, laddr=addr(ip='0.0.0.0', port=445), raddr=(), status='LISTEN', pid=4),\n",
       " sconn(fd=-1, family=<AddressFamily.AF_INET: 2>, type=<SocketKind.SOCK_DGRAM: 2>, laddr=addr(ip='192.168.1.4', port=5657), raddr=(), status='NONE', pid=14812),\n",
       " sconn(fd=-1, family=<AddressFamily.AF_INET: 2>, type=<SocketKind.SOCK_DGRAM: 2>, laddr=addr(ip='192.168.1.4', port=55516), raddr=(), status='NONE', pid=14812),\n",
       " sconn(fd=-1, family=<AddressFamily.AF_INET: 2>, type=<SocketKind.SOCK_STREAM: 1>, laddr=addr(ip='192.168.1.4', port=14520), raddr=addr(ip='175.24.251.10', port=443), status='ESTABLISHED', pid=15628),\n",
       " sconn(fd=-1, family=<AddressFamily.AF_INET: 2>, type=<SocketKind.SOCK_STREAM: 1>, laddr=addr(ip='127.0.0.1', port=1791), raddr=addr(ip='127.0.0.1', port=1792), status='ESTABLISHED', pid=16408),\n",
       " sconn(fd=-1, family=<AddressFamily.AF_INET: 2>, type=<SocketKind.SOCK_STREAM: 1>, laddr=addr(ip='0.0.0.0', port=5040), raddr=(), status='LISTEN', pid=9664),\n",
       " sconn(fd=-1, family=<AddressFamily.AF_INET: 2>, type=<SocketKind.SOCK_DGRAM: 2>, laddr=addr(ip='127.0.0.1', port=49678), raddr=(), status='NONE', pid=4720),\n",
       " sconn(fd=-1, family=<AddressFamily.AF_INET: 2>, type=<SocketKind.SOCK_STREAM: 1>, laddr=addr(ip='127.0.0.1', port=4821), raddr=addr(ip='127.0.0.1', port=10809), status='TIME_WAIT', pid=0),\n",
       " sconn(fd=-1, family=<AddressFamily.AF_INET: 2>, type=<SocketKind.SOCK_DGRAM: 2>, laddr=addr(ip='127.0.0.1', port=51017), raddr=(), status='NONE', pid=4720),\n",
       " sconn(fd=-1, family=<AddressFamily.AF_INET: 2>, type=<SocketKind.SOCK_STREAM: 1>, laddr=addr(ip='127.0.0.1', port=1041), raddr=addr(ip='127.0.0.1', port=1042), status='ESTABLISHED', pid=4600),\n",
       " sconn(fd=-1, family=<AddressFamily.AF_INET: 2>, type=<SocketKind.SOCK_STREAM: 1>, laddr=addr(ip='127.0.0.1', port=2629), raddr=addr(ip='127.0.0.1', port=2630), status='ESTABLISHED', pid=8616),\n",
       " sconn(fd=-1, family=<AddressFamily.AF_INET6: 23>, type=<SocketKind.SOCK_STREAM: 1>, laddr=addr(ip='::1', port=8891), raddr=addr(ip='::1', port=3881), status='ESTABLISHED', pid=16408),\n",
       " sconn(fd=-1, family=<AddressFamily.AF_INET: 2>, type=<SocketKind.SOCK_DGRAM: 2>, laddr=addr(ip='0.0.0.0', port=61188), raddr=(), status='NONE', pid=8576),\n",
       " sconn(fd=-1, family=<AddressFamily.AF_INET: 2>, type=<SocketKind.SOCK_STREAM: 1>, laddr=addr(ip='127.0.0.1', port=1039), raddr=addr(ip='127.0.0.1', port=1040), status='ESTABLISHED', pid=4600),\n",
       " sconn(fd=-1, family=<AddressFamily.AF_INET: 2>, type=<SocketKind.SOCK_STREAM: 1>, laddr=addr(ip='127.0.0.1', port=2621), raddr=(), status='LISTEN', pid=8616),\n",
       " sconn(fd=-1, family=<AddressFamily.AF_INET: 2>, type=<SocketKind.SOCK_STREAM: 1>, laddr=addr(ip='127.0.0.1', port=4748), raddr=addr(ip='127.0.0.1', port=10809), status='TIME_WAIT', pid=0),\n",
       " sconn(fd=-1, family=<AddressFamily.AF_INET: 2>, type=<SocketKind.SOCK_DGRAM: 2>, laddr=addr(ip='127.0.0.1', port=49665), raddr=(), status='NONE', pid=4720),\n",
       " sconn(fd=-1, family=<AddressFamily.AF_INET: 2>, type=<SocketKind.SOCK_STREAM: 1>, laddr=addr(ip='127.0.0.1', port=2610), raddr=addr(ip='127.0.0.1', port=2609), status='ESTABLISHED', pid=6436),\n",
       " sconn(fd=-1, family=<AddressFamily.AF_INET: 2>, type=<SocketKind.SOCK_STREAM: 1>, laddr=addr(ip='192.168.1.4', port=4889), raddr=addr(ip='104.238.180.186', port=443), status='ESTABLISHED', pid=14832),\n",
       " sconn(fd=-1, family=<AddressFamily.AF_INET: 2>, type=<SocketKind.SOCK_STREAM: 1>, laddr=addr(ip='127.0.0.1', port=10808), raddr=(), status='LISTEN', pid=14832),\n",
       " sconn(fd=-1, family=<AddressFamily.AF_INET: 2>, type=<SocketKind.SOCK_DGRAM: 2>, laddr=addr(ip='0.0.0.0', port=3702), raddr=(), status='NONE', pid=8516),\n",
       " sconn(fd=-1, family=<AddressFamily.AF_INET: 2>, type=<SocketKind.SOCK_DGRAM: 2>, laddr=addr(ip='127.0.0.1', port=51058), raddr=(), status='NONE', pid=2024),\n",
       " sconn(fd=-1, family=<AddressFamily.AF_INET: 2>, type=<SocketKind.SOCK_DGRAM: 2>, laddr=addr(ip='127.0.0.1', port=58799), raddr=(), status='NONE', pid=4720),\n",
       " sconn(fd=-1, family=<AddressFamily.AF_INET: 2>, type=<SocketKind.SOCK_STREAM: 1>, laddr=addr(ip='192.168.1.4', port=14521), raddr=addr(ip='119.91.148.224', port=7826), status='ESTABLISHED', pid=15628),\n",
       " sconn(fd=-1, family=<AddressFamily.AF_INET6: 23>, type=<SocketKind.SOCK_DGRAM: 2>, laddr=addr(ip='::', port=61189), raddr=(), status='NONE', pid=8576),\n",
       " sconn(fd=-1, family=<AddressFamily.AF_INET: 2>, type=<SocketKind.SOCK_STREAM: 1>, laddr=addr(ip='127.0.0.1', port=10809), raddr=addr(ip='127.0.0.1', port=4630), status='ESTABLISHED', pid=14832),\n",
       " sconn(fd=-1, family=<AddressFamily.AF_INET: 2>, type=<SocketKind.SOCK_STREAM: 1>, laddr=addr(ip='127.0.0.1', port=2627), raddr=addr(ip='127.0.0.1', port=2626), status='ESTABLISHED', pid=8616),\n",
       " sconn(fd=-1, family=<AddressFamily.AF_INET6: 23>, type=<SocketKind.SOCK_STREAM: 1>, laddr=addr(ip='::', port=33060), raddr=(), status='LISTEN', pid=6320),\n",
       " sconn(fd=-1, family=<AddressFamily.AF_INET: 2>, type=<SocketKind.SOCK_STREAM: 1>, laddr=addr(ip='127.0.0.1', port=2609), raddr=addr(ip='127.0.0.1', port=2610), status='ESTABLISHED', pid=6436),\n",
       " sconn(fd=-1, family=<AddressFamily.AF_INET: 2>, type=<SocketKind.SOCK_STREAM: 1>, laddr=addr(ip='127.0.0.1', port=3874), raddr=(), status='LISTEN', pid=3876),\n",
       " sconn(fd=-1, family=<AddressFamily.AF_INET: 2>, type=<SocketKind.SOCK_STREAM: 1>, laddr=addr(ip='127.0.0.1', port=2613), raddr=addr(ip='127.0.0.1', port=2599), status='ESTABLISHED', pid=16408),\n",
       " sconn(fd=-1, family=<AddressFamily.AF_INET: 2>, type=<SocketKind.SOCK_STREAM: 1>, laddr=addr(ip='127.0.0.1', port=3896), raddr=addr(ip='127.0.0.1', port=3897), status='ESTABLISHED', pid=3876),\n",
       " sconn(fd=-1, family=<AddressFamily.AF_INET: 2>, type=<SocketKind.SOCK_DGRAM: 2>, laddr=addr(ip='127.0.0.1', port=50828), raddr=(), status='NONE', pid=14812),\n",
       " sconn(fd=-1, family=<AddressFamily.AF_INET6: 23>, type=<SocketKind.SOCK_DGRAM: 2>, laddr=addr(ip='::', port=3702), raddr=(), status='NONE', pid=8516),\n",
       " sconn(fd=-1, family=<AddressFamily.AF_INET: 2>, type=<SocketKind.SOCK_STREAM: 1>, laddr=addr(ip='127.0.0.1', port=1033), raddr=addr(ip='127.0.0.1', port=1032), status='ESTABLISHED', pid=6320),\n",
       " sconn(fd=-1, family=<AddressFamily.AF_INET6: 23>, type=<SocketKind.SOCK_DGRAM: 2>, laddr=addr(ip='::', port=5353), raddr=(), status='NONE', pid=15628),\n",
       " sconn(fd=-1, family=<AddressFamily.AF_INET: 2>, type=<SocketKind.SOCK_STREAM: 1>, laddr=addr(ip='127.0.0.1', port=2599), raddr=addr(ip='127.0.0.1', port=2601), status='ESTABLISHED', pid=6436),\n",
       " sconn(fd=-1, family=<AddressFamily.AF_INET: 2>, type=<SocketKind.SOCK_STREAM: 1>, laddr=addr(ip='127.0.0.1', port=2601), raddr=addr(ip='127.0.0.1', port=2599), status='ESTABLISHED', pid=16408),\n",
       " sconn(fd=-1, family=<AddressFamily.AF_INET: 2>, type=<SocketKind.SOCK_DGRAM: 2>, laddr=addr(ip='0.0.0.0', port=5355), raddr=(), status='NONE', pid=3664),\n",
       " sconn(fd=-1, family=<AddressFamily.AF_INET: 2>, type=<SocketKind.SOCK_DGRAM: 2>, laddr=addr(ip='127.0.0.1', port=49667), raddr=(), status='NONE', pid=4720),\n",
       " sconn(fd=-1, family=<AddressFamily.AF_INET: 2>, type=<SocketKind.SOCK_DGRAM: 2>, laddr=addr(ip='192.168.1.4', port=51057), raddr=(), status='NONE', pid=2024),\n",
       " sconn(fd=-1, family=<AddressFamily.AF_INET: 2>, type=<SocketKind.SOCK_STREAM: 1>, laddr=addr(ip='127.0.0.1', port=2623), raddr=addr(ip='127.0.0.1', port=2618), status='ESTABLISHED', pid=16408),\n",
       " sconn(fd=-1, family=<AddressFamily.AF_INET: 2>, type=<SocketKind.SOCK_STREAM: 1>, laddr=addr(ip='127.0.0.1', port=2618), raddr=addr(ip='127.0.0.1', port=2623), status='ESTABLISHED', pid=8616),\n",
       " sconn(fd=-1, family=<AddressFamily.AF_INET: 2>, type=<SocketKind.SOCK_STREAM: 1>, laddr=addr(ip='127.0.0.1', port=4826), raddr=addr(ip='127.0.0.1', port=10809), status='TIME_WAIT', pid=0),\n",
       " sconn(fd=-1, family=<AddressFamily.AF_INET: 2>, type=<SocketKind.SOCK_STREAM: 1>, laddr=addr(ip='127.0.0.1', port=1032), raddr=addr(ip='127.0.0.1', port=1033), status='ESTABLISHED', pid=6320),\n",
       " sconn(fd=-1, family=<AddressFamily.AF_INET6: 23>, type=<SocketKind.SOCK_STREAM: 1>, laddr=addr(ip='::', port=1025), raddr=(), status='LISTEN', pid=1256),\n",
       " sconn(fd=-1, family=<AddressFamily.AF_INET: 2>, type=<SocketKind.SOCK_DGRAM: 2>, laddr=addr(ip='127.0.0.1', port=49684), raddr=(), status='NONE', pid=6744),\n",
       " sconn(fd=-1, family=<AddressFamily.AF_INET: 2>, type=<SocketKind.SOCK_STREAM: 1>, laddr=addr(ip='127.0.0.1', port=1484), raddr=addr(ip='127.0.0.1', port=1485), status='ESTABLISHED', pid=11360),\n",
       " sconn(fd=-1, family=<AddressFamily.AF_INET6: 23>, type=<SocketKind.SOCK_DGRAM: 2>, laddr=addr(ip='fe80::e460:4244:2d02:9ba6', port=51055), raddr=(), status='NONE', pid=2024),\n",
       " sconn(fd=-1, family=<AddressFamily.AF_INET6: 23>, type=<SocketKind.SOCK_DGRAM: 2>, laddr=addr(ip='::', port=61959), raddr=(), status='NONE', pid=8516),\n",
       " sconn(fd=-1, family=<AddressFamily.AF_INET: 2>, type=<SocketKind.SOCK_DGRAM: 2>, laddr=addr(ip='127.0.0.1', port=49674), raddr=(), status='NONE', pid=4720),\n",
       " sconn(fd=-1, family=<AddressFamily.AF_INET6: 23>, type=<SocketKind.SOCK_STREAM: 1>, laddr=addr(ip='::1', port=8888), raddr=(), status='LISTEN', pid=11360),\n",
       " sconn(fd=-1, family=<AddressFamily.AF_INET: 2>, type=<SocketKind.SOCK_DGRAM: 2>, laddr=addr(ip='127.0.0.1', port=64846), raddr=(), status='NONE', pid=14812),\n",
       " sconn(fd=-1, family=<AddressFamily.AF_INET: 2>, type=<SocketKind.SOCK_STREAM: 1>, laddr=addr(ip='127.0.0.1', port=2596), raddr=addr(ip='127.0.0.1', port=2602), status='ESTABLISHED', pid=6436),\n",
       " sconn(fd=-1, family=<AddressFamily.AF_INET6: 23>, type=<SocketKind.SOCK_DGRAM: 2>, laddr=addr(ip='::', port=5355), raddr=(), status='NONE', pid=3664),\n",
       " sconn(fd=-1, family=<AddressFamily.AF_INET: 2>, type=<SocketKind.SOCK_DGRAM: 2>, laddr=addr(ip='0.0.0.0', port=56809), raddr=(), status='NONE', pid=15628),\n",
       " sconn(fd=-1, family=<AddressFamily.AF_INET: 2>, type=<SocketKind.SOCK_STREAM: 1>, laddr=addr(ip='127.0.0.1', port=10809), raddr=addr(ip='127.0.0.1', port=4888), status='ESTABLISHED', pid=14832),\n",
       " sconn(fd=-1, family=<AddressFamily.AF_INET: 2>, type=<SocketKind.SOCK_STREAM: 1>, laddr=addr(ip='127.0.0.1', port=2595), raddr=addr(ip='127.0.0.1', port=2612), status='ESTABLISHED', pid=6436),\n",
       " sconn(fd=-1, family=<AddressFamily.AF_INET: 2>, type=<SocketKind.SOCK_STREAM: 1>, laddr=addr(ip='127.0.0.1', port=1040), raddr=addr(ip='127.0.0.1', port=1039), status='ESTABLISHED', pid=4600),\n",
       " sconn(fd=-1, family=<AddressFamily.AF_INET: 2>, type=<SocketKind.SOCK_STREAM: 1>, laddr=addr(ip='127.0.0.1', port=16308), raddr=(), status='LISTEN', pid=4720),\n",
       " sconn(fd=-1, family=<AddressFamily.AF_INET: 2>, type=<SocketKind.SOCK_STREAM: 1>, laddr=addr(ip='0.0.0.0', port=7680), raddr=(), status='LISTEN', pid=17048),\n",
       " sconn(fd=-1, family=<AddressFamily.AF_INET: 2>, type=<SocketKind.SOCK_STREAM: 1>, laddr=addr(ip='127.0.0.1', port=10809), raddr=addr(ip='127.0.0.1', port=4780), status='ESTABLISHED', pid=14832),\n",
       " sconn(fd=-1, family=<AddressFamily.AF_INET: 2>, type=<SocketKind.SOCK_STREAM: 1>, laddr=addr(ip='127.0.0.1', port=3875), raddr=addr(ip='127.0.0.1', port=3880), status='ESTABLISHED', pid=3876),\n",
       " sconn(fd=-1, family=<AddressFamily.AF_INET: 2>, type=<SocketKind.SOCK_STREAM: 1>, laddr=addr(ip='127.0.0.1', port=10809), raddr=addr(ip='127.0.0.1', port=4852), status='ESTABLISHED', pid=14832),\n",
       " sconn(fd=-1, family=<AddressFamily.AF_INET: 2>, type=<SocketKind.SOCK_STREAM: 1>, laddr=addr(ip='127.0.0.1', port=3895), raddr=(), status='LISTEN', pid=3876),\n",
       " sconn(fd=-1, family=<AddressFamily.AF_INET: 2>, type=<SocketKind.SOCK_DGRAM: 2>, laddr=addr(ip='127.0.0.1', port=49676), raddr=(), status='NONE', pid=4720),\n",
       " sconn(fd=-1, family=<AddressFamily.AF_INET: 2>, type=<SocketKind.SOCK_DGRAM: 2>, laddr=addr(ip='127.0.0.1', port=50827), raddr=(), status='NONE', pid=14812),\n",
       " sconn(fd=-1, family=<AddressFamily.AF_INET: 2>, type=<SocketKind.SOCK_STREAM: 1>, laddr=addr(ip='127.0.0.1', port=4835), raddr=addr(ip='127.0.0.1', port=10809), status='TIME_WAIT', pid=0),\n",
       " sconn(fd=-1, family=<AddressFamily.AF_INET: 2>, type=<SocketKind.SOCK_STREAM: 1>, laddr=addr(ip='127.0.0.1', port=10809), raddr=addr(ip='127.0.0.1', port=4795), status='CLOSE_WAIT', pid=14832),\n",
       " sconn(fd=-1, family=<AddressFamily.AF_INET: 2>, type=<SocketKind.SOCK_STREAM: 1>, laddr=addr(ip='127.0.0.1', port=2619), raddr=addr(ip='127.0.0.1', port=2634), status='ESTABLISHED', pid=8616),\n",
       " sconn(fd=-1, family=<AddressFamily.AF_INET: 2>, type=<SocketKind.SOCK_STREAM: 1>, laddr=addr(ip='192.168.1.4', port=10816), raddr=addr(ip='103.212.12.52', port=3000), status='ESTABLISHED', pid=11536),\n",
       " sconn(fd=-1, family=<AddressFamily.AF_INET: 2>, type=<SocketKind.SOCK_STREAM: 1>, laddr=addr(ip='127.0.0.1', port=16308), raddr=addr(ip='127.0.0.1', port=1208), status='ESTABLISHED', pid=4720),\n",
       " sconn(fd=-1, family=<AddressFamily.AF_INET6: 23>, type=<SocketKind.SOCK_DGRAM: 2>, laddr=addr(ip='::', port=5353), raddr=(), status='NONE', pid=3664),\n",
       " sconn(fd=-1, family=<AddressFamily.AF_INET: 2>, type=<SocketKind.SOCK_STREAM: 1>, laddr=addr(ip='0.0.0.0', port=1025), raddr=(), status='LISTEN', pid=1256),\n",
       " sconn(fd=-1, family=<AddressFamily.AF_INET: 2>, type=<SocketKind.SOCK_STREAM: 1>, laddr=addr(ip='127.0.0.1', port=1481), raddr=addr(ip='127.0.0.1', port=1480), status='ESTABLISHED', pid=11360),\n",
       " sconn(fd=-1, family=<AddressFamily.AF_INET: 2>, type=<SocketKind.SOCK_STREAM: 1>, laddr=addr(ip='127.0.0.1', port=4868), raddr=addr(ip='127.0.0.1', port=10809), status='TIME_WAIT', pid=0),\n",
       " sconn(fd=-1, family=<AddressFamily.AF_INET: 2>, type=<SocketKind.SOCK_DGRAM: 2>, laddr=addr(ip='127.0.0.1', port=49677), raddr=(), status='NONE', pid=4720),\n",
       " sconn(fd=-1, family=<AddressFamily.AF_INET: 2>, type=<SocketKind.SOCK_STREAM: 1>, laddr=addr(ip='192.168.1.4', port=1133), raddr=addr(ip='183.240.216.242', port=80), status='CLOSE_WAIT', pid=4748),\n",
       " sconn(fd=-1, family=<AddressFamily.AF_INET6: 23>, type=<SocketKind.SOCK_STREAM: 1>, laddr=addr(ip='::', port=7680), raddr=(), status='LISTEN', pid=17048),\n",
       " sconn(fd=-1, family=<AddressFamily.AF_INET6: 23>, type=<SocketKind.SOCK_STREAM: 1>, laddr=addr(ip='::', port=49667), raddr=(), status='LISTEN', pid=2192),\n",
       " sconn(fd=-1, family=<AddressFamily.AF_INET: 2>, type=<SocketKind.SOCK_STREAM: 1>, laddr=addr(ip='127.0.0.1', port=2631), raddr=addr(ip='127.0.0.1', port=2618), status='ESTABLISHED', pid=16408),\n",
       " sconn(fd=-1, family=<AddressFamily.AF_INET: 2>, type=<SocketKind.SOCK_STREAM: 1>, laddr=addr(ip='0.0.0.0', port=49664), raddr=(), status='LISTEN', pid=1276),\n",
       " sconn(fd=-1, family=<AddressFamily.AF_INET6: 23>, type=<SocketKind.SOCK_STREAM: 1>, laddr=addr(ip='::', port=445), raddr=(), status='LISTEN', pid=4),\n",
       " sconn(fd=-1, family=<AddressFamily.AF_INET: 2>, type=<SocketKind.SOCK_DGRAM: 2>, laddr=addr(ip='192.168.1.4', port=137), raddr=(), status='NONE', pid=4),\n",
       " sconn(fd=-1, family=<AddressFamily.AF_INET6: 23>, type=<SocketKind.SOCK_DGRAM: 2>, laddr=addr(ip='::1', port=51056), raddr=(), status='NONE', pid=2024),\n",
       " sconn(fd=-1, family=<AddressFamily.AF_INET: 2>, type=<SocketKind.SOCK_STREAM: 1>, laddr=addr(ip='127.0.0.1', port=2617), raddr=(), status='LISTEN', pid=8616),\n",
       " sconn(fd=-1, family=<AddressFamily.AF_INET: 2>, type=<SocketKind.SOCK_STREAM: 1>, laddr=addr(ip='127.0.0.1', port=2612), raddr=addr(ip='127.0.0.1', port=2595), status='ESTABLISHED', pid=16408),\n",
       " sconn(fd=-1, family=<AddressFamily.AF_INET: 2>, type=<SocketKind.SOCK_STREAM: 1>, laddr=addr(ip='127.0.0.1', port=3876), raddr=addr(ip='127.0.0.1', port=3903), status='ESTABLISHED', pid=3876),\n",
       " sconn(fd=-1, family=<AddressFamily.AF_INET: 2>, type=<SocketKind.SOCK_STREAM: 1>, laddr=addr(ip='127.0.0.1', port=10809), raddr=(), status='LISTEN', pid=14832),\n",
       " sconn(fd=-1, family=<AddressFamily.AF_INET: 2>, type=<SocketKind.SOCK_DGRAM: 2>, laddr=addr(ip='0.0.0.0', port=61958), raddr=(), status='NONE', pid=8516),\n",
       " sconn(fd=-1, family=<AddressFamily.AF_INET: 2>, type=<SocketKind.SOCK_STREAM: 1>, laddr=addr(ip='127.0.0.1', port=3894), raddr=addr(ip='127.0.0.1', port=3893), status='ESTABLISHED', pid=3876),\n",
       " sconn(fd=-1, family=<AddressFamily.AF_INET: 2>, type=<SocketKind.SOCK_STREAM: 1>, laddr=addr(ip='0.0.0.0', port=1026), raddr=(), status='LISTEN', pid=4720),\n",
       " sconn(fd=-1, family=<AddressFamily.AF_INET: 2>, type=<SocketKind.SOCK_STREAM: 1>, laddr=addr(ip='127.0.0.1', port=3875), raddr=addr(ip='127.0.0.1', port=3900), status='ESTABLISHED', pid=3876),\n",
       " sconn(fd=-1, family=<AddressFamily.AF_INET: 2>, type=<SocketKind.SOCK_STREAM: 1>, laddr=addr(ip='127.0.0.1', port=3878), raddr=addr(ip='127.0.0.1', port=3902), status='ESTABLISHED', pid=3876),\n",
       " sconn(fd=-1, family=<AddressFamily.AF_INET: 2>, type=<SocketKind.SOCK_STREAM: 1>, laddr=addr(ip='127.0.0.1', port=1793), raddr=addr(ip='127.0.0.1', port=1794), status='ESTABLISHED', pid=16408),\n",
       " sconn(fd=-1, family=<AddressFamily.AF_INET6: 23>, type=<SocketKind.SOCK_DGRAM: 2>, laddr=addr(ip='fe80::e460:4244:2d02:9ba6', port=1900), raddr=(), status='NONE', pid=2024),\n",
       " sconn(fd=-1, family=<AddressFamily.AF_INET: 2>, type=<SocketKind.SOCK_STREAM: 1>, laddr=addr(ip='127.0.0.1', port=10809), raddr=addr(ip='127.0.0.1', port=4513), status='ESTABLISHED', pid=14832),\n",
       " sconn(fd=-1, family=<AddressFamily.AF_INET: 2>, type=<SocketKind.SOCK_STREAM: 1>, laddr=addr(ip='127.0.0.1', port=2611), raddr=addr(ip='127.0.0.1', port=2596), status='ESTABLISHED', pid=16408),\n",
       " sconn(fd=-1, family=<AddressFamily.AF_INET: 2>, type=<SocketKind.SOCK_DGRAM: 2>, laddr=addr(ip='127.0.0.1', port=51034), raddr=(), status='NONE', pid=14812),\n",
       " sconn(fd=-1, family=<AddressFamily.AF_INET: 2>, type=<SocketKind.SOCK_STREAM: 1>, laddr=addr(ip='192.168.1.4', port=1132), raddr=addr(ip='183.240.216.242', port=80), status='CLOSE_WAIT', pid=4748),\n",
       " sconn(fd=-1, family=<AddressFamily.AF_INET: 2>, type=<SocketKind.SOCK_STREAM: 1>, laddr=addr(ip='127.0.0.1', port=3897), raddr=addr(ip='127.0.0.1', port=3896), status='ESTABLISHED', pid=3876),\n",
       " sconn(fd=-1, family=<AddressFamily.AF_INET: 2>, type=<SocketKind.SOCK_STREAM: 1>, laddr=addr(ip='192.168.1.4', port=14538), raddr=addr(ip='74.125.204.188', port=443), status='ESTABLISHED', pid=15628),\n",
       " sconn(fd=-1, family=<AddressFamily.AF_INET: 2>, type=<SocketKind.SOCK_STREAM: 1>, laddr=addr(ip='127.0.0.1', port=2621), raddr=addr(ip='127.0.0.1', port=2633), status='ESTABLISHED', pid=8616),\n",
       " sconn(fd=-1, family=<AddressFamily.AF_INET: 2>, type=<SocketKind.SOCK_DGRAM: 2>, laddr=addr(ip='127.0.0.1', port=50826), raddr=(), status='NONE', pid=14812),\n",
       " sconn(fd=-1, family=<AddressFamily.AF_INET: 2>, type=<SocketKind.SOCK_STREAM: 1>, laddr=addr(ip='127.0.0.1', port=2608), raddr=(), status='LISTEN', pid=6436),\n",
       " sconn(fd=-1, family=<AddressFamily.AF_INET: 2>, type=<SocketKind.SOCK_DGRAM: 2>, laddr=addr(ip='0.0.0.0', port=51495), raddr=(), status='NONE', pid=15628),\n",
       " sconn(fd=-1, family=<AddressFamily.AF_INET: 2>, type=<SocketKind.SOCK_STREAM: 1>, laddr=addr(ip='127.0.0.1', port=3876), raddr=(), status='LISTEN', pid=3876),\n",
       " sconn(fd=-1, family=<AddressFamily.AF_INET: 2>, type=<SocketKind.SOCK_STREAM: 1>, laddr=addr(ip='127.0.0.1', port=2597), raddr=addr(ip='127.0.0.1', port=2614), status='ESTABLISHED', pid=6436),\n",
       " sconn(fd=-1, family=<AddressFamily.AF_INET: 2>, type=<SocketKind.SOCK_STREAM: 1>, laddr=addr(ip='127.0.0.1', port=3903), raddr=addr(ip='127.0.0.1', port=3876), status='ESTABLISHED', pid=16408),\n",
       " sconn(fd=-1, family=<AddressFamily.AF_INET: 2>, type=<SocketKind.SOCK_DGRAM: 2>, laddr=addr(ip='127.0.0.1', port=49669), raddr=(), status='NONE', pid=4720),\n",
       " sconn(fd=-1, family=<AddressFamily.AF_INET: 2>, type=<SocketKind.SOCK_STREAM: 1>, laddr=addr(ip='127.0.0.1', port=1027), raddr=(), status='LISTEN', pid=4720),\n",
       " sconn(fd=-1, family=<AddressFamily.AF_INET: 2>, type=<SocketKind.SOCK_DGRAM: 2>, laddr=addr(ip='127.0.0.1', port=49672), raddr=(), status='NONE', pid=4720),\n",
       " sconn(fd=-1, family=<AddressFamily.AF_INET: 2>, type=<SocketKind.SOCK_STREAM: 1>, laddr=addr(ip='127.0.0.1', port=4849), raddr=addr(ip='127.0.0.1', port=10809), status='TIME_WAIT', pid=0),\n",
       " sconn(fd=-1, family=<AddressFamily.AF_INET: 2>, type=<SocketKind.SOCK_STREAM: 1>, laddr=addr(ip='192.168.1.4', port=4781), raddr=addr(ip='36.152.44.205', port=443), status='ESTABLISHED', pid=14832),\n",
       " sconn(fd=-1, family=<AddressFamily.AF_INET: 2>, type=<SocketKind.SOCK_DGRAM: 2>, laddr=addr(ip='127.0.0.1', port=51018), raddr=(), status='NONE', pid=4720),\n",
       " sconn(fd=-1, family=<AddressFamily.AF_INET: 2>, type=<SocketKind.SOCK_STREAM: 1>, laddr=addr(ip='127.0.0.1', port=2626), raddr=addr(ip='127.0.0.1', port=2627), status='ESTABLISHED', pid=8616),\n",
       " sconn(fd=-1, family=<AddressFamily.AF_INET: 2>, type=<SocketKind.SOCK_STREAM: 1>, laddr=addr(ip='127.0.0.1', port=1487), raddr=addr(ip='127.0.0.1', port=1486), status='ESTABLISHED', pid=3584),\n",
       " sconn(fd=-1, family=<AddressFamily.AF_INET: 2>, type=<SocketKind.SOCK_STREAM: 1>, laddr=addr(ip='127.0.0.1', port=1480), raddr=addr(ip='127.0.0.1', port=1481), status='ESTABLISHED', pid=11360),\n",
       " sconn(fd=-1, family=<AddressFamily.AF_INET6: 23>, type=<SocketKind.SOCK_STREAM: 1>, laddr=addr(ip='::', port=49666), raddr=(), status='LISTEN', pid=1964),\n",
       " sconn(fd=-1, family=<AddressFamily.AF_INET6: 23>, type=<SocketKind.SOCK_STREAM: 1>, laddr=addr(ip='::1', port=8889), raddr=(), status='LISTEN', pid=3584),\n",
       " sconn(fd=-1, family=<AddressFamily.AF_INET: 2>, type=<SocketKind.SOCK_DGRAM: 2>, laddr=addr(ip='0.0.0.0', port=49681), raddr=(), status='NONE', pid=4732),\n",
       " sconn(fd=-1, family=<AddressFamily.AF_INET: 2>, type=<SocketKind.SOCK_STREAM: 1>, laddr=addr(ip='192.168.1.4', port=4503), raddr=addr(ip='110.43.33.166', port=443), status='ESTABLISHED', pid=14832),\n",
       " sconn(fd=-1, family=<AddressFamily.AF_INET: 2>, type=<SocketKind.SOCK_STREAM: 1>, laddr=addr(ip='127.0.0.1', port=8890), raddr=(), status='LISTEN', pid=4600),\n",
       " sconn(fd=-1, family=<AddressFamily.AF_INET: 2>, type=<SocketKind.SOCK_STREAM: 1>, laddr=addr(ip='0.0.0.0', port=49668), raddr=(), status='LISTEN', pid=3984),\n",
       " sconn(fd=-1, family=<AddressFamily.AF_INET: 2>, type=<SocketKind.SOCK_STREAM: 1>, laddr=addr(ip='127.0.0.1', port=35600), raddr=(), status='LISTEN', pid=4872),\n",
       " sconn(fd=-1, family=<AddressFamily.AF_INET6: 23>, type=<SocketKind.SOCK_STREAM: 1>, laddr=addr(ip='::1', port=3881), raddr=addr(ip='::1', port=8891), status='ESTABLISHED', pid=15628),\n",
       " sconn(fd=-1, family=<AddressFamily.AF_INET: 2>, type=<SocketKind.SOCK_STREAM: 1>, laddr=addr(ip='127.0.0.1', port=4502), raddr=addr(ip='127.0.0.1', port=10809), status='ESTABLISHED', pid=15628),\n",
       " sconn(fd=-1, family=<AddressFamily.AF_INET: 2>, type=<SocketKind.SOCK_STREAM: 1>, laddr=addr(ip='127.0.0.1', port=4753), raddr=addr(ip='127.0.0.1', port=10809), status='TIME_WAIT', pid=0),\n",
       " sconn(fd=-1, family=<AddressFamily.AF_INET: 2>, type=<SocketKind.SOCK_STREAM: 1>, laddr=addr(ip='127.0.0.1', port=4893), raddr=addr(ip='127.0.0.1', port=10809), status='ESTABLISHED', pid=15628),\n",
       " sconn(fd=-1, family=<AddressFamily.AF_INET: 2>, type=<SocketKind.SOCK_DGRAM: 2>, laddr=addr(ip='192.168.1.4', port=138), raddr=(), status='NONE', pid=4),\n",
       " sconn(fd=-1, family=<AddressFamily.AF_INET: 2>, type=<SocketKind.SOCK_STREAM: 1>, laddr=addr(ip='192.168.1.4', port=4900), raddr=addr(ip='139.159.246.60', port=443), status='ESTABLISHED', pid=14832),\n",
       " sconn(fd=-1, family=<AddressFamily.AF_INET: 2>, type=<SocketKind.SOCK_STREAM: 1>, laddr=addr(ip='192.168.1.4', port=4048), raddr=addr(ip='49.233.246.186', port=80), status='CLOSE_WAIT', pid=11604),\n",
       " sconn(fd=-1, family=<AddressFamily.AF_INET: 2>, type=<SocketKind.SOCK_STREAM: 1>, laddr=addr(ip='0.0.0.0', port=33060), raddr=(), status='LISTEN', pid=6320),\n",
       " sconn(fd=-1, family=<AddressFamily.AF_INET: 2>, type=<SocketKind.SOCK_STREAM: 1>, laddr=addr(ip='127.0.0.1', port=3875), raddr=(), status='LISTEN', pid=3876),\n",
       " sconn(fd=-1, family=<AddressFamily.AF_INET: 2>, type=<SocketKind.SOCK_STREAM: 1>, laddr=addr(ip='127.0.0.1', port=10809), raddr=addr(ip='127.0.0.1', port=4860), status='TIME_WAIT', pid=0),\n",
       " sconn(fd=-1, family=<AddressFamily.AF_INET: 2>, type=<SocketKind.SOCK_DGRAM: 2>, laddr=addr(ip='0.0.0.0', port=5050), raddr=(), status='NONE', pid=9664),\n",
       " sconn(fd=-1, family=<AddressFamily.AF_INET: 2>, type=<SocketKind.SOCK_STREAM: 1>, laddr=addr(ip='127.0.0.1', port=1851), raddr=addr(ip='127.0.0.1', port=1852), status='ESTABLISHED', pid=15020),\n",
       " sconn(fd=-1, family=<AddressFamily.AF_INET: 2>, type=<SocketKind.SOCK_STREAM: 1>, laddr=addr(ip='127.0.0.1', port=4878), raddr=addr(ip='127.0.0.1', port=10809), status='ESTABLISHED', pid=2188),\n",
       " sconn(fd=-1, family=<AddressFamily.AF_INET: 2>, type=<SocketKind.SOCK_STREAM: 1>, laddr=addr(ip='127.0.0.1', port=2599), raddr=addr(ip='127.0.0.1', port=2613), status='ESTABLISHED', pid=6436),\n",
       " sconn(fd=-1, family=<AddressFamily.AF_INET: 2>, type=<SocketKind.SOCK_STREAM: 1>, laddr=addr(ip='127.0.0.1', port=4630), raddr=addr(ip='127.0.0.1', port=10809), status='ESTABLISHED', pid=15628),\n",
       " sconn(fd=-1, family=<AddressFamily.AF_INET: 2>, type=<SocketKind.SOCK_DGRAM: 2>, laddr=addr(ip='127.0.0.1', port=49668), raddr=(), status='NONE', pid=4720),\n",
       " sconn(fd=-1, family=<AddressFamily.AF_INET: 2>, type=<SocketKind.SOCK_DGRAM: 2>, laddr=addr(ip='127.0.0.1', port=49664), raddr=(), status='NONE', pid=5464),\n",
       " sconn(fd=-1, family=<AddressFamily.AF_INET: 2>, type=<SocketKind.SOCK_DGRAM: 2>, laddr=addr(ip='127.0.0.1', port=49675), raddr=(), status='NONE', pid=4720),\n",
       " sconn(fd=-1, family=<AddressFamily.AF_INET: 2>, type=<SocketKind.SOCK_DGRAM: 2>, laddr=addr(ip='127.0.0.1', port=50829), raddr=(), status='NONE', pid=14812),\n",
       " sconn(fd=-1, family=<AddressFamily.AF_INET: 2>, type=<SocketKind.SOCK_STREAM: 1>, laddr=addr(ip='127.0.0.1', port=10250), raddr=(), status='LISTEN', pid=1012),\n",
       " sconn(fd=-1, family=<AddressFamily.AF_INET: 2>, type=<SocketKind.SOCK_STREAM: 1>, laddr=addr(ip='192.168.1.4', port=4744), raddr=addr(ip='104.238.180.186', port=443), status='ESTABLISHED', pid=14832),\n",
       " sconn(fd=-1, family=<AddressFamily.AF_INET: 2>, type=<SocketKind.SOCK_STREAM: 1>, laddr=addr(ip='127.0.0.1', port=1485), raddr=addr(ip='127.0.0.1', port=1484), status='ESTABLISHED', pid=11360),\n",
       " sconn(fd=-1, family=<AddressFamily.AF_INET: 2>, type=<SocketKind.SOCK_STREAM: 1>, laddr=addr(ip='127.0.0.1', port=4795), raddr=addr(ip='127.0.0.1', port=10809), status='FIN_WAIT2', pid=15628),\n",
       " sconn(fd=-1, family=<AddressFamily.AF_INET: 2>, type=<SocketKind.SOCK_DGRAM: 2>, laddr=addr(ip='0.0.0.0', port=56808), raddr=(), status='NONE', pid=15628),\n",
       " sconn(fd=-1, family=<AddressFamily.AF_INET: 2>, type=<SocketKind.SOCK_STREAM: 1>, laddr=addr(ip='127.0.0.1', port=8891), raddr=(), status='LISTEN', pid=16408),\n",
       " sconn(fd=-1, family=<AddressFamily.AF_INET: 2>, type=<SocketKind.SOCK_DGRAM: 2>, laddr=addr(ip='127.0.0.1', port=5656), raddr=(), status='NONE', pid=4720),\n",
       " sconn(fd=-1, family=<AddressFamily.AF_INET: 2>, type=<SocketKind.SOCK_STREAM: 1>, laddr=addr(ip='192.168.1.4', port=3802), raddr=addr(ip='175.24.250.39', port=443), status='ESTABLISHED', pid=15628),\n",
       " sconn(fd=-1, family=<AddressFamily.AF_INET: 2>, type=<SocketKind.SOCK_DGRAM: 2>, laddr=addr(ip='127.0.0.1', port=49670), raddr=(), status='NONE', pid=4720),\n",
       " sconn(fd=-1, family=<AddressFamily.AF_INET: 2>, type=<SocketKind.SOCK_STREAM: 1>, laddr=addr(ip='127.0.0.1', port=2614), raddr=addr(ip='127.0.0.1', port=2597), status='ESTABLISHED', pid=16408),\n",
       " sconn(fd=-1, family=<AddressFamily.AF_INET: 2>, type=<SocketKind.SOCK_STREAM: 1>, laddr=addr(ip='127.0.0.1', port=2620), raddr=(), status='LISTEN', pid=8616),\n",
       " sconn(fd=-1, family=<AddressFamily.AF_INET: 2>, type=<SocketKind.SOCK_STREAM: 1>, laddr=addr(ip='127.0.0.1', port=4888), raddr=addr(ip='127.0.0.1', port=10809), status='ESTABLISHED', pid=17048),\n",
       " sconn(fd=-1, family=<AddressFamily.AF_INET: 2>, type=<SocketKind.SOCK_DGRAM: 2>, laddr=addr(ip='0.0.0.0', port=49685), raddr=(), status='NONE', pid=4732),\n",
       " sconn(fd=-1, family=<AddressFamily.AF_INET: 2>, type=<SocketKind.SOCK_STREAM: 1>, laddr=addr(ip='192.168.1.4', port=1165), raddr=addr(ip='221.181.99.18', port=8080), status='ESTABLISHED', pid=1584),\n",
       " sconn(fd=-1, family=<AddressFamily.AF_INET: 2>, type=<SocketKind.SOCK_DGRAM: 2>, laddr=addr(ip='127.0.0.1', port=10808), raddr=(), status='NONE', pid=14832),\n",
       " sconn(fd=-1, family=<AddressFamily.AF_INET: 2>, type=<SocketKind.SOCK_STREAM: 1>, laddr=addr(ip='127.0.0.1', port=28317), raddr=(), status='LISTEN', pid=4748),\n",
       " sconn(fd=-1, family=<AddressFamily.AF_INET: 2>, type=<SocketKind.SOCK_STREAM: 1>, laddr=addr(ip='127.0.0.1', port=4848), raddr=addr(ip='127.0.0.1', port=10809), status='TIME_WAIT', pid=0),\n",
       " sconn(fd=-1, family=<AddressFamily.AF_INET: 2>, type=<SocketKind.SOCK_STREAM: 1>, laddr=addr(ip='127.0.0.1', port=2599), raddr=(), status='LISTEN', pid=6436),\n",
       " sconn(fd=-1, family=<AddressFamily.AF_INET: 2>, type=<SocketKind.SOCK_STREAM: 1>, laddr=addr(ip='127.0.0.1', port=1105), raddr=addr(ip='127.0.0.1', port=35600), status='ESTABLISHED', pid=6576),\n",
       " sconn(fd=-1, family=<AddressFamily.AF_INET: 2>, type=<SocketKind.SOCK_STREAM: 1>, laddr=addr(ip='127.0.0.1', port=2630), raddr=addr(ip='127.0.0.1', port=2629), status='ESTABLISHED', pid=8616),\n",
       " sconn(fd=-1, family=<AddressFamily.AF_INET: 2>, type=<SocketKind.SOCK_STREAM: 1>, laddr=addr(ip='127.0.0.1', port=4875), raddr=addr(ip='127.0.0.1', port=10809), status='TIME_WAIT', pid=0),\n",
       " sconn(fd=-1, family=<AddressFamily.AF_INET: 2>, type=<SocketKind.SOCK_STREAM: 1>, laddr=addr(ip='127.0.0.1', port=1208), raddr=addr(ip='127.0.0.1', port=16308), status='ESTABLISHED', pid=14812),\n",
       " sconn(fd=-1, family=<AddressFamily.AF_INET: 2>, type=<SocketKind.SOCK_STREAM: 1>, laddr=addr(ip='127.0.0.1', port=4861), raddr=addr(ip='127.0.0.1', port=10809), status='TIME_WAIT', pid=0),\n",
       " sconn(fd=-1, family=<AddressFamily.AF_INET: 2>, type=<SocketKind.SOCK_STREAM: 1>, laddr=addr(ip='127.0.0.1', port=35600), raddr=addr(ip='127.0.0.1', port=1105), status='ESTABLISHED', pid=4872),\n",
       " sconn(fd=-1, family=<AddressFamily.AF_INET: 2>, type=<SocketKind.SOCK_STREAM: 1>, laddr=addr(ip='192.168.1.4', port=4798), raddr=addr(ip='104.238.180.186', port=443), status='ESTABLISHED', pid=14832),\n",
       " sconn(fd=-1, family=<AddressFamily.AF_INET: 2>, type=<SocketKind.SOCK_STREAM: 1>, laddr=addr(ip='127.0.0.1', port=4780), raddr=addr(ip='127.0.0.1', port=10809), status='ESTABLISHED', pid=15628),\n",
       " sconn(fd=-1, family=<AddressFamily.AF_INET: 2>, type=<SocketKind.SOCK_STREAM: 1>, laddr=addr(ip='0.0.0.0', port=3306), raddr=(), status='LISTEN', pid=6320),\n",
       " sconn(fd=-1, family=<AddressFamily.AF_INET: 2>, type=<SocketKind.SOCK_STREAM: 1>, laddr=addr(ip='127.0.0.1', port=1483), raddr=addr(ip='127.0.0.1', port=1482), status='ESTABLISHED', pid=3584),\n",
       " sconn(fd=-1, family=<AddressFamily.AF_INET: 2>, type=<SocketKind.SOCK_STREAM: 1>, laddr=addr(ip='127.0.0.1', port=2618), raddr=(), status='LISTEN', pid=8616),\n",
       " sconn(fd=-1, family=<AddressFamily.AF_INET: 2>, type=<SocketKind.SOCK_DGRAM: 2>, laddr=addr(ip='0.0.0.0', port=5353), raddr=(), status='NONE', pid=15628),\n",
       " sconn(fd=-1, family=<AddressFamily.AF_INET6: 23>, type=<SocketKind.SOCK_DGRAM: 2>, laddr=addr(ip='::', port=3702), raddr=(), status='NONE', pid=8576),\n",
       " sconn(fd=-1, family=<AddressFamily.AF_INET: 2>, type=<SocketKind.SOCK_DGRAM: 2>, laddr=addr(ip='127.0.0.1', port=1900), raddr=(), status='NONE', pid=2024),\n",
       " sconn(fd=-1, family=<AddressFamily.AF_INET: 2>, type=<SocketKind.SOCK_STREAM: 1>, laddr=addr(ip='127.0.0.1', port=2633), raddr=addr(ip='127.0.0.1', port=2621), status='ESTABLISHED', pid=16408),\n",
       " sconn(fd=-1, family=<AddressFamily.AF_INET: 2>, type=<SocketKind.SOCK_STREAM: 1>, laddr=addr(ip='127.0.0.1', port=2597), raddr=(), status='LISTEN', pid=6436),\n",
       " sconn(fd=-1, family=<AddressFamily.AF_INET: 2>, type=<SocketKind.SOCK_STREAM: 1>, laddr=addr(ip='192.168.1.4', port=4635), raddr=addr(ip='36.152.44.205', port=443), status='ESTABLISHED', pid=14832),\n",
       " sconn(fd=-1, family=<AddressFamily.AF_INET6: 23>, type=<SocketKind.SOCK_STREAM: 1>, laddr=addr(ip='2409:8a55:23a0:7bd0:2caf:3aa7:98c2:1142', port=14203), raddr=addr(ip='2603:1046:c02:1080::2', port=443), status='ESTABLISHED', pid=8124),\n",
       " sconn(fd=-1, family=<AddressFamily.AF_INET: 2>, type=<SocketKind.SOCK_STREAM: 1>, laddr=addr(ip='127.0.0.1', port=4867), raddr=addr(ip='127.0.0.1', port=10809), status='TIME_WAIT', pid=0),\n",
       " sconn(fd=-1, family=<AddressFamily.AF_INET6: 23>, type=<SocketKind.SOCK_STREAM: 1>, laddr=addr(ip='::', port=49664), raddr=(), status='LISTEN', pid=1276),\n",
       " sconn(fd=-1, family=<AddressFamily.AF_INET: 2>, type=<SocketKind.SOCK_STREAM: 1>, laddr=addr(ip='0.0.0.0', port=5357), raddr=(), status='LISTEN', pid=4),\n",
       " sconn(fd=-1, family=<AddressFamily.AF_INET: 2>, type=<SocketKind.SOCK_STREAM: 1>, laddr=addr(ip='127.0.0.1', port=3901), raddr=addr(ip='127.0.0.1', port=3874), status='ESTABLISHED', pid=16408),\n",
       " sconn(fd=-1, family=<AddressFamily.AF_INET: 2>, type=<SocketKind.SOCK_STREAM: 1>, laddr=addr(ip='127.0.0.1', port=3902), raddr=addr(ip='127.0.0.1', port=3878), status='ESTABLISHED', pid=16408),\n",
       " sconn(fd=-1, family=<AddressFamily.AF_INET: 2>, type=<SocketKind.SOCK_STREAM: 1>, laddr=addr(ip='127.0.0.1', port=10809), raddr=addr(ip='127.0.0.1', port=4899), status='ESTABLISHED', pid=14832),\n",
       " sconn(fd=-1, family=<AddressFamily.AF_INET: 2>, type=<SocketKind.SOCK_STREAM: 1>, laddr=addr(ip='192.168.1.4', port=4853), raddr=addr(ip='104.238.180.186', port=443), status='ESTABLISHED', pid=14832),\n",
       " sconn(fd=-1, family=<AddressFamily.AF_INET: 2>, type=<SocketKind.SOCK_STREAM: 1>, laddr=addr(ip='127.0.0.1', port=4794), raddr=addr(ip='127.0.0.1', port=10809), status='TIME_WAIT', pid=0),\n",
       " sconn(fd=-1, family=<AddressFamily.AF_INET: 2>, type=<SocketKind.SOCK_STREAM: 1>, laddr=addr(ip='127.0.0.1', port=2602), raddr=addr(ip='127.0.0.1', port=2596), status='ESTABLISHED', pid=16408),\n",
       " sconn(fd=-1, family=<AddressFamily.AF_INET: 2>, type=<SocketKind.SOCK_STREAM: 1>, laddr=addr(ip='127.0.0.1', port=2617), raddr=addr(ip='127.0.0.1', port=2632), status='ESTABLISHED', pid=8616),\n",
       " sconn(fd=-1, family=<AddressFamily.AF_INET: 2>, type=<SocketKind.SOCK_STREAM: 1>, laddr=addr(ip='127.0.0.1', port=4874), raddr=addr(ip='127.0.0.1', port=10809), status='TIME_WAIT', pid=0),\n",
       " sconn(fd=-1, family=<AddressFamily.AF_INET: 2>, type=<SocketKind.SOCK_DGRAM: 2>, laddr=addr(ip='0.0.0.0', port=56824), raddr=(), status='NONE', pid=15628),\n",
       " sconn(fd=-1, family=<AddressFamily.AF_INET: 2>, type=<SocketKind.SOCK_STREAM: 1>, laddr=addr(ip='127.0.0.1', port=10809), raddr=addr(ip='127.0.0.1', port=4878), status='ESTABLISHED', pid=14832),\n",
       " sconn(fd=-1, family=<AddressFamily.AF_INET6: 23>, type=<SocketKind.SOCK_STREAM: 1>, laddr=addr(ip='2409:8a55:23a0:7bd0:2caf:3aa7:98c2:1142', port=4851), raddr=addr(ip='2409:8c54:1003:1019::2d', port=80), status='TIME_WAIT', pid=0),\n",
       " sconn(fd=-1, family=<AddressFamily.AF_INET: 2>, type=<SocketKind.SOCK_STREAM: 1>, laddr=addr(ip='127.0.0.1', port=4857), raddr=addr(ip='127.0.0.1', port=10809), status='ESTABLISHED', pid=17048),\n",
       " sconn(fd=-1, family=<AddressFamily.AF_INET: 2>, type=<SocketKind.SOCK_STREAM: 1>, laddr=addr(ip='127.0.0.1', port=4899), raddr=addr(ip='127.0.0.1', port=10809), status='ESTABLISHED', pid=15628),\n",
       " sconn(fd=-1, family=<AddressFamily.AF_INET: 2>, type=<SocketKind.SOCK_DGRAM: 2>, laddr=addr(ip='127.0.0.1', port=58800), raddr=(), status='NONE', pid=4720),\n",
       " sconn(fd=-1, family=<AddressFamily.AF_INET: 2>, type=<SocketKind.SOCK_STREAM: 1>, laddr=addr(ip='0.0.0.0', port=49665), raddr=(), status='LISTEN', pid=1112),\n",
       " sconn(fd=-1, family=<AddressFamily.AF_INET: 2>, type=<SocketKind.SOCK_STREAM: 1>, laddr=addr(ip='127.0.0.1', port=4862), raddr=addr(ip='127.0.0.1', port=10809), status='TIME_WAIT', pid=0),\n",
       " sconn(fd=-1, family=<AddressFamily.AF_INET6: 23>, type=<SocketKind.SOCK_STREAM: 1>, laddr=addr(ip='::1', port=8891), raddr=(), status='LISTEN', pid=16408),\n",
       " sconn(fd=-1, family=<AddressFamily.AF_INET: 2>, type=<SocketKind.SOCK_DGRAM: 2>, laddr=addr(ip='127.0.0.1', port=49683), raddr=(), status='NONE', pid=6744),\n",
       " sconn(fd=-1, family=<AddressFamily.AF_INET: 2>, type=<SocketKind.SOCK_STREAM: 1>, laddr=addr(ip='127.0.0.1', port=1042), raddr=addr(ip='127.0.0.1', port=1041), status='ESTABLISHED', pid=4600),\n",
       " sconn(fd=-1, family=<AddressFamily.AF_INET: 2>, type=<SocketKind.SOCK_STREAM: 1>, laddr=addr(ip='127.0.0.1', port=2632), raddr=addr(ip='127.0.0.1', port=2617), status='ESTABLISHED', pid=16408),\n",
       " sconn(fd=-1, family=<AddressFamily.AF_INET: 2>, type=<SocketKind.SOCK_STREAM: 1>, laddr=addr(ip='0.0.0.0', port=49666), raddr=(), status='LISTEN', pid=1964),\n",
       " sconn(fd=-1, family=<AddressFamily.AF_INET: 2>, type=<SocketKind.SOCK_STREAM: 1>, laddr=addr(ip='0.0.0.0', port=8680), raddr=(), status='LISTEN', pid=1584),\n",
       " sconn(fd=-1, family=<AddressFamily.AF_INET: 2>, type=<SocketKind.SOCK_STREAM: 1>, laddr=addr(ip='192.168.1.4', port=139), raddr=(), status='LISTEN', pid=4),\n",
       " sconn(fd=-1, family=<AddressFamily.AF_INET: 2>, type=<SocketKind.SOCK_STREAM: 1>, laddr=addr(ip='127.0.0.1', port=2596), raddr=(), status='LISTEN', pid=6436),\n",
       " sconn(fd=-1, family=<AddressFamily.AF_INET: 2>, type=<SocketKind.SOCK_STREAM: 1>, laddr=addr(ip='127.0.0.1', port=4864), raddr=addr(ip='127.0.0.1', port=10809), status='CLOSE_WAIT', pid=15628),\n",
       " sconn(fd=-1, family=<AddressFamily.AF_INET6: 23>, type=<SocketKind.SOCK_DGRAM: 2>, laddr=addr(ip='::', port=56825), raddr=(), status='NONE', pid=15628),\n",
       " sconn(fd=-1, family=<AddressFamily.AF_INET: 2>, type=<SocketKind.SOCK_STREAM: 1>, laddr=addr(ip='127.0.0.1', port=2634), raddr=addr(ip='127.0.0.1', port=2619), status='ESTABLISHED', pid=16408),\n",
       " sconn(fd=-1, family=<AddressFamily.AF_INET: 2>, type=<SocketKind.SOCK_STREAM: 1>, laddr=addr(ip='127.0.0.1', port=1792), raddr=addr(ip='127.0.0.1', port=1791), status='ESTABLISHED', pid=16408),\n",
       " sconn(fd=-1, family=<AddressFamily.AF_INET: 2>, type=<SocketKind.SOCK_STREAM: 1>, laddr=addr(ip='192.168.1.4', port=14175), raddr=addr(ip='212.129.230.34', port=443), status='ESTABLISHED', pid=4720),\n",
       " sconn(fd=-1, family=<AddressFamily.AF_INET: 2>, type=<SocketKind.SOCK_DGRAM: 2>, laddr=addr(ip='192.168.1.4', port=1900), raddr=(), status='NONE', pid=2024),\n",
       " sconn(fd=-1, family=<AddressFamily.AF_INET: 2>, type=<SocketKind.SOCK_STREAM: 1>, laddr=addr(ip='192.168.1.4', port=4894), raddr=addr(ip='36.152.44.205', port=443), status='ESTABLISHED', pid=14832),\n",
       " sconn(fd=-1, family=<AddressFamily.AF_INET: 2>, type=<SocketKind.SOCK_STREAM: 1>, laddr=addr(ip='127.0.0.1', port=1852), raddr=addr(ip='127.0.0.1', port=1851), status='ESTABLISHED', pid=15020),\n",
       " sconn(fd=-1, family=<AddressFamily.AF_INET6: 23>, type=<SocketKind.SOCK_STREAM: 1>, laddr=addr(ip='::', port=49665), raddr=(), status='LISTEN', pid=1112),\n",
       " sconn(fd=-1, family=<AddressFamily.AF_INET6: 23>, type=<SocketKind.SOCK_STREAM: 1>, laddr=addr(ip='::', port=49668), raddr=(), status='LISTEN', pid=3984),\n",
       " sconn(fd=-1, family=<AddressFamily.AF_INET: 2>, type=<SocketKind.SOCK_DGRAM: 2>, laddr=addr(ip='0.0.0.0', port=5353), raddr=(), status='NONE', pid=3664),\n",
       " sconn(fd=-1, family=<AddressFamily.AF_INET: 2>, type=<SocketKind.SOCK_STREAM: 1>, laddr=addr(ip='192.168.1.4', port=4898), raddr=addr(ip='120.92.48.232', port=80), status='TIME_WAIT', pid=0),\n",
       " sconn(fd=-1, family=<AddressFamily.AF_INET: 2>, type=<SocketKind.SOCK_DGRAM: 2>, laddr=addr(ip='127.0.0.1', port=50825), raddr=(), status='NONE', pid=14812),\n",
       " sconn(fd=-1, family=<AddressFamily.AF_INET: 2>, type=<SocketKind.SOCK_STREAM: 1>, laddr=addr(ip='127.0.0.1', port=2619), raddr=(), status='LISTEN', pid=8616),\n",
       " sconn(fd=-1, family=<AddressFamily.AF_INET: 2>, type=<SocketKind.SOCK_STREAM: 1>, laddr=addr(ip='127.0.0.1', port=2607), raddr=addr(ip='127.0.0.1', port=2606), status='ESTABLISHED', pid=6436),\n",
       " sconn(fd=-1, family=<AddressFamily.AF_INET: 2>, type=<SocketKind.SOCK_STREAM: 1>, laddr=addr(ip='127.0.0.1', port=4866), raddr=addr(ip='127.0.0.1', port=10809), status='TIME_WAIT', pid=0),\n",
       " sconn(fd=-1, family=<AddressFamily.AF_INET: 2>, type=<SocketKind.SOCK_STREAM: 1>, laddr=addr(ip='127.0.0.1', port=4883), raddr=addr(ip='127.0.0.1', port=10809), status='TIME_WAIT', pid=0),\n",
       " sconn(fd=-1, family=<AddressFamily.AF_INET: 2>, type=<SocketKind.SOCK_STREAM: 1>, laddr=addr(ip='127.0.0.1', port=8888), raddr=(), status='LISTEN', pid=11360),\n",
       " sconn(fd=-1, family=<AddressFamily.AF_INET: 2>, type=<SocketKind.SOCK_STREAM: 1>, laddr=addr(ip='127.0.0.1', port=2598), raddr=(), status='LISTEN', pid=6436),\n",
       " sconn(fd=-1, family=<AddressFamily.AF_INET: 2>, type=<SocketKind.SOCK_STREAM: 1>, laddr=addr(ip='127.0.0.1', port=1486), raddr=addr(ip='127.0.0.1', port=1487), status='ESTABLISHED', pid=3584),\n",
       " sconn(fd=-1, family=<AddressFamily.AF_INET6: 23>, type=<SocketKind.SOCK_STREAM: 1>, laddr=addr(ip='::1', port=3862), raddr=addr(ip='::1', port=8891), status='ESTABLISHED', pid=15628),\n",
       " sconn(fd=-1, family=<AddressFamily.AF_INET: 2>, type=<SocketKind.SOCK_STREAM: 1>, laddr=addr(ip='0.0.0.0', port=49667), raddr=(), status='LISTEN', pid=2192),\n",
       " sconn(fd=-1, family=<AddressFamily.AF_INET: 2>, type=<SocketKind.SOCK_STREAM: 1>, laddr=addr(ip='127.0.0.1', port=4743), raddr=addr(ip='127.0.0.1', port=10809), status='ESTABLISHED', pid=15628),\n",
       " sconn(fd=-1, family=<AddressFamily.AF_INET: 2>, type=<SocketKind.SOCK_STREAM: 1>, laddr=addr(ip='127.0.0.1', port=2618), raddr=addr(ip='127.0.0.1', port=2631), status='ESTABLISHED', pid=8616),\n",
       " sconn(fd=-1, family=<AddressFamily.AF_INET6: 23>, type=<SocketKind.SOCK_DGRAM: 2>, laddr=addr(ip='::', port=5353), raddr=(), status='NONE', pid=11828),\n",
       " sconn(fd=-1, family=<AddressFamily.AF_INET6: 23>, type=<SocketKind.SOCK_DGRAM: 2>, laddr=addr(ip='::1', port=1900), raddr=(), status='NONE', pid=2024),\n",
       " sconn(fd=-1, family=<AddressFamily.AF_INET: 2>, type=<SocketKind.SOCK_STREAM: 1>, laddr=addr(ip='192.168.1.4', port=11869), raddr=addr(ip='106.75.188.103', port=443), status='ESTABLISHED', pid=4872),\n",
       " sconn(fd=-1, family=<AddressFamily.AF_INET: 2>, type=<SocketKind.SOCK_STREAM: 1>, laddr=addr(ip='127.0.0.1', port=2595), raddr=(), status='LISTEN', pid=6436),\n",
       " sconn(fd=-1, family=<AddressFamily.AF_INET: 2>, type=<SocketKind.SOCK_STREAM: 1>, laddr=addr(ip='127.0.0.1', port=3893), raddr=addr(ip='127.0.0.1', port=3894), status='ESTABLISHED', pid=3876),\n",
       " sconn(fd=-1, family=<AddressFamily.AF_INET: 2>, type=<SocketKind.SOCK_STREAM: 1>, laddr=addr(ip='127.0.0.1', port=10809), raddr=addr(ip='127.0.0.1', port=4864), status='FIN_WAIT2', pid=14832),\n",
       " sconn(fd=-1, family=<AddressFamily.AF_INET: 2>, type=<SocketKind.SOCK_STREAM: 1>, laddr=addr(ip='192.168.1.4', port=1853), raddr=addr(ip='39.98.81.66', port=8082), status='ESTABLISHED', pid=15020),\n",
       " sconn(fd=-1, family=<AddressFamily.AF_INET: 2>, type=<SocketKind.SOCK_STREAM: 1>, laddr=addr(ip='127.0.0.1', port=1031), raddr=addr(ip='127.0.0.1', port=1030), status='ESTABLISHED', pid=6320),\n",
       " sconn(fd=-1, family=<AddressFamily.AF_INET: 2>, type=<SocketKind.SOCK_STREAM: 1>, laddr=addr(ip='127.0.0.1', port=4869), raddr=addr(ip='127.0.0.1', port=10809), status='TIME_WAIT', pid=0),\n",
       " sconn(fd=-1, family=<AddressFamily.AF_INET: 2>, type=<SocketKind.SOCK_STREAM: 1>, laddr=addr(ip='127.0.0.1', port=2628), raddr=(), status='LISTEN', pid=8616),\n",
       " sconn(fd=-1, family=<AddressFamily.AF_INET: 2>, type=<SocketKind.SOCK_STREAM: 1>, laddr=addr(ip='127.0.0.1', port=2596), raddr=addr(ip='127.0.0.1', port=2611), status='ESTABLISHED', pid=6436),\n",
       " sconn(fd=-1, family=<AddressFamily.AF_INET: 2>, type=<SocketKind.SOCK_STREAM: 1>, laddr=addr(ip='127.0.0.1', port=10809), raddr=addr(ip='127.0.0.1', port=4893), status='ESTABLISHED', pid=14832),\n",
       " sconn(fd=-1, family=<AddressFamily.AF_INET: 2>, type=<SocketKind.SOCK_STREAM: 1>, laddr=addr(ip='127.0.0.1', port=2622), raddr=addr(ip='127.0.0.1', port=2621), status='ESTABLISHED', pid=16408),\n",
       " sconn(fd=-1, family=<AddressFamily.AF_INET: 2>, type=<SocketKind.SOCK_DGRAM: 2>, laddr=addr(ip='0.0.0.0', port=49679), raddr=(), status='NONE', pid=4720),\n",
       " sconn(fd=-1, family=<AddressFamily.AF_INET: 2>, type=<SocketKind.SOCK_STREAM: 1>, laddr=addr(ip='127.0.0.1', port=4513), raddr=addr(ip='127.0.0.1', port=10809), status='ESTABLISHED', pid=15628),\n",
       " sconn(fd=-1, family=<AddressFamily.AF_INET: 2>, type=<SocketKind.SOCK_STREAM: 1>, laddr=addr(ip='127.0.0.1', port=12205), raddr=(), status='LISTEN', pid=16216),\n",
       " sconn(fd=-1, family=<AddressFamily.AF_INET: 2>, type=<SocketKind.SOCK_STREAM: 1>, laddr=addr(ip='127.0.0.1', port=1794), raddr=addr(ip='127.0.0.1', port=1793), status='ESTABLISHED', pid=16408),\n",
       " sconn(fd=-1, family=<AddressFamily.AF_INET: 2>, type=<SocketKind.SOCK_STREAM: 1>, laddr=addr(ip='192.168.1.4', port=4858), raddr=addr(ip='104.238.180.186', port=443), status='ESTABLISHED', pid=14832),\n",
       " sconn(fd=-1, family=<AddressFamily.AF_INET: 2>, type=<SocketKind.SOCK_DGRAM: 2>, laddr=addr(ip='0.0.0.0', port=16107), raddr=(), status='NONE', pid=4720),\n",
       " sconn(fd=-1, family=<AddressFamily.AF_INET: 2>, type=<SocketKind.SOCK_DGRAM: 2>, laddr=addr(ip='127.0.0.1', port=51035), raddr=(), status='NONE', pid=14812),\n",
       " sconn(fd=-1, family=<AddressFamily.AF_INET: 2>, type=<SocketKind.SOCK_STREAM: 1>, laddr=addr(ip='192.168.1.4', port=5997), raddr=addr(ip='52.139.250.253', port=443), status='ESTABLISHED', pid=4836),\n",
       " sconn(fd=-1, family=<AddressFamily.AF_INET: 2>, type=<SocketKind.SOCK_STREAM: 1>, laddr=addr(ip='127.0.0.1', port=8990), raddr=(), status='LISTEN', pid=4600),\n",
       " sconn(fd=-1, family=<AddressFamily.AF_INET: 2>, type=<SocketKind.SOCK_STREAM: 1>, laddr=addr(ip='127.0.0.1', port=8889), raddr=(), status='LISTEN', pid=3584),\n",
       " sconn(fd=-1, family=<AddressFamily.AF_INET: 2>, type=<SocketKind.SOCK_DGRAM: 2>, laddr=addr(ip='127.0.0.1', port=64847), raddr=(), status='NONE', pid=14812),\n",
       " sconn(fd=-1, family=<AddressFamily.AF_INET: 2>, type=<SocketKind.SOCK_STREAM: 1>, laddr=addr(ip='127.0.0.1', port=1030), raddr=addr(ip='127.0.0.1', port=1031), status='ESTABLISHED', pid=6320),\n",
       " sconn(fd=-1, family=<AddressFamily.AF_INET: 2>, type=<SocketKind.SOCK_STREAM: 1>, laddr=addr(ip='127.0.0.1', port=3880), raddr=addr(ip='127.0.0.1', port=3875), status='ESTABLISHED', pid=16408),\n",
       " sconn(fd=-1, family=<AddressFamily.AF_INET6: 23>, type=<SocketKind.SOCK_STREAM: 1>, laddr=addr(ip='::1', port=8891), raddr=addr(ip='::1', port=3862), status='ESTABLISHED', pid=16408),\n",
       " sconn(fd=-1, family=<AddressFamily.AF_INET: 2>, type=<SocketKind.SOCK_STREAM: 1>, laddr=addr(ip='0.0.0.0', port=135), raddr=(), status='LISTEN', pid=1520),\n",
       " sconn(fd=-1, family=<AddressFamily.AF_INET: 2>, type=<SocketKind.SOCK_STREAM: 1>, laddr=addr(ip='192.168.1.4', port=4514), raddr=addr(ip='104.238.180.186', port=443), status='ESTABLISHED', pid=14832),\n",
       " sconn(fd=-1, family=<AddressFamily.AF_INET: 2>, type=<SocketKind.SOCK_STREAM: 1>, laddr=addr(ip='127.0.0.1', port=2606), raddr=addr(ip='127.0.0.1', port=2607), status='ESTABLISHED', pid=6436),\n",
       " sconn(fd=-1, family=<AddressFamily.AF_INET: 2>, type=<SocketKind.SOCK_DGRAM: 2>, laddr=addr(ip='127.0.0.1', port=49671), raddr=(), status='NONE', pid=4720),\n",
       " sconn(fd=-1, family=<AddressFamily.AF_INET6: 23>, type=<SocketKind.SOCK_DGRAM: 2>, laddr=addr(ip='::', port=51496), raddr=(), status='NONE', pid=15628),\n",
       " sconn(fd=-1, family=<AddressFamily.AF_INET: 2>, type=<SocketKind.SOCK_STREAM: 1>, laddr=addr(ip='127.0.0.1', port=3878), raddr=(), status='LISTEN', pid=3876),\n",
       " sconn(fd=-1, family=<AddressFamily.AF_INET: 2>, type=<SocketKind.SOCK_STREAM: 1>, laddr=addr(ip='127.0.0.1', port=10809), raddr=addr(ip='127.0.0.1', port=4502), status='ESTABLISHED', pid=14832),\n",
       " sconn(fd=-1, family=<AddressFamily.AF_INET6: 23>, type=<SocketKind.SOCK_STREAM: 1>, laddr=addr(ip='::', port=5357), raddr=(), status='LISTEN', pid=4),\n",
       " sconn(fd=-1, family=<AddressFamily.AF_INET: 2>, type=<SocketKind.SOCK_DGRAM: 2>, laddr=addr(ip='0.0.0.0', port=56825), raddr=(), status='NONE', pid=15628),\n",
       " sconn(fd=-1, family=<AddressFamily.AF_INET: 2>, type=<SocketKind.SOCK_STREAM: 1>, laddr=addr(ip='127.0.0.1', port=4852), raddr=addr(ip='127.0.0.1', port=10809), status='ESTABLISHED', pid=17048),\n",
       " sconn(fd=-1, family=<AddressFamily.AF_INET: 2>, type=<SocketKind.SOCK_DGRAM: 2>, laddr=addr(ip='0.0.0.0', port=3702), raddr=(), status='NONE', pid=8576),\n",
       " sconn(fd=-1, family=<AddressFamily.AF_INET: 2>, type=<SocketKind.SOCK_STREAM: 1>, laddr=addr(ip='127.0.0.1', port=3879), raddr=addr(ip='127.0.0.1', port=3878), status='ESTABLISHED', pid=16408),\n",
       " sconn(fd=-1, family=<AddressFamily.AF_INET: 2>, type=<SocketKind.SOCK_STREAM: 1>, laddr=addr(ip='127.0.0.1', port=4865), raddr=addr(ip='127.0.0.1', port=10809), status='TIME_WAIT', pid=0),\n",
       " sconn(fd=-1, family=<AddressFamily.AF_INET: 2>, type=<SocketKind.SOCK_STREAM: 1>, laddr=addr(ip='192.168.1.4', port=3800), raddr=addr(ip='119.91.147.108', port=7826), status='ESTABLISHED', pid=15628),\n",
       " sconn(fd=-1, family=<AddressFamily.AF_INET: 2>, type=<SocketKind.SOCK_DGRAM: 2>, laddr=addr(ip='0.0.0.0', port=49860), raddr=(), status='NONE', pid=4720),\n",
       " sconn(fd=-1, family=<AddressFamily.AF_INET: 2>, type=<SocketKind.SOCK_DGRAM: 2>, laddr=addr(ip='127.0.0.1', port=50824), raddr=(), status='NONE', pid=14812)]"
      ]
     },
     "execution_count": 16,
     "metadata": {},
     "output_type": "execute_result"
    }
   ],
   "source": [
    "psutil.net_connections()"
   ]
  },
  {
   "cell_type": "markdown",
   "id": "2f25e8af",
   "metadata": {},
   "source": [
    "#### 获取进程信息"
   ]
  },
  {
   "cell_type": "code",
   "execution_count": 18,
   "id": "ee3f76cf",
   "metadata": {},
   "outputs": [
    {
     "data": {
      "text/plain": [
       "[0,\n",
       " 4,\n",
       " 172,\n",
       " 580,\n",
       " 608,\n",
       " 696,\n",
       " 940,\n",
       " 1012,\n",
       " 1112,\n",
       " 1124,\n",
       " 1128,\n",
       " 1216,\n",
       " 1256,\n",
       " 1276,\n",
       " 1400,\n",
       " 1404,\n",
       " 1428,\n",
       " 1436,\n",
       " 1520,\n",
       " 1576,\n",
       " 1584,\n",
       " 1628,\n",
       " 1656,\n",
       " 1708,\n",
       " 1800,\n",
       " 1816,\n",
       " 1852,\n",
       " 1864,\n",
       " 1956,\n",
       " 1964,\n",
       " 1992,\n",
       " 2024,\n",
       " 2028,\n",
       " 2036,\n",
       " 2068,\n",
       " 2076,\n",
       " 2084,\n",
       " 2132,\n",
       " 2188,\n",
       " 2192,\n",
       " 2200,\n",
       " 2284,\n",
       " 2312,\n",
       " 2420,\n",
       " 2580,\n",
       " 2688,\n",
       " 2736,\n",
       " 2840,\n",
       " 2848,\n",
       " 2868,\n",
       " 2900,\n",
       " 2916,\n",
       " 2936,\n",
       " 2948,\n",
       " 3064,\n",
       " 3136,\n",
       " 3144,\n",
       " 3152,\n",
       " 3160,\n",
       " 3176,\n",
       " 3244,\n",
       " 3284,\n",
       " 3312,\n",
       " 3320,\n",
       " 3508,\n",
       " 3560,\n",
       " 3584,\n",
       " 3604,\n",
       " 3624,\n",
       " 3648,\n",
       " 3656,\n",
       " 3664,\n",
       " 3672,\n",
       " 3728,\n",
       " 3812,\n",
       " 3876,\n",
       " 3908,\n",
       " 3936,\n",
       " 3984,\n",
       " 4116,\n",
       " 4128,\n",
       " 4176,\n",
       " 4192,\n",
       " 4204,\n",
       " 4364,\n",
       " 4384,\n",
       " 4428,\n",
       " 4596,\n",
       " 4600,\n",
       " 4612,\n",
       " 4644,\n",
       " 4652,\n",
       " 4660,\n",
       " 4668,\n",
       " 4676,\n",
       " 4684,\n",
       " 4692,\n",
       " 4712,\n",
       " 4720,\n",
       " 4732,\n",
       " 4740,\n",
       " 4748,\n",
       " 4760,\n",
       " 4768,\n",
       " 4776,\n",
       " 4784,\n",
       " 4792,\n",
       " 4800,\n",
       " 4808,\n",
       " 4820,\n",
       " 4828,\n",
       " 4836,\n",
       " 4844,\n",
       " 4852,\n",
       " 4872,\n",
       " 4880,\n",
       " 5028,\n",
       " 5040,\n",
       " 5196,\n",
       " 5332,\n",
       " 5360,\n",
       " 5428,\n",
       " 5432,\n",
       " 5440,\n",
       " 5464,\n",
       " 5484,\n",
       " 5560,\n",
       " 5636,\n",
       " 5668,\n",
       " 5744,\n",
       " 5976,\n",
       " 6320,\n",
       " 6360,\n",
       " 6436,\n",
       " 6484,\n",
       " 6576,\n",
       " 6596,\n",
       " 6684,\n",
       " 6724,\n",
       " 6744,\n",
       " 6752,\n",
       " 6768,\n",
       " 6844,\n",
       " 6912,\n",
       " 7040,\n",
       " 7128,\n",
       " 7400,\n",
       " 7424,\n",
       " 7728,\n",
       " 7760,\n",
       " 8124,\n",
       " 8236,\n",
       " 8248,\n",
       " 8252,\n",
       " 8408,\n",
       " 8448,\n",
       " 8516,\n",
       " 8576,\n",
       " 8616,\n",
       " 8888,\n",
       " 9032,\n",
       " 9184,\n",
       " 9372,\n",
       " 9476,\n",
       " 9520,\n",
       " 9528,\n",
       " 9664,\n",
       " 9704,\n",
       " 9744,\n",
       " 9956,\n",
       " 10108,\n",
       " 10132,\n",
       " 10264,\n",
       " 10408,\n",
       " 10660,\n",
       " 10688,\n",
       " 10880,\n",
       " 11064,\n",
       " 11108,\n",
       " 11140,\n",
       " 11288,\n",
       " 11344,\n",
       " 11360,\n",
       " 11416,\n",
       " 11504,\n",
       " 11536,\n",
       " 11560,\n",
       " 11600,\n",
       " 11604,\n",
       " 11704,\n",
       " 11776,\n",
       " 11828,\n",
       " 12092,\n",
       " 12148,\n",
       " 12324,\n",
       " 12348,\n",
       " 12480,\n",
       " 12524,\n",
       " 12556,\n",
       " 12656,\n",
       " 12820,\n",
       " 12956,\n",
       " 13068,\n",
       " 13112,\n",
       " 13328,\n",
       " 13384,\n",
       " 13552,\n",
       " 13560,\n",
       " 13632,\n",
       " 13692,\n",
       " 13744,\n",
       " 13832,\n",
       " 13840,\n",
       " 13884,\n",
       " 13940,\n",
       " 14028,\n",
       " 14068,\n",
       " 14080,\n",
       " 14200,\n",
       " 14388,\n",
       " 14688,\n",
       " 14700,\n",
       " 14736,\n",
       " 14756,\n",
       " 14812,\n",
       " 14832,\n",
       " 14908,\n",
       " 14940,\n",
       " 15020,\n",
       " 15056,\n",
       " 15120,\n",
       " 15328,\n",
       " 15340,\n",
       " 15384,\n",
       " 15568,\n",
       " 15572,\n",
       " 15628,\n",
       " 15692,\n",
       " 15980,\n",
       " 16036,\n",
       " 16044,\n",
       " 16100,\n",
       " 16164,\n",
       " 16216,\n",
       " 16332,\n",
       " 16380,\n",
       " 16392,\n",
       " 16408,\n",
       " 16432,\n",
       " 16480,\n",
       " 16596,\n",
       " 16672,\n",
       " 16708,\n",
       " 16728,\n",
       " 16832,\n",
       " 17048,\n",
       " 17124,\n",
       " 17272,\n",
       " 17284,\n",
       " 17332,\n",
       " 17616,\n",
       " 17820,\n",
       " 18012,\n",
       " 18056,\n",
       " 18136]"
      ]
     },
     "execution_count": 18,
     "metadata": {},
     "output_type": "execute_result"
    }
   ],
   "source": [
    "psutil.pids() # 所有进程ID"
   ]
  },
  {
   "cell_type": "code",
   "execution_count": 20,
   "id": "96407b28",
   "metadata": {
    "scrolled": true
   },
   "outputs": [],
   "source": [
    "p = psutil.Process(17820)"
   ]
  },
  {
   "cell_type": "code",
   "execution_count": 22,
   "id": "bd133445",
   "metadata": {},
   "outputs": [
    {
     "data": {
      "text/plain": [
       "'SettingSyncHost.exe'"
      ]
     },
     "execution_count": 22,
     "metadata": {},
     "output_type": "execute_result"
    }
   ],
   "source": [
    "p.name() # 进程名称"
   ]
  },
  {
   "cell_type": "code",
   "execution_count": 23,
   "id": "6622d0ce",
   "metadata": {},
   "outputs": [
    {
     "data": {
      "text/plain": [
       "'C:\\\\Windows\\\\System32\\\\SettingSyncHost.exe'"
      ]
     },
     "execution_count": 23,
     "metadata": {},
     "output_type": "execute_result"
    }
   ],
   "source": [
    "p.exe()  # 进程exe路径"
   ]
  },
  {
   "cell_type": "code",
   "execution_count": 24,
   "id": "4da6a474",
   "metadata": {},
   "outputs": [
    {
     "data": {
      "text/plain": [
       "'C:\\\\Windows\\\\system32'"
      ]
     },
     "execution_count": 24,
     "metadata": {},
     "output_type": "execute_result"
    }
   ],
   "source": [
    "p.cwd()  # 进程工作目录"
   ]
  },
  {
   "cell_type": "code",
   "execution_count": 26,
   "id": "dc6c98a7",
   "metadata": {},
   "outputs": [
    {
     "data": {
      "text/plain": [
       "1404"
      ]
     },
     "execution_count": 26,
     "metadata": {},
     "output_type": "execute_result"
    }
   ],
   "source": [
    "p.ppid()  # 父进程ID"
   ]
  },
  {
   "cell_type": "code",
   "execution_count": 27,
   "id": "09c08be6",
   "metadata": {},
   "outputs": [
    {
     "data": {
      "text/plain": [
       "psutil.Process(pid=1404, name='svchost.exe', status='running', started='22:13:44')"
      ]
     },
     "execution_count": 27,
     "metadata": {},
     "output_type": "execute_result"
    }
   ],
   "source": [
    "p.parent() # 父进程"
   ]
  },
  {
   "cell_type": "code",
   "execution_count": 28,
   "id": "d6e9aa5b",
   "metadata": {},
   "outputs": [
    {
     "data": {
      "text/plain": [
       "[]"
      ]
     },
     "execution_count": 28,
     "metadata": {},
     "output_type": "execute_result"
    }
   ],
   "source": [
    "p.children()"
   ]
  },
  {
   "cell_type": "code",
   "execution_count": 29,
   "id": "cd264309",
   "metadata": {},
   "outputs": [
    {
     "data": {
      "text/plain": [
       "'running'"
      ]
     },
     "execution_count": 29,
     "metadata": {},
     "output_type": "execute_result"
    }
   ],
   "source": [
    "p.status()"
   ]
  },
  {
   "cell_type": "code",
   "execution_count": 30,
   "id": "6aa42e2f",
   "metadata": {},
   "outputs": [
    {
     "data": {
      "text/plain": [
       "'LAPTOP-SC4EPB5A\\\\Fly'"
      ]
     },
     "execution_count": 30,
     "metadata": {},
     "output_type": "execute_result"
    }
   ],
   "source": [
    "p.username()"
   ]
  },
  {
   "cell_type": "code",
   "execution_count": 31,
   "id": "5ab81550",
   "metadata": {},
   "outputs": [
    {
     "data": {
      "text/plain": [
       "1637749726.0037377"
      ]
     },
     "execution_count": 31,
     "metadata": {},
     "output_type": "execute_result"
    }
   ],
   "source": [
    "p.create_time()"
   ]
  },
  {
   "cell_type": "code",
   "execution_count": 33,
   "id": "ca129cb3",
   "metadata": {},
   "outputs": [
    {
     "ename": "AttributeError",
     "evalue": "'Process' object has no attribute 'terminal'",
     "output_type": "error",
     "traceback": [
      "\u001b[1;31m---------------------------------------------------------------------------\u001b[0m",
      "\u001b[1;31mAttributeError\u001b[0m                            Traceback (most recent call last)",
      "\u001b[1;32m<ipython-input-33-536ace1e32f8>\u001b[0m in \u001b[0;36m<module>\u001b[1;34m\u001b[0m\n\u001b[1;32m----> 1\u001b[1;33m \u001b[0mp\u001b[0m\u001b[1;33m.\u001b[0m\u001b[0mterminal\u001b[0m\u001b[1;33m(\u001b[0m\u001b[1;33m)\u001b[0m\u001b[1;33m\u001b[0m\u001b[1;33m\u001b[0m\u001b[0m\n\u001b[0m",
      "\u001b[1;31mAttributeError\u001b[0m: 'Process' object has no attribute 'terminal'"
     ]
    }
   ],
   "source": [
    "p.terminal()"
   ]
  },
  {
   "cell_type": "code",
   "execution_count": 34,
   "id": "c014f593",
   "metadata": {},
   "outputs": [
    {
     "data": {
      "text/plain": [
       "pcputimes(user=0.890625, system=7.171875, children_user=0.0, children_system=0.0)"
      ]
     },
     "execution_count": 34,
     "metadata": {},
     "output_type": "execute_result"
    }
   ],
   "source": [
    "p.cpu_times()"
   ]
  },
  {
   "cell_type": "code",
   "execution_count": 35,
   "id": "65a8864c",
   "metadata": {},
   "outputs": [
    {
     "data": {
      "text/plain": [
       "pmem(rss=7262208, vms=9682944, num_page_faults=33899, peak_wset=61640704, wset=7262208, peak_paged_pool=442200, paged_pool=317296, peak_nonpaged_pool=51440, nonpaged_pool=28456, pagefile=9682944, peak_pagefile=35700736, private=9682944)"
      ]
     },
     "execution_count": 35,
     "metadata": {},
     "output_type": "execute_result"
    }
   ],
   "source": [
    "p.memory_info()"
   ]
  },
  {
   "cell_type": "code",
   "execution_count": 36,
   "id": "ceda8f72",
   "metadata": {},
   "outputs": [
    {
     "data": {
      "text/plain": [
       "[popenfile(path='C:\\\\Program Files\\\\WindowsApps\\\\Microsoft.LanguageExperiencePackzh-CN_19041.31.95.0_neutral__8wekyb3d8bbwe\\\\Windows\\\\System32\\\\zh-CN\\\\mswsock.dll.mui', fd=-1),\n",
       " popenfile(path='C:\\\\Windows\\\\System32\\\\en-US\\\\netmsg.dll.mui', fd=-1),\n",
       " popenfile(path='C:\\\\Windows\\\\System32\\\\zh-CN\\\\ESENT.dll.mui', fd=-1),\n",
       " popenfile(path='C:\\\\Program Files\\\\WindowsApps\\\\Microsoft.LanguageExperiencePackzh-CN_19041.31.95.0_neutral__8wekyb3d8bbwe\\\\Windows\\\\System32\\\\zh-CN\\\\propsys.dll.mui', fd=-1),\n",
       " popenfile(path='C:\\\\Windows\\\\System32\\\\en-US\\\\SettingSyncCore.dll.mui', fd=-1),\n",
       " popenfile(path='C:\\\\Program Files\\\\WindowsApps\\\\Microsoft.LanguageExperiencePackzh-CN_19041.31.95.0_neutral__8wekyb3d8bbwe\\\\Windows\\\\System32\\\\zh-CN\\\\crypt32.dll.mui', fd=-1),\n",
       " popenfile(path='C:\\\\Program Files\\\\WindowsApps\\\\Microsoft.LanguageExperiencePackzh-CN_19041.31.95.0_neutral__8wekyb3d8bbwe\\\\Windows\\\\System32\\\\zh-CN\\\\mpr.dll.mui', fd=-1),\n",
       " popenfile(path='C:\\\\Windows\\\\System32\\\\zh-CN\\\\netmsg.dll.mui', fd=-1),\n",
       " popenfile(path='C:\\\\Windows\\\\System32\\\\zh-CN\\\\KernelBase.dll.mui', fd=-1)]"
      ]
     },
     "execution_count": 36,
     "metadata": {},
     "output_type": "execute_result"
    }
   ],
   "source": [
    "p.open_files()"
   ]
  },
  {
   "cell_type": "code",
   "execution_count": 37,
   "id": "6c0e7f74",
   "metadata": {},
   "outputs": [
    {
     "data": {
      "text/plain": [
       "[]"
      ]
     },
     "execution_count": 37,
     "metadata": {},
     "output_type": "execute_result"
    }
   ],
   "source": [
    "p.connections()"
   ]
  },
  {
   "cell_type": "code",
   "execution_count": 38,
   "id": "4afdb523",
   "metadata": {},
   "outputs": [
    {
     "data": {
      "text/plain": [
       "4"
      ]
     },
     "execution_count": 38,
     "metadata": {},
     "output_type": "execute_result"
    }
   ],
   "source": [
    "p.num_threads()"
   ]
  },
  {
   "cell_type": "code",
   "execution_count": 40,
   "id": "c7aa5401",
   "metadata": {},
   "outputs": [
    {
     "data": {
      "text/plain": [
       "[pthread(id=17624, user_time=0.0, system_time=0.03125),\n",
       " pthread(id=16188, user_time=0.0, system_time=0.0),\n",
       " pthread(id=10888, user_time=0.0, system_time=0.0),\n",
       " pthread(id=7392, user_time=0.0, system_time=0.0)]"
      ]
     },
     "execution_count": 40,
     "metadata": {},
     "output_type": "execute_result"
    }
   ],
   "source": [
    "p.threads()"
   ]
  },
  {
   "cell_type": "code",
   "execution_count": 41,
   "id": "2e8df5f0",
   "metadata": {
    "scrolled": true
   },
   "outputs": [
    {
     "data": {
      "text/plain": [
       "{'ALLUSERSPROFILE': 'C:\\\\ProgramData',\n",
       " 'APPDATA': 'C:\\\\Users\\\\Fly\\\\AppData\\\\Roaming',\n",
       " 'COMMONPROGRAMFILES': 'C:\\\\Program Files\\\\Common Files',\n",
       " 'COMMONPROGRAMFILES(X86)': 'C:\\\\Program Files (x86)\\\\Common Files',\n",
       " 'COMMONPROGRAMW6432': 'C:\\\\Program Files\\\\Common Files',\n",
       " 'COMPUTERNAME': 'LAPTOP-SC4EPB5A',\n",
       " 'COMSPEC': 'C:\\\\Windows\\\\system32\\\\cmd.exe',\n",
       " 'DRIVERDATA': 'C:\\\\Windows\\\\System32\\\\Drivers\\\\DriverData',\n",
       " 'FPS_BROWSER_APP_PROFILE_STRING': 'Internet Explorer',\n",
       " 'FPS_BROWSER_USER_PROFILE_STRING': 'Default',\n",
       " 'HOMEDRIVE': 'C:',\n",
       " 'HOMEPATH': '\\\\Users\\\\Fly',\n",
       " 'LOCALAPPDATA': 'C:\\\\Users\\\\Fly\\\\AppData\\\\Local',\n",
       " 'LOGONSERVER': '\\\\\\\\LAPTOP-SC4EPB5A',\n",
       " 'NUMBER_OF_PROCESSORS': '16',\n",
       " 'ONEDRIVE': 'C:\\\\Users\\\\Fly嘉\\\\OneDrive',\n",
       " 'ONEDRIVECONSUMER': 'C:\\\\Users\\\\Fly嘉\\\\OneDrive',\n",
       " 'OS': 'Windows_NT',\n",
       " 'PATH': 'D:\\\\software\\\\Anaconda3;D:\\\\software\\\\Anaconda3\\\\Library\\\\mingw-w64\\\\bin;D:\\\\software\\\\Anaconda3\\\\Library\\\\usr\\\\bin;D:\\\\software\\\\Anaconda3\\\\Library\\\\bin;D:\\\\software\\\\Anaconda3\\\\Scripts;C:\\\\Windows\\\\system32;C:\\\\Windows;C:\\\\Windows\\\\System32\\\\Wbem;C:\\\\Windows\\\\System32\\\\WindowsPowerShell\\\\v1.0\\\\;C:\\\\Windows\\\\System32\\\\OpenSSH\\\\;D:\\\\software\\\\Git\\\\cmd;C:\\\\Users\\\\Fly\\\\AppData\\\\Local\\\\Microsoft\\\\WindowsApps;D:\\\\software\\\\Microsoft VS Code\\\\bin;D:\\\\software\\\\mysql-8.0.26-winx64\\\\bin',\n",
       " 'PATHEXT': '.COM;.EXE;.BAT;.CMD;.VBS;.VBE;.JS;.JSE;.WSF;.WSH;.MSC',\n",
       " 'PROCESSOR_ARCHITECTURE': 'AMD64',\n",
       " 'PROCESSOR_IDENTIFIER': 'AMD64 Family 25 Model 80 Stepping 0, AuthenticAMD',\n",
       " 'PROCESSOR_LEVEL': '25',\n",
       " 'PROCESSOR_REVISION': '5000',\n",
       " 'PROGRAMDATA': 'C:\\\\ProgramData',\n",
       " 'PROGRAMFILES': 'C:\\\\Program Files',\n",
       " 'PROGRAMFILES(X86)': 'C:\\\\Program Files (x86)',\n",
       " 'PROGRAMW6432': 'C:\\\\Program Files',\n",
       " 'PSMODULEPATH': '%ProgramFiles%\\\\WindowsPowerShell\\\\Modules;C:\\\\Windows\\\\system32\\\\WindowsPowerShell\\\\v1.0\\\\Modules',\n",
       " 'PUBLIC': 'C:\\\\Users\\\\Public',\n",
       " 'SYSTEMDRIVE': 'C:',\n",
       " 'SYSTEMROOT': 'C:\\\\Windows',\n",
       " 'TEMP': 'C:\\\\Users\\\\Fly\\\\AppData\\\\Local\\\\Temp',\n",
       " 'TMP': 'C:\\\\Users\\\\Fly\\\\AppData\\\\Local\\\\Temp',\n",
       " 'USERDOMAIN': 'LAPTOP-SC4EPB5A',\n",
       " 'USERDOMAIN_ROAMINGPROFILE': 'LAPTOP-SC4EPB5A',\n",
       " 'USERNAME': 'Fly',\n",
       " 'USERPROFILE': 'C:\\\\Users\\\\Fly',\n",
       " 'WINDIR': 'C:\\\\Windows'}"
      ]
     },
     "execution_count": 41,
     "metadata": {},
     "output_type": "execute_result"
    }
   ],
   "source": [
    "p.environ()"
   ]
  },
  {
   "cell_type": "code",
   "execution_count": 42,
   "id": "4787c7b6",
   "metadata": {},
   "outputs": [
    {
     "name": "stdout",
     "output_type": "stream",
     "text": [
      "USER         PID  %MEM     VSZ     RSS  NICE STATUS  START   TIME  CMDLINE\n",
      "SYSTEM         0   0.0   60.0K    8.0K        runni         31:55  System Idle P\n",
      "SYSTEM         4   0.0  208.0K    4.0M        runni         06:21  System\n",
      "             172   0.3   13.0M   39.6M        runni  Nov23  00:02  Registry\n",
      "             580   0.0    1.1M  848.0K        runni  Nov23  00:00  smss.exe\n",
      "             608   0.0    2.3M    5.1M        runni  Nov23  00:02  csrss.exe\n",
      "             696   0.1    2.3M   10.5M        runni  Nov23  00:00  svchost.exe\n",
      "Fly          940   0.4   50.6M   52.7M    32  stopp  Nov23  00:01  C:\\Program Fi\n",
      "Fly         1012   0.5   62.1M   75.1M    32  runni  19:56  00:01  C:\\Users\\Fly\\\n",
      "            1112   0.0    1.5M    4.1M        runni  Nov23  00:00  wininit.exe\n",
      "            1124   0.0    5.7M    5.1M        runni  Nov23  00:33  csrss.exe\n",
      "Fly         1128   0.2    7.0M   32.2M    32  runni  Nov23  00:08  C:\\Windows\\Sy\n",
      "            1216   0.1    3.6M    8.7M        runni  Nov23  00:00  winlogon.exe\n",
      "            1256   0.1    6.6M    8.5M        runni  Nov23  00:11  services.exe\n",
      "            1276   0.1    9.9M   20.2M        runni  Nov23  00:14  lsass.exe\n",
      "Fly         1400   0.0    1.4M    4.2M    32  runni  Nov23  00:00  jupyter noteb\n",
      "            1404   0.2   13.1M   30.3M        runni  Nov23  00:20  svchost.exe\n",
      "            1428   0.0    1.9M    1.8M        runni  Nov23  00:00  fontdrvhost.e\n",
      "            1436   0.1    4.9M   17.9M        runni  Nov23  00:04  fontdrvhost.e\n",
      "            1520   0.1   10.0M   14.4M        runni  Nov23  00:26  svchost.exe\n",
      "            1576   0.0    2.6M    6.3M        runni  Nov23  00:02  svchost.exe\n",
      "Fly         1584   1.2  133.5M  163.8M    32  runni  19:55  00:49  D:\\software\\W\n",
      "            1628   0.0    7.3M    5.7M        runni  Nov23  00:01  WUDFHost.exe\n",
      "            1656   0.6  160.2M   79.2M        runni  Nov23  07:57  dwm.exe\n",
      "Fly         1708   0.2   11.9M   25.3M    32  runni  19:55  00:00  C:\\Users\\Fly\\\n",
      "            1800   0.0    1.7M    3.7M        runni  Nov23  00:00  WUDFHost.exe\n",
      "            1816   0.1    4.1M   15.5M        runni  Nov23  00:05  svchost.exe\n",
      "Fly         1852   0.0    6.9M    6.8M    32  runni  19:00  00:00  \\??\\C:\\Window\n",
      "            1864   0.0    1.7M    4.1M        runni  Nov23  00:00  svchost.exe\n",
      "            1956   0.0    1.6M    3.8M        runni  Nov23  00:00  WUDFHost.exe\n",
      "            1964   0.1    6.9M   11.3M        runni  Nov23  00:05  svchost.exe\n",
      "Fly         1992   0.2    8.5M   29.1M    32  runni  Nov23  00:13  sihost.exe\n",
      "            2024   0.0    2.4M    5.1M        runni  Nov23  00:00  svchost.exe\n",
      "            2028   0.1   34.0M   10.3M        runni  Nov23  00:28  svchost.exe\n",
      "            2036   0.1    2.7M    7.5M        runni  Nov23  00:00  svchost.exe\n",
      "            2068   0.0    3.4M    6.0M        runni  Nov23  00:00  svchost.exe\n",
      "            2076   0.1    2.7M    8.0M        runni  Nov23  00:02  svchost.exe\n",
      "Fly         2084   0.0    6.5M    5.2M    32  runni  Nov23  00:00  D:\\software\\A\n",
      "            2132   0.0    1.7M    4.3M        runni  Nov23  00:00  svchost.exe\n",
      "Fly         2188   0.2   10.8M   31.7M    32  runni  Nov23  00:05  C:\\Windows\\sy\n",
      "            2192   0.1   17.9M   12.3M        runni  Nov23  00:01  svchost.exe\n",
      "            2200   0.0    1.6M    4.5M        runni  Nov23  00:00  svchost.exe\n",
      "Fly         2284   0.1   15.9M   16.7M    32  runni  Nov23  00:03  C:\\Program Fi\n",
      "Fly         2312   0.0    6.5M    5.2M    32  runni  Nov23  00:00  D:\\software\\A\n",
      "            2420   0.1    2.9M    9.1M        runni  Nov23  00:00  svchost.exe\n",
      "            2580   0.0    6.5M    5.7M        runni  Nov23  00:00  svchost.exe\n",
      "            2688   0.0    2.6M    5.5M        runni  Nov23  00:01  svchost.exe\n",
      "            2736   0.1    2.7M   10.4M        runni  Nov23  00:25  svchost.exe\n",
      "            2840   0.0    3.8M    4.8M        runni  Nov23  00:00  amdfendrsr.ex\n",
      "            2848   0.0    1.5M    4.0M        runni  Nov23  00:00  atiesrxx.exe\n",
      "Fly         2868   0.4   31.5M   59.4M    32  runni  Nov23  00:02  C:\\Program Fi\n",
      "            2900   0.1    3.6M    7.9M        runni  Nov23  00:07  svchost.exe\n",
      "            2916   0.1    5.2M    9.6M        runni  Nov23  00:01  svchost.exe\n",
      "            2936   0.1   11.0M   15.2M        runni  Nov23  00:17  svchost.exe\n",
      "Fly         2948   0.0    2.8M    3.1M    32  runni  Nov23  00:00  cmd.exe /C C:\n",
      "            3064   0.1    8.5M   12.8M        runni  Nov23  00:00  svchost.exe\n",
      "            3136   0.1    3.2M   12.7M        runni  Nov23  00:28  svchost.exe\n",
      "            3144   0.0    1.4M    3.8M        runni  Nov23  00:00  svchost.exe\n",
      "            3152   0.1    2.4M    8.2M        runni  Nov23  00:08  atieclxx.exe\n",
      "            3160   0.0    2.0M    5.0M        runni  Nov23  00:00  svchost.exe\n",
      "Fly         3176   0.2    9.0M   33.0M    32  runni  Nov23  00:02  C:\\Windows\\sy\n",
      "            3244   5.2    1.6M  736.0M        runni  Nov23  00:08  MemCompressio\n",
      "            3284   0.1    2.4M    7.7M        runni  Nov23  00:00  svchost.exe\n",
      "            3312   0.0    2.3M    5.6M        runni  Nov23  00:03  svchost.exe\n",
      "            3320   0.0    2.0M    6.9M        runni  Nov23  00:00  svchost.exe\n",
      "            3508   0.1    3.8M   13.0M        runni  Nov23  00:15  svchost.exe\n",
      "            3560   0.0    1.3M    4.3M        runni  18:58  00:00  svchost.exe\n",
      "Fly         3584   0.2   57.0M   26.5M    32  runni  Nov23  00:02  D:\\software\\A\n",
      "Fly         3604   0.4   31.8M   60.2M    32  runni  Nov23  00:03  C:\\Program Fi\n",
      "Fly         3624   0.0    7.1M    6.4M    32  runni  19:00  00:00  D:\\software\\G\n",
      "            3648   0.2   23.9M   24.7M        runni  Nov23  00:23  ZhuDongFangYu\n",
      "            3656   0.0    1.9M    5.0M        runni  Nov23  00:00  svchost.exe\n",
      "            3664   0.1    6.4M    8.4M        runni  Nov23  00:18  svchost.exe\n",
      "            3672   0.1    3.0M    7.5M        runni  Nov23  00:00  svchost.exe\n",
      "Fly         3728   0.6   43.9M   83.1M    64  runni  20:48  00:02  C:\\Program Fi\n",
      "            3812   0.0    2.5M    6.7M        runni  Nov23  00:04  svchost.exe\n",
      "Fly         3876   0.4   71.1M   56.5M    32  runni  20:58  00:02  D:/software/A\n",
      "            3908   0.1    6.9M   14.6M        runni  Nov23  00:01  svchost.exe\n",
      "            3936   0.1    2.6M    9.2M        runni  Nov23  00:00  svchost.exe\n",
      "            3984   0.1    5.9M    9.9M        runni  Nov23  00:00  spoolsv.exe\n",
      "            4116   0.1    8.4M   17.0M        runni  Nov23  00:02  svchost.exe\n",
      "            4128   0.1   11.9M   11.7M        runni  Nov23  00:04  svchost.exe\n",
      "            4176   0.0    2.0M    6.4M        runni  Nov23  00:00  wlanext.exe\n",
      "            4192   0.0    2.1M    5.7M        runni  Nov23  00:00  svchost.exe\n",
      "            4204   0.0    6.1M    3.7M        runni  Nov23  00:00  conhost.exe\n",
      "Fly         4364   0.0    6.6M    5.2M    32  runni  Nov23  00:00  D:\\software\\A\n",
      "            4384   0.0    2.1M    6.5M        runni  Nov23  00:00  Intel_PIE_Ser\n",
      "Fly         4428   0.1    8.3M   14.3M    32  runni  19:55  00:00  C:\\Users\\Fly\\\n",
      "Fly         4596   0.0    6.7M    6.2M    32  runni  Nov23  00:00  \\??\\C:\\Window\n",
      "            4600   0.2  109.2M   22.3M        runni  Nov23  01:44  dgservice.exe\n",
      "            4612   0.2   19.5M   27.6M        runni  Nov23  00:04  svchost.exe\n",
      "            4644   0.3   36.0M   36.9M        runni  Nov23  00:01  OfficeClickTo\n",
      "            4652   0.0    1.5M    5.5M        runni  Nov23  00:00  Everything.ex\n",
      "            4660   0.0    1.7M    5.2M        runni  Nov23  00:00  FMService64.e\n",
      "            4668   0.1    6.4M   13.3M        runni  Nov23  00:01  DAX3API.exe\n",
      "            4676   0.1    5.0M   14.3M        runni  Nov23  00:01  LISFService.e\n",
      "            4684   0.1    3.1M    9.0M        runni  Nov23  00:00  svchost.exe\n",
      "            4692   0.1   15.2M   17.3M        runni  Nov23  00:04  lenovodrvsrv.\n",
      "            4712   0.3   41.6M   45.6M        runni  Nov23  00:10  svchost.exe\n",
      "            4720   0.3   42.7M   44.8M        runni  Nov23  00:00  SunloginClien\n",
      "            4732   0.1   14.8M   16.2M        runni  Nov23  00:00  QQProtect.exe\n",
      "            4740   0.2   10.3M   30.1M        runni  Nov23  00:06  LenovoPcManag\n",
      "            4748   0.1    7.9M   13.4M        runni  Nov23  00:00  svchost.exe\n",
      "            4760   0.2   30.5M   30.1M        runni  Nov23  00:10  UDClientServi\n",
      "            4768   0.1    4.6M   13.0M        runni  Nov23  00:01  svchost.exe\n",
      "            4776   0.0    1.6M    4.9M        runni  Nov23  00:00  WmiApSrv.exe\n",
      "            4784   0.1   15.9M   17.8M        runni  Nov23  10:39  svchost.exe\n",
      "            4792   0.1    2.6M    7.6M        runni  Nov23  00:01  RtkAudUServic\n",
      "            4800   0.1    6.3M   12.5M        runni  Nov23  00:38  LNBITSSvc.exe\n",
      "            4808   0.0    1.3M    3.9M        runni  Nov23  00:00  LenovoUtility\n",
      "            4820   0.0    1.6M    4.3M        runni  Nov23  00:00  svchost.exe\n",
      "            4828   0.1    5.2M   14.6M        runni  Nov23  00:00  SLBService.ex\n",
      "            4836   0.1    5.1M   19.8M        runni  Nov23  00:00  svchost.exe\n",
      "            4844   0.0    1.3M    3.7M        runni  Nov23  00:00  svchost.exe\n",
      "            4852   0.1   21.3M    7.5M        runni  Nov23  00:00  mysqld.exe\n",
      "            4872   0.1   11.9M   10.7M        runni  Nov23  00:41  ToDesk_Servic\n",
      "Fly         4880   0.0    2.3M    2.9M    32  runni  Nov23  00:00  C:\\Windows\\sy\n",
      "Fly         5028   1.9  528.1M  274.0M 32768  runni  Nov23  15:32  C:\\Program Fi\n",
      "            5040   0.0    2.4M    7.1M        runni  Nov23  00:00  svchost.exe\n",
      "            5196   0.1   11.3M   18.1M        runni  Nov23  00:00  svchost.exe\n",
      "            5332   0.1    3.5M    9.4M        runni  Nov23  00:00  svchost.exe\n",
      "Fly         5360   0.2   20.7M   27.2M    32  runni  Nov23  00:00  C:\\Program Fi\n",
      "Fly         5428   0.1   10.3M   18.1M    32  runni  Nov23  00:02  taskhostw.exe\n",
      "            5432   0.0    1.2M    4.6M        runni  Nov23  00:00  svchost.exe\n",
      "            5440   0.0    1.5M    4.5M        runni  Nov23  00:00  svchost.exe\n",
      "            5464   0.1    3.1M    8.0M        runni  Nov23  00:00  svchost.exe\n",
      "            5484   0.0    1.3M    3.8M        runni  Nov23  00:00  svchost.exe\n",
      "            5560   0.0  656.0K    1.9M        runni  Nov23  00:00  Locator.exe\n"
     ]
    },
    {
     "name": "stdout",
     "output_type": "stream",
     "text": [
      "Fly         5568   0.2   13.0M   23.5M    64  runni  22:03  00:00  C:\\Users\\Fly\\\n",
      "Fly         5636   0.0    1.4M    4.2M    32  runni  Nov23  00:00  jupyter noteb\n",
      "Fly         5668   0.2    6.9M   26.6M    32  runni  Nov23  00:04  C:\\Windows\\Sy\n",
      "Fly         5744   0.1    2.5M    8.0M    32  runni  Nov23  00:00  C:\\Windows\\Sy\n",
      "Fly         6316   0.3   15.8M   39.9M    32  runni  22:06  00:00  C:\\Program Fi\n",
      "            6320   0.5  490.3M   64.4M        runni  Nov23  00:01  mysqld.exe\n",
      "            6360   0.0    6.6M    5.7M        runni  Nov23  00:00  conhost.exe\n",
      "Fly         6436   0.1   37.4M   14.3M    32  runni  20:39  00:01  D:/software/A\n",
      "Fly         6484   0.1    4.1M   16.5M    32  runni  Nov23  00:03  C:\\Windows\\Sy\n",
      "Fly         6576   0.3   56.1M   39.0M   128  runni  Nov23  00:02  D:\\software\\T\n",
      "            6596   0.0    2.8M    6.7M        runni  Nov23  00:02  unsecapp.exe\n",
      "Fly         6684   0.0    1.4M    4.2M    32  runni  Nov23  00:00  D:\\software\\A\n",
      "            6724   0.1    3.2M    8.7M        runni  Nov23  00:00  WmiPrvSE.exe\n",
      "            6744   0.3   40.5M   41.8M        runni  Nov23  00:00  SunloginClien\n",
      "Fly         6752   0.1    5.1M   16.4M    32  runni  Nov23  00:02  C:\\Program Fi\n",
      "            6768   0.2   42.8M   30.3M        runni  Nov23  01:30  svchost.exe\n",
      "            6844   0.1    2.9M    8.4M        runni  Nov23  00:00  DAX3API.exe\n",
      "Fly         6912   0.4   33.5M   52.8M    64  runni  20:48  00:00  C:\\Program Fi\n",
      "Fly         7040   0.4   42.9M   56.6M    64  runni  20:38  00:01  C:\\Program Fi\n",
      "            7128   0.2   15.0M   25.7M        runni  Nov23  00:14  MoUsoCoreWork\n",
      "            7220   0.1    2.5M    9.1M        runni  22:04  00:00  svchost.exe\n",
      "Fly         7400   0.3   21.5M   49.5M    32  runni  20:58  00:00  C:\\Program Fi\n",
      "            7424   0.1    5.8M    9.8M        runni  Nov23  00:03  svchost.exe\n",
      "            7728   0.0    1.9M    5.9M        runni  Nov23  00:00  wsctrl.exe\n",
      "Fly         7760   0.0    1.4M    4.2M    32  runni  Nov23  00:00  D:\\software\\A\n",
      "Fly         8124   1.1   82.6M  160.2M    32  stopp  Nov23  00:04  C:\\Program Fi\n",
      "Fly         8236   0.0    1.4M    4.2M    32  runni  Nov23  00:00  D:\\software\\A\n",
      "Fly         8248   0.3   21.4M   45.5M    32  runni  Nov23  00:00  C:\\Program Fi\n",
      "            8252   0.0    1.8M    6.1M        runni  Nov23  00:00  svchost.exe\n",
      "Fly         8308   0.2   13.1M   25.9M    64  runni  22:02  00:00  C:\\Program Fi\n",
      "Fly         8408   0.1    5.3M   17.6M    32  runni  Nov23  00:00  C:\\Windows\\Sy\n",
      "            8448   0.0    1.7M    4.6M        runni  Nov23  00:00  svchost.exe\n",
      "            8516   0.0    3.1M    6.3M        runni  Nov23  00:00  svchost.exe\n",
      "            8576   0.1    4.5M    7.9M        runni  Nov23  00:00  dasHost.exe\n",
      "Fly         8616   0.1   69.1M   15.2M    32  runni  20:39  00:01  D:/software/A\n",
      "Fly         8888   0.6   47.1M   83.5M    64  runni  20:48  00:02  C:\\Program Fi\n",
      "Fly         9016   1.0   83.7M  143.9M    64  runni  22:02  00:03  C:\\Program Fi\n",
      "            9032   0.1    3.7M    9.4M        runni  Nov23  00:00  dllhost.exe\n",
      "            9184   0.1    5.6M   20.7M        runni  Nov23  00:00  svchost.exe\n",
      "            9372   0.4   58.4M   58.8M        runni  Nov23  00:12  Lenovo.Modern\n",
      "            9476   0.0    2.0M    5.7M        runni  Nov23  00:00  svchost.exe\n",
      "Fly         9520   0.4   19.3M   54.8M   128  runni  Nov23  00:42  ctfmon.exe\n",
      "            9528   0.0    6.3M    6.8M        runni  Nov23  00:00  SgrmBroker.ex\n",
      "            9664   0.1    5.1M   14.1M        runni  Nov23  00:00  svchost.exe\n",
      "Fly         9704   0.6   47.2M   91.8M    32  runni  21:21  00:09  C:\\Program Fi\n",
      "Fly         9744   1.2  137.3M  176.9M    32  runni  Nov23  02:11  C:\\Windows\\Ex\n",
      "            9956   0.1    2.3M    7.6M        runni  Nov23  00:00  svchost.exe\n",
      "           10108   0.0    2.6M    6.0M        runni  Nov23  00:00  svchost.exe\n",
      "Fly        10132   0.1    2.1M    8.4M    32  runni  Nov23  00:00  C:\\Windows\\Sy\n",
      "           10264   0.3   37.8M   41.1M        runni  Nov23  00:15  SearchIndexer\n",
      "Fly        10408   0.0    1.5M    5.2M    32  runni  Nov23  00:00  C:\\Windows\\Sy\n",
      "Fly        10660   0.0    2.5M    3.1M    32  runni  Nov23  00:00  cmd.exe /C C:\n",
      "Fly        10688   0.4   27.7M   56.4M    32  runni  Nov23  00:03  C:\\Program Fi\n",
      "Fly        10840   0.8   60.3M  114.9M    64  runni  21:32  00:07  C:\\Program Fi\n",
      "           10880   0.1   10.0M   20.3M    32  runni  Nov23  00:01  D:\\software\\驱\n",
      "Fly        11108   0.1    6.9M    7.2M    32  runni  Nov23  00:00  \\??\\C:\\Window\n",
      "Fly        11140   0.1    3.8M   19.0M    32  runni  Nov23  00:00  C:\\Windows\\sy\n",
      "Fly        11288   0.1    6.2M   10.6M    32  runni  Nov23  00:00  C:\\Program Fi\n",
      "           11344   0.0    1.6M    1.1M        runni  Nov23  00:00  GoogleCrashHa\n",
      "Fly        11360   0.2   57.0M   26.5M    32  runni  Nov23  00:02  D:\\software\\A\n",
      "           11416   0.0    1.6M  960.0K        runni  Nov23  00:00  GoogleCrashHa\n",
      "Fly        11504   0.2    9.1M   21.8M    32  runni  Nov23  00:00  C:\\Program Fi\n",
      "Fly        11536   0.1    5.7M   16.1M    32  runni  Nov23  00:00  C:\\Program Fi\n",
      "Fly        11560   0.1    3.8M    9.5M    32  runni  Nov23  00:00  C:\\Windows\\sy\n",
      "Fly        11600   0.1    4.4M   21.0M    32  runni  Nov23  00:00  C:\\Windows\\Sy\n",
      "Fly        11604   0.1   54.7M   13.6M    32  runni  Nov23  01:19  D:\\software\\驱\n",
      "Fly        11704   0.1    3.3M   13.5M    32  runni  Nov23  00:00  -s -ignore\n",
      "Fly        11828   1.3  115.9M  189.1M    32  runni  Nov23  03:03  C:\\Program Fi\n",
      "Fly        12092   0.4   20.5M   55.1M    32  runni  Nov23  00:27  C:\\Windows\\Sy\n",
      "Fly        12148   0.4   23.9M   58.9M    32  runni  Nov23  00:02  C:\\Windows\\Sy\n",
      "Fly        12324   0.3   30.9M   48.9M    64  runni  19:30  00:00  C:\\Program Fi\n",
      "           12348   0.0    1.9M    6.4M        runni  18:58  00:00  svchost.exe\n",
      "Fly        12480   0.0    1.6M    6.9M    32  runni  Nov23  00:00  C:\\Windows\\sy\n",
      "           12524   0.1    3.0M   10.6M        runni  Nov23  00:25  svchost.exe\n",
      "Fly        12556   1.1   88.1M  154.2M    32  stopp  Nov23  00:04  C:\\Windows\\Sy\n",
      "Fly        12656   0.2    6.8M   25.4M    32  runni  Nov23  00:00  C:\\Windows\\Sy\n",
      "Fly        12820   0.5   45.3M   65.3M    64  runni  20:33  00:01  C:\\Program Fi\n",
      "Fly        12956   0.2    7.7M   28.1M    32  runni  Nov23  00:01  C:\\Windows\\Sy\n",
      "Fly        13068   0.1   29.1M   16.9M    32  stopp  Nov23  00:00  C:\\Program Fi\n",
      "Fly        13112   0.0    1.4M    5.0M    32  runni  Nov23  00:00  C:\\Users\\Fly\\\n",
      "Fly        13328   0.0   24.0M    1.7M    32  stopp  Nov23  00:00  C:\\Windows\\Im\n",
      "Fly        13384   0.0    2.1M    6.9M    32  runni  Nov23  00:00  C:\\Windows\\Sy\n",
      "Fly        13552   0.3   18.2M   44.3M    32  runni  19:55  00:00  C:\\Users\\Fly\\\n",
      "Fly        13560   0.6   77.4M   87.5M 32768  runni  19:55  00:01  C:\\Users\\Fly\\\n",
      "Fly        13692   0.8   67.7M  114.9M    64  runni  20:38  00:12  C:\\Program Fi\n",
      "           13744   0.1    2.2M    9.1M        runni  Nov23  00:00  svchost.exe\n",
      "Fly        13832   0.2   31.3M   33.6M    32  runni  Nov23  00:08  C:\\Program Fi\n",
      "           13840   0.1    4.6M   20.0M        runni  Nov23  00:00  svchost.exe\n",
      "Fly        13884   0.3   20.4M   43.1M    32  runni  Nov23  00:07  C:\\Program Fi\n",
      "Fly        13940   0.3   42.1M   49.6M    32  runni  20:57  00:03  D:\\software\\v\n",
      "Fly        14028   0.4   38.4M   55.3M    64  runni  20:33  00:00  C:\\Program Fi\n",
      "Fly        14068   0.5   43.4M   64.9M    32  runni  Nov23  00:17  C:\\Windows\\Sy\n",
      "Fly        14080   0.3   14.4M   47.6M    32  stopp  Nov23  00:00  C:\\Windows\\Sy\n",
      "Fly        14200   0.2   11.2M   33.4M    32  runni  Nov23  00:04  C:\\Windows\\Sy\n",
      "Fly        14388   0.6   51.4M   89.9M    32  runni  20:39  00:59  C:\\Program Fi\n",
      "Fly        14688   0.1    4.1M   10.0M    32  runni  Nov23  00:01  C:\\Windows\\Sy\n",
      "Fly        14700   0.0    6.9M    6.7M    32  runni  Nov23  00:00  \\??\\C:\\Window\n",
      "Fly        14736   0.5   54.6M   65.7M    64  runni  20:46  00:02  C:\\Program Fi\n",
      "           14756   0.1    4.8M   10.3M        runni  Nov23  00:00  SecurityHealt\n",
      "Fly        14812   0.5  137.1M   70.0M    32  runni  Nov23  00:11  D:\\software\\s\n",
      "Fly        14832   0.3   40.3M   39.9M   128  runni  20:57  00:21  D:\\software\\v\n",
      "Fly        14864   0.3   17.4M   35.5M    32  runni  22:02  00:00  C:\\Users\\Fly\\\n",
      "Fly        14908   0.9  243.7M  128.5M    64  runni  18:41  24:30  C:\\Program Fi\n",
      "           14940   0.1    6.6M    9.4M        runni  20:18  00:00  svchost.exe\n",
      "Fly        15020   0.3   50.2M   43.9M    32  runni  Nov23  00:44  C:\\Users\\Fly\\\n",
      "Fly        15056   0.1    3.4M   18.9M    32  runni  Nov23  00:00  C:\\Windows\\Sy\n",
      "Fly        15120   0.0    1.4M    3.6M    32  runni  19:00  00:00  D:\\software\\G\n",
      "Fly        15328   0.3   14.7M   41.9M    32  runni  Nov23  00:09  C:\\Users\\Fly\\\n"
     ]
    },
    {
     "name": "stdout",
     "output_type": "stream",
     "text": [
      "Fly        15340   0.0    2.3M    2.8M    32  runni  Nov23  00:00  C:\\Windows\\sy\n",
      "Fly        15384   0.1    1.9M    7.2M    32  runni  Nov23  00:00  C:\\Windows\\sy\n",
      "           15568   0.1    4.8M   17.6M        runni  Nov23  00:00  svchost.exe\n",
      "Fly        15572   0.1    8.0M   16.2M    32  runni  19:00  00:02  usr\\bin\\mintt\n",
      "Fly        15628   0.3   22.8M   42.2M    32  runni  Nov23  01:14  C:\\Program Fi\n",
      "Fly        15692   0.2    4.7M   23.1M    32  runni  Nov23  00:01  C:\\Windows\\Sy\n",
      "Fly        15696   0.7   46.0M   97.4M    64  runni  21:31  00:11  C:\\Program Fi\n",
      "           15764   0.2   13.7M   21.5M        runni  22:00  00:00  svchost.exe\n",
      "           15980   0.0    2.1M    6.7M        runni  Nov23  00:01  svchost.exe\n",
      "Fly        16036   0.1    6.0M   20.3M    32  runni  Nov23  00:02  C:\\Program Fi\n",
      "Fly        16044   0.4   41.0M   60.1M    64  runni  18:42  00:01  C:\\Program Fi\n",
      "Fly        16100   0.2   24.8M   28.8M    32  runni  Nov23  00:00  C:\\Windows\\sy\n",
      "Fly        16164   0.1    3.3M   10.1M    32  runni  Nov23  00:00  D:\\software\\印\n",
      "Fly        16216   0.1   15.4M   16.0M    32  runni  19:55  00:01  C:\\Users\\Fly\\\n",
      "Fly        16332   0.3   40.9M   46.0M    32  runni  18:31  00:06  -name 14015b2\n",
      "Fly        16380   0.1    6.2M   18.9M    32  runni  Nov23  00:01  C:\\Windows\\sy\n",
      "Fly        16392   0.0    2.6M    3.1M    32  runni  Nov23  00:00  cmd.exe /C C:\n",
      "Fly        16408   0.3   67.0M   46.0M    32  runni  Nov23  00:15  D:\\software\\A\n",
      "Fly        16432   0.1    7.4M    7.3M    32  runni  Nov23  00:00  D:\\software\\A\n",
      "Fly        16440   0.6   46.1M   90.3M    64  runni  21:31  00:02  C:\\Program Fi\n",
      "Fly        16480   1.3  530.6M  185.9M    32  runni  Nov23  00:39  D:\\software\\A\n",
      "           16596   0.1   84.5M   19.1M    32  runni  20:30  00:44  C:\\Windows\\sy\n",
      "Fly        16672   0.0    1.4M    4.2M    32  runni  Nov23  00:00  jupyter noteb\n",
      "           16708   0.2   11.8M   22.6M        runni  Nov23  07:01  WmiPrvSE.exe\n",
      "Fly        16728   0.9   88.6M  130.2M    32  runni  Nov23  00:58  C:\\Program Fi\n",
      "Fly        16832   0.1    2.8M    8.2M    32  runni  Nov23  00:00  C:\\Program Fi\n",
      "Fly        16908   0.9   79.7M  129.2M    64  runni  21:56  00:03  C:\\Program Fi\n",
      "           17048   0.1   11.0M   18.4M        runni  Nov23  00:40  svchost.exe\n",
      "Fly        17124   0.1    7.7M   18.1M    32  runni  18:37  00:30  C:\\Program Fi\n",
      "Fly        17272   0.0    6.9M    6.7M    32  runni  Nov23  00:00  \\??\\C:\\Window\n",
      "Fly        17284   0.0    2.3M    2.8M    32  runni  Nov23  00:00  C:\\Windows\\sy\n",
      "           17332   0.1    3.2M    8.7M        runni  Nov23  00:00  svchost.exe\n",
      "Fly        17616   1.0  395.0M  138.9M    64  runni  20:33  06:22  C:\\Program Fi\n",
      "Fly        17820   0.0    9.2M    6.6M 16384  runni  18:28  00:08  C:\\Windows\\sy\n",
      "Fly        18012   0.5   87.5M   75.8M    64  runni  18:37  00:33  C:\\Program Fi\n",
      "Fly        18056   0.0   19.1M    1.6M    32  stopp  18:37  00:00  C:\\Program Fi\n",
      "Fly        18136   0.6   49.0M   85.0M    64  runni  21:04  00:02  C:\\Program Fi\n"
     ]
    }
   ],
   "source": [
    "psutil.test()"
   ]
  },
  {
   "cell_type": "markdown",
   "id": "36559753",
   "metadata": {},
   "source": [
    "#### 小结"
   ]
  },
  {
   "cell_type": "markdown",
   "id": "2efccdf8",
   "metadata": {},
   "source": [
    "psutil 使得Python程序获取系统信息变得易如反掌\n",
    "\n",
    "psutil 还可以获取用户信息、Windows服务等很多的系统信息，具体请参考psutil的官网"
   ]
  },
  {
   "cell_type": "code",
   "execution_count": null,
   "id": "3240e2fd",
   "metadata": {},
   "outputs": [],
   "source": []
  }
 ],
 "metadata": {
  "kernelspec": {
   "display_name": "Python 3",
   "language": "python",
   "name": "python3"
  },
  "language_info": {
   "codemirror_mode": {
    "name": "ipython",
    "version": 3
   },
   "file_extension": ".py",
   "mimetype": "text/x-python",
   "name": "python",
   "nbconvert_exporter": "python",
   "pygments_lexer": "ipython3",
   "version": "3.8.8"
  }
 },
 "nbformat": 4,
 "nbformat_minor": 5
}
